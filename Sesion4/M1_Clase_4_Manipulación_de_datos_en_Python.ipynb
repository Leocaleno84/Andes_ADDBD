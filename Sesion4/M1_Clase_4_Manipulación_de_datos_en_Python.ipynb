{
  "cells": [
    {
      "cell_type": "markdown",
      "metadata": {
        "id": "view-in-github",
        "colab_type": "text"
      },
      "source": [
        "<a href=\"https://colab.research.google.com/github/jazaineam1/Andes_ADDBD/blob/main/Sesion4/M1_Clase_4_Manipulaci%C3%B3n_de_datos_en_Python.ipynb\" target=\"_parent\"><img src=\"https://colab.research.google.com/assets/colab-badge.svg\" alt=\"Open In Colab\"/></a>"
      ]
    },
    {
      "cell_type": "markdown",
      "metadata": {
        "id": "82JqupGZDCbm"
      },
      "source": [
        "# ***Análisis de Datos y Big data***\n",
        "\n",
        "## ***Universidad de los Andes***\n",
        ">## **Dirección de Educación Continua.**\n",
        ">>## **Formación de habilidades escenciales.**\n",
        "\n",
        "![Imágen1](https://github.com/jazaineam1/Andes_ADDBD/blob/main/Imagenes/Presentaci%C3%B3n-removebg-preview.png?raw=true)\n",
        "\n",
        "## **Manipulación de datos en Python**\n",
        "## **Módulo 1**"
      ]
    },
    {
      "cell_type": "markdown",
      "metadata": {
        "id": "sHYuXLNZ05sZ"
      },
      "source": [
        "**Hoy aprenderemos a:**\n",
        "* Cargar bases de datos en Python.\n",
        "* Mirar con ojo analítico las bases cargadas.\n",
        "* Ejecutar operaciones de limpieza que involucran filtrar, seleccionar datos, reemplazar y eliminar.\n",
        "* Manejo de valores vacíos.\n",
        "</br>**Además, aprenderemos a:**\n",
        "* Describir la relación entre bases de datos que están en tablas separadas.\n",
        "* Unir verticalmente cuando queremos agregar datos adicionales.\n",
        "* Unir hizontalmente cuando queremos agregar columnas a los mismos datos."
      ]
    },
    {
      "cell_type": "markdown",
      "metadata": {
        "id": "dXCIivA43DPK"
      },
      "source": [
        "## 1. Carga y limpieza de datos"
      ]
    },
    {
      "cell_type": "markdown",
      "metadata": {
        "id": "wywxmmGv9gf-"
      },
      "source": [
        "### Carga y primera exploración"
      ]
    },
    {
      "cell_type": "markdown",
      "metadata": {
        "id": "zfm9QPpf3TSA"
      },
      "source": [
        "**Importamos las librerías**"
      ]
    },
    {
      "cell_type": "code",
      "execution_count": null,
      "metadata": {
        "id": "xjkQYJB13LQS"
      },
      "outputs": [],
      "source": [
        "import pandas as pd\n",
        "import numpy as np\n",
        "import urllib.request"
      ]
    },
    {
      "cell_type": "markdown",
      "metadata": {
        "id": "exWRlLHG4jxk"
      },
      "source": [
        "**Cargamos los datos**"
      ]
    },
    {
      "cell_type": "code",
      "execution_count": null,
      "metadata": {
        "id": "XTOxlLOO3dom"
      },
      "outputs": [],
      "source": [
        "# Guardamos en ambiente de colab\n",
        "!wget  https://raw.githubusercontent.com/datasciencedojo/datasets/master/titanic.csv\n",
        "# Cargamos en un dataframe de pandas usando el comando pd.read_csv\n",
        "df_titanic = pd.read_csv('titanic.csv')\n",
        "# Data set listo para trabajar\n",
        "df_titanic"
      ]
    },
    {
      "cell_type": "markdown",
      "metadata": {
        "id": "ihrtxrfLjlqq"
      },
      "source": [
        "El [diccionario de la base de datos](https://www.kaggle.com/c/titanic/data) lo encontramos en Kaggle."
      ]
    },
    {
      "cell_type": "markdown",
      "metadata": {
        "id": "UqzicP5S4wum"
      },
      "source": [
        "**Presentamos los datos por primera vez**"
      ]
    },
    {
      "cell_type": "code",
      "execution_count": null,
      "metadata": {
        "id": "DgTzrF2l4zs_"
      },
      "outputs": [],
      "source": [
        "df_titanic.head()"
      ]
    },
    {
      "cell_type": "markdown",
      "metadata": {
        "id": "weHScpW941of"
      },
      "source": [
        "**Ejercicio**: ¿A qué corresponde cada una de las filas? ¿Qué estamos observando en esta tabla? (*unidad de observación*)."
      ]
    },
    {
      "cell_type": "markdown",
      "metadata": {
        "id": "IldVs6bQ5Hfo"
      },
      "source": [
        "**Observamos características que tienen las columnas**"
      ]
    },
    {
      "cell_type": "code",
      "execution_count": null,
      "metadata": {
        "id": "_cmuo0Qf5HBr"
      },
      "outputs": [],
      "source": [
        "df_titanic.info()"
      ]
    },
    {
      "cell_type": "markdown",
      "metadata": {
        "id": "VbW09SLk5xOs"
      },
      "source": [
        "**Describimos los datos cuantitativos a grandes rasgos**"
      ]
    },
    {
      "cell_type": "code",
      "execution_count": null,
      "metadata": {
        "id": "e0U132Ep56bd"
      },
      "outputs": [],
      "source": [
        "df_titanic.describe()"
      ]
    },
    {
      "cell_type": "markdown",
      "metadata": {
        "id": "F6QIcHez6VnE"
      },
      "source": [
        "**Describimos las variables categóricas**"
      ]
    },
    {
      "cell_type": "code",
      "execution_count": null,
      "metadata": {
        "id": "egJVxZBh6Yog"
      },
      "outputs": [],
      "source": [
        "df_titanic.describe(include='O')"
      ]
    },
    {
      "cell_type": "markdown",
      "metadata": {
        "id": "L_0ou4RZ63MT"
      },
      "source": [
        "**Ejercicio:** Pregúntese ¿Qué proporción de las personas en el titanic sobrevivieron? (utilice las exploraciones previas para responderlo)"
      ]
    },
    {
      "cell_type": "markdown",
      "metadata": {
        "id": "oxJHNZIWkHY0"
      },
      "source": [
        "**Ejercicio 2:** Consulte el diccionario de la base de datos. ¿Qué información registra la columna \"Embarked\"?"
      ]
    },
    {
      "cell_type": "markdown",
      "metadata": {
        "id": "guDQUDIS9abI"
      },
      "source": [
        "### Operaciones de filtro y selección"
      ]
    },
    {
      "cell_type": "markdown",
      "metadata": {
        "id": "VZHfsW7V_TUf"
      },
      "source": [
        "**Seleccionamos columnas individuales por su nombre**"
      ]
    },
    {
      "cell_type": "code",
      "execution_count": null,
      "metadata": {
        "id": "aIsfQ1Gd-98r"
      },
      "outputs": [],
      "source": [
        "df_titanic['Survived'].mean()"
      ]
    },
    {
      "cell_type": "markdown",
      "metadata": {
        "id": "M8b_aZCH_dz-"
      },
      "source": [
        "**Ejercicio**: Intente obtener la edad de la persona mayor que viajó en el Titanic (puede utilizar la función max)"
      ]
    },
    {
      "cell_type": "code",
      "execution_count": null,
      "metadata": {
        "id": "PDPSgtRf_uCi"
      },
      "outputs": [],
      "source": [
        "# RESPUESTA\n"
      ]
    },
    {
      "cell_type": "markdown",
      "metadata": {
        "id": "Z-2VtXFPjGdO"
      },
      "source": [
        "**Podemos hacer operaciones con columnas enteras**"
      ]
    },
    {
      "cell_type": "markdown",
      "metadata": {
        "id": "3HDXYIfgk6wy"
      },
      "source": [
        "*where* nos sirve para modificar el valor de una columna basado en la información de **otra columna**."
      ]
    },
    {
      "cell_type": "code",
      "execution_count": null,
      "metadata": {
        "id": "ysJRN3SijJTT"
      },
      "outputs": [],
      "source": [
        "# Crear una columna que nos indique si la persona pagó un tiquete superior a 40 dólares\n",
        "df_titanic[\"Muy caro\"] = np.where(df_titanic[\"Fare\"]>40,\"Caro\",\"Barato\")"
      ]
    },
    {
      "cell_type": "markdown",
      "metadata": {
        "id": "V-db8WZ1lFhP"
      },
      "source": [
        "**Podemos seleccionar a partir de una lista de nombres columnas sobre el *dataframe***"
      ]
    },
    {
      "cell_type": "code",
      "execution_count": null,
      "metadata": {
        "id": "OjVTLZItkwoi"
      },
      "outputs": [],
      "source": [
        "df_titanic[[\"Fare\", \"Muy caro\"]].head()"
      ]
    },
    {
      "cell_type": "markdown",
      "metadata": {
        "id": "IWCAaEJalVH2"
      },
      "source": [
        "**Ejercicio:** Recodificar la columna sexo, creando una nueva columna llamada \"Mujer\" que tenga el valor de 1 si sexo es \"female\" y 0 de lo contrario."
      ]
    },
    {
      "cell_type": "code",
      "execution_count": null,
      "metadata": {
        "id": "jZ_zPbb-lmpu"
      },
      "outputs": [],
      "source": [
        "# RESPUESTA\n"
      ]
    },
    {
      "cell_type": "markdown",
      "metadata": {
        "id": "qDHOhugWlulf"
      },
      "source": [
        "Con una columna de ceros y unos podemos extraer la proporción de unos calculando la media:"
      ]
    },
    {
      "cell_type": "code",
      "execution_count": null,
      "metadata": {
        "id": "_rF90_KKls5y"
      },
      "outputs": [],
      "source": [
        "df_titanic[\"Mujer\"].mean()"
      ]
    },
    {
      "cell_type": "markdown",
      "metadata": {
        "id": "G2e7FjsBmAr3"
      },
      "source": [
        "**Podemos calcular estadísticos filtrando las filas que cumplen una condición**"
      ]
    },
    {
      "cell_type": "code",
      "execution_count": null,
      "metadata": {
        "id": "JkRhP3KymQG9"
      },
      "outputs": [],
      "source": [
        "condicion = df_titanic[\"Embarked\"] == \"S\""
      ]
    },
    {
      "cell_type": "code",
      "execution_count": null,
      "metadata": {
        "id": "OAbM3LXSmkaR"
      },
      "outputs": [],
      "source": [
        "# Cuenta de datos para los pasajeros que embarcaron en el puerto de Southampton\n",
        "df_titanic[condicion].count()"
      ]
    },
    {
      "cell_type": "markdown",
      "metadata": {
        "id": "NxGgXpLrm4HX"
      },
      "source": [
        "**Ejercicio:** Tome las filas de personas que no sobrevivieron, muestre el promedio de todas las columnas para ese grupo."
      ]
    },
    {
      "cell_type": "code",
      "execution_count": null,
      "metadata": {
        "id": "SMaIk8BhnDC9"
      },
      "outputs": [],
      "source": [
        "# RESPUESTA\n"
      ]
    },
    {
      "cell_type": "code",
      "execution_count": null,
      "metadata": {
        "id": "6g-2NwLbnQaU"
      },
      "outputs": [],
      "source": [
        "# Plus: compararlas con el grupo de los que sí sobrevivieron\n"
      ]
    },
    {
      "cell_type": "markdown",
      "metadata": {
        "id": "OMHz_G2rnvFm"
      },
      "source": [
        "### Datos faltantes"
      ]
    },
    {
      "cell_type": "markdown",
      "metadata": {
        "id": "c1ZmaQX9oD9g"
      },
      "source": [
        "Frecuentemente vamos a tener bases de datos con valores faltantes.\n",
        "\n",
        "Pase lo que pase hay que preguntarnos: ¿por qué los valores están faltantes? --> De ahí vamos a tomar decisiones sobre cómo manejarlos.\n",
        "\n",
        "**Ejemplo:**\n",
        "- No tenemos la medición de ritmo cardiaco de todos los miembros del equipo porque algunos no vinieron el día de la medición. ¿Qué hacer con estos valores de ritmo cardiaco?\n",
        "- No tenemos la medición de puntos en la competencia porque ese día algunos participantes no concursaron. ¿Qué hacer con estos valores de puntos?"
      ]
    },
    {
      "cell_type": "markdown",
      "metadata": {
        "id": "4lgIUqD2rNRb"
      },
      "source": [
        "**Podemos identificar las filas con datos faltantes en alguna columna**"
      ]
    },
    {
      "cell_type": "code",
      "execution_count": null,
      "metadata": {
        "id": "GNuzWXD6rUDc"
      },
      "outputs": [],
      "source": [
        "estaVacio = df_titanic['Age'].isnull()"
      ]
    },
    {
      "cell_type": "code",
      "execution_count": null,
      "metadata": {
        "id": "OwWPR3KirEyc"
      },
      "outputs": [],
      "source": [
        "datosSinEdad = df_titanic[estaVacio]\n",
        "datosSinEdad.head()"
      ]
    },
    {
      "cell_type": "markdown",
      "metadata": {
        "id": "FvqER8uprgzQ"
      },
      "source": [
        "**Podemos usar loc para reemplazar los valores vacíos**</br>\n",
        "(Aunque en este caso lo recomendable sería dejarlos como están)."
      ]
    },
    {
      "cell_type": "code",
      "execution_count": null,
      "metadata": {
        "id": "2dCuRGADrgVl"
      },
      "outputs": [],
      "source": [
        "df_titanic.loc[estaVacio, 'Age'] = 0"
      ]
    },
    {
      "cell_type": "code",
      "execution_count": null,
      "metadata": {
        "id": "cE1DAeWvtCSe"
      },
      "outputs": [],
      "source": [
        "datosSinEdad.head()"
      ]
    },
    {
      "cell_type": "markdown",
      "metadata": {
        "id": "dHnxO8wntVaS"
      },
      "source": [
        "**NOTEN:** ¡Modificamos **df_titanic**, pero al revisar **datosSinEdad**, los cambios habían sido aplicados también!\n",
        "\n",
        "Esto pasa porque cuando almacenamos una \"tabla\" en una variable, por lo general obtenemos **una referencia a esas observaciones**, no una copia independiente.\n",
        "\n",
        "Todo lo que hagamos a la tabla original, se podrá ver también al revisar la referencia.\n",
        "\n",
        "Para obtener una **copia independiente** de una tabla, usamos la función copy()"
      ]
    },
    {
      "cell_type": "code",
      "execution_count": null,
      "metadata": {
        "id": "ttWfPqd-t4nD"
      },
      "outputs": [],
      "source": [
        "unaCopiaAparte = df_titanic.copy()"
      ]
    },
    {
      "cell_type": "code",
      "execution_count": null,
      "metadata": {
        "id": "Ijy3TE-Hunla"
      },
      "outputs": [],
      "source": [
        "unaCopiaAparte[\"Ticket\"] = 0"
      ]
    },
    {
      "cell_type": "markdown",
      "metadata": {
        "id": "pXF16AAau4GR"
      },
      "source": [
        "**Vemos que los cambios se aplican a la copia, pero no a la tabla original**"
      ]
    },
    {
      "cell_type": "code",
      "execution_count": null,
      "metadata": {
        "id": "szweGi26uuyi"
      },
      "outputs": [],
      "source": [
        "df_titanic.head()"
      ]
    },
    {
      "cell_type": "code",
      "execution_count": null,
      "metadata": {
        "id": "WGfWnjEduxhW"
      },
      "outputs": [],
      "source": [
        "unaCopiaAparte.head()"
      ]
    },
    {
      "cell_type": "markdown",
      "metadata": {
        "id": "f0fKTD-_nwW7"
      },
      "source": [
        "**En otras ocasiones, queremos descartar todas las filas que tienen algún dato faltante**"
      ]
    },
    {
      "cell_type": "code",
      "execution_count": null,
      "metadata": {
        "id": "-iY8AJXlvP8a"
      },
      "outputs": [],
      "source": [
        "filtro = df_titanic['Cabin'].isnull()"
      ]
    },
    {
      "cell_type": "code",
      "execution_count": null,
      "metadata": {
        "id": "hgg0ztipvWNj"
      },
      "outputs": [],
      "source": [
        "df_titanic_con_cabina = df_titanic.drop(df_titanic[filtro].index)"
      ]
    },
    {
      "cell_type": "code",
      "execution_count": null,
      "metadata": {
        "id": "g63wZeRRvqS8"
      },
      "outputs": [],
      "source": [
        "df_titanic_con_cabina.head()"
      ]
    },
    {
      "cell_type": "markdown",
      "metadata": {
        "id": "ilMXQC-5v2_R"
      },
      "source": [
        "**NOTEN** ¡Los índices (la cuenta de filas a la izquierda) quedaron locos!"
      ]
    },
    {
      "cell_type": "code",
      "execution_count": null,
      "metadata": {
        "id": "Kwuz_BU6wGUa"
      },
      "outputs": [],
      "source": [
        "df_titanic_con_cabina.reset_index()"
      ]
    },
    {
      "cell_type": "markdown",
      "metadata": {
        "id": "hFWKXg1L3HrY"
      },
      "source": [
        "## 2. Relación y unión de bases de datos"
      ]
    },
    {
      "cell_type": "markdown",
      "metadata": {
        "id": "0Li6tQtlwspu"
      },
      "source": [
        "Frecuentemente vamos a tener información en tablas separadas que vamos a tener que unir para poder:\n",
        "* Relacionar columnas que están en tablas distintas\n",
        "* Considerar todas filas a la vez, que quedaron en tablas distintas\n",
        "\n",
        "Existen al menos 4 librerías en Python para hacer estas uniones. Pero nosotros vamos a usar:\n",
        "- append para pegar filas\n",
        "- join para pegar columnas"
      ]
    },
    {
      "cell_type": "markdown",
      "metadata": {
        "id": "ScF_ZCgiyY3m"
      },
      "source": [
        "### Append: pegarle más filas"
      ]
    },
    {
      "cell_type": "markdown",
      "metadata": {
        "id": "fyzPX-CsyoK0"
      },
      "source": [
        "DataFrame.**append**(other, ignore_index=False, verify_integrity=False, sort=False)"
      ]
    },
    {
      "cell_type": "markdown",
      "metadata": {
        "id": "GbmTMoJ_yo5c"
      },
      "source": [
        "Parámetros:\n",
        "<ul>\n",
        "    <li><b>other</b>: Información para unir. Permite DF, Series, Diccionarios o listas.</li>\n",
        "    <li><b>ignore_index</b>: Booleano. Si es verdadero el índice queda numerado de 0 a n.</li>\n",
        "    <li><b>verify_integrity</b>: Booleano. Si es verdadero crea un error al crear un índice duplicado.</li>\n",
        "    <li><b>sort</b>: Booleano. Deja organizar el DF.</li>\n",
        "</ul>"
      ]
    },
    {
      "cell_type": "markdown",
      "metadata": {
        "id": "58xYjg6bLXnt"
      },
      "source": [
        "El método **append** será deprecado de la librería por lo tanto se recomienda utilizar **concat** en su lugar."
      ]
    },
    {
      "cell_type": "markdown",
      "metadata": {
        "id": "sio9TdHHNUNA"
      },
      "source": [
        "**Ejercicio:** Cuales son los parámetros de la función concat?"
      ]
    },
    {
      "cell_type": "code",
      "execution_count": null,
      "metadata": {
        "id": "iXEnHgZGyhsz"
      },
      "outputs": [],
      "source": [
        "# Creamos unas tablas de prueba\n",
        "df = pd.DataFrame([[1, 2], [3, 4]], columns=list('AB'), index=['x', 'y'])\n",
        "df2 = pd.DataFrame([[5, 6], [7, 8]], columns=list('AB'), index=['x', 'y'])\n",
        "l1 = [\"a\", \"b\"]"
      ]
    },
    {
      "cell_type": "code",
      "execution_count": null,
      "metadata": {
        "id": "ZuLg7sv_y2ds"
      },
      "outputs": [],
      "source": [
        "# Intentemos cambiando el valor en ignore_index y veamos que pasa\n",
        "df = pd.concat([df, df2], ignore_index=True)\n",
        "df"
      ]
    },
    {
      "cell_type": "code",
      "execution_count": null,
      "metadata": {
        "id": "Rzxc8SdKzGc2"
      },
      "outputs": [],
      "source": [
        "df = pd.concat([df, l1], ignore_index=True) # Que pasa si tenemos una lista"
      ]
    },
    {
      "cell_type": "code",
      "execution_count": null,
      "metadata": {
        "id": "0KEn5TBcNtxE"
      },
      "outputs": [],
      "source": [
        "#Podemos convertir la lista en un dataframe y usar concat\n",
        "l1_df = pd.DataFrame([l1], columns=df.columns)\n",
        "df = pd.concat([df, l1_df], ignore_index=True)\n",
        "df"
      ]
    },
    {
      "cell_type": "markdown",
      "metadata": {
        "id": "Z7SU5r7uzh0N"
      },
      "source": [
        "**Podemos sólo agregarla en la última posición, si la lista corresponde con las columnas**"
      ]
    },
    {
      "cell_type": "code",
      "execution_count": null,
      "metadata": {
        "id": "Og00ri3vzV6d"
      },
      "outputs": [],
      "source": [
        "df.loc[len(df)]=l1\n",
        "df"
      ]
    },
    {
      "cell_type": "markdown",
      "metadata": {
        "id": "XK-fldvAyd5p"
      },
      "source": [
        "### Join: pegarle más columnas"
      ]
    },
    {
      "cell_type": "markdown",
      "metadata": {
        "id": "xKbhGFDKysTH"
      },
      "source": [
        "DataFrame.**join**(other, on=None, how='left', lsuffix='', rsuffix='', sort=False, validate=None)"
      ]
    },
    {
      "cell_type": "markdown",
      "metadata": {
        "id": "DRH7moyHysaF"
      },
      "source": [
        "Parámetros:\n",
        "<ul>\n",
        "    <li><b>other</b>: Objetos para unir. Permite DF o Series.</li>\n",
        "    <li><b>on</b>: str. Llave por la cual se van a unir las bases.</li>\n",
        "    <li><b>how</b>: str. Método para unir los objetos.</li>\n",
        "    <li><b>lsufix</b>: str. Complementos a los nombres de las variables para diferenciar entre los objetos (Izquierda).</li>\n",
        "    <li><b>rsufix</b>: str. Complementos a los nombres de las variables para diferenciar entre los objetos (Derecha).</li>\n",
        "    <li><b>sort</b>: Bool. Ordenar por el índice.</li>\n",
        "    <li><b>validate</b>: str. Verifica si el cruce se realizó 1:1, 1:m o m:1.</li>\n",
        "</ul>"
      ]
    },
    {
      "cell_type": "code",
      "execution_count": null,
      "metadata": {
        "id": "nqJiVxQZ05Lm"
      },
      "outputs": [],
      "source": [
        "dfa = pd.DataFrame({'key': ['K0', 'K1', 'K2', 'K3', 'K4', 'K5'],\n",
        "                   'A': ['A0', 'A1', 'A2', 'A3', 'A4', 'A5']})\n",
        "dfb = pd.DataFrame({'key': ['K0', 'K1', 'K2'],\n",
        "                      'B': ['B0', 'B1', 'B2']})"
      ]
    },
    {
      "cell_type": "code",
      "execution_count": null,
      "metadata": {
        "id": "OretB3Vi0J_u"
      },
      "outputs": [],
      "source": [
        "dfa.join(dfb, lsuffix='_A', rsuffix='_B')"
      ]
    },
    {
      "cell_type": "code",
      "execution_count": null,
      "metadata": {
        "id": "jxK1xKmX0Yqb"
      },
      "outputs": [],
      "source": [
        "dfa.join(dfb.set_index('key'), on='key')"
      ]
    },
    {
      "cell_type": "markdown",
      "metadata": {
        "id": "4d768e6F0klU"
      },
      "source": [
        "**También hay configuraciones con las que podemos jugar para quedarnos con las filas que están en una tabla y no en la otra; o bien en ambas, etc. Con esas podemos jugar, o podemos meramente eliminar lo que no queremos después de hacer la unión.**"
      ]
    },
    {
      "cell_type": "markdown",
      "metadata": {
        "id": "yUS7IA6y2EEJ"
      },
      "source": [
        "**Ejercicio:** Pegar la columna C del siguiente dataframe, a la base dfb a partir de la columna key.\n",
        "\n",
        "¿Qué función deberíamos usar? append o join"
      ]
    },
    {
      "cell_type": "code",
      "execution_count": null,
      "metadata": {
        "id": "DDxIkNi4137s"
      },
      "outputs": [],
      "source": [
        "dfc = pd.DataFrame({'key': ['K0', 'K2'],\n",
        "                      'C': ['C0', 'C2']})\n",
        "dfc"
      ]
    },
    {
      "cell_type": "code",
      "execution_count": null,
      "metadata": {
        "id": "29E78nOB2gNu"
      },
      "outputs": [],
      "source": [
        "# RESPUESTA:\n"
      ]
    }
  ],
  "metadata": {
    "colab": {
      "provenance": [],
      "include_colab_link": true
    },
    "kernelspec": {
      "display_name": "Python 3",
      "name": "python3"
    },
    "language_info": {
      "name": "python"
    }
  },
  "nbformat": 4,
  "nbformat_minor": 0
}