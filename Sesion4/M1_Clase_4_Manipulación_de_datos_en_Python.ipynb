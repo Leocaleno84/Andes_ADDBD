{
  "cells": [
    {
      "cell_type": "markdown",
      "metadata": {
        "id": "view-in-github",
        "colab_type": "text"
      },
      "source": [
        "<a href=\"https://colab.research.google.com/github/jazaineam1/Andes_ADDBD/blob/main/Sesion4/M1_Clase_4_Manipulaci%C3%B3n_de_datos_en_Python.ipynb\" target=\"_parent\"><img src=\"https://colab.research.google.com/assets/colab-badge.svg\" alt=\"Open In Colab\"/></a>"
      ]
    },
    {
      "cell_type": "markdown",
      "source": [
        "# ***Análisis de Datos y Big data***\n",
        "\n",
        "## ***Universidad de los Andes***\n",
        ">## **Dirección de Educación Continua.**\n",
        ">>## **Formación de habilidades escenciales.**\n",
        "\n",
        "![Imágen1](https://github.com/jazaineam1/Andes_ADDBD/blob/main/Imagenes/Presentaci%C3%B3n-removebg-preview.png?raw=true)\n",
        "\n",
        "## **Manipulación de datos en Python**\n",
        "## **Módulo 1**"
      ],
      "metadata": {
        "id": "aoeI8ED_Pa6C"
      }
    },
    {
      "cell_type": "markdown",
      "metadata": {
        "id": "suwlnkj10BWr"
      },
      "source": [
        "## ¿Existe relación alguna entre el total de minutos usados con la compañía y el ingreso total de los clientes?\n",
        "En el desarrollo de este caso introduciremos las librerías pandas, numpy y matplotlib para el preprocesamiento, visualización de un conjunto de datos y el desarrollo de algunas medidas estadísticas descriptivas.\n",
        "\n",
        "\n",
        "\n",
        "##  Introducción\n",
        "\n",
        "La revisión del comportamiento de los clientes en cualquier empresa es de vital importancia para el desarrollo de estrategias  tanto de mejoramiento de productos como de publicidad y toma de decisiones. Evaluaremos la información obtenida de un conjunto de registro obtenidos de una empresa de telecomunicaciones que cuenta con la revisión de las siguientes variables:\n",
        "\n",
        "1. totrev: Ingresos del cliente\n",
        "2. totmou: Total de minutos usados por el cliente\n",
        "3. area: Área geográfica\n",
        "4. creditcd: Indicador de tarjeta de crédito\n",
        "5. eqpdays: Número de días (antigüedad) del equipo actual\n",
        "\n",
        "Es importante mencionar que la empresa contiene una gran cantidad de clientes y hacer el análisis uno a uno no es lo  óptimo. Con ayuda de la programación y el análisis de datos, se logrará llegar a conclusiones rápidas y acertadas para encontrar relaciones que a simple vista no son tenidas en cuenta.\n",
        "\n",
        "### ¿Qué se quiere identificar? Teniendo en cuenta la información de la base de datos se quiere identificar si hay una relación entre el total de minutos usados por el cliente con la compañía y el ingreso total de los clientes, es decir, Será posible afirmar que cuando una persona\n",
        "tiene un mayor ingreso mayor entonces es mayor la utilización de minutos o todo lo contrario?\n",
        "\n",
        "\n",
        "####  Insumos para tratar este problema\n",
        "\n",
        "\n",
        "Teniendo en cuenta que la compañía tenia estándares para la entrega de la información, se dispone de un  conjunto de tablas en formato CSV ordenado de la siguiente manera:\n",
        "La información de este conjunto de datos puede encontrase en [aquí](https://www.kaggle.com/abhinav89/telecom-customer?select=Telecom_customer+churn.csv)\n",
        "\n",
        "### Objetivos\n",
        "\n",
        "En este caso usted tendrá que cargar varias bases de datos, hará una exploración básica sobre la información y fusionará las distintas bases para tener una visión general del problema. La idea es que desarrolle las siguientes habilidades:\n",
        "\n",
        "1. Manejo de la librería pandas de Python para cargar y leer datos;\n",
        "2. Ideas elementales para una útil transformación de los datos;\n",
        "3. Construcción y presentación de argumentos válidos que le brindarán una solución para la pregunta expresada más arriba y llegar a una conclusión.\n",
        "4. Visualización de gráficas elementales que le permitirá entender mejor la información contenida en los datos.\n",
        "\n",
        "#### Importación de paquetes\n",
        "\n",
        "\n",
        "Una de las mejores opciones para trabajar con datos tabulares en Python es usar el módulo pandas. La librería `pandas` provee estructuras de datos, genera gráficos de alta calidad con `matplotlib` y se integra de buena forma con otras librerías que usan arrays de `numpy`.\n",
        "\n",
        "Debemos revisar si la librería se encuentra en nuestro sistema usando el comando\n",
        "\n",
        "```python\n",
        "!pip show librería\n",
        "```"
      ]
    },
    {
      "cell_type": "code",
      "execution_count": null,
      "metadata": {
        "id": "U04sU_VS0BWx",
        "outputId": "bf426c1d-168a-4db3-a5c4-e3bc4164d8ea"
      },
      "outputs": [
        {
          "name": "stdout",
          "output_type": "stream",
          "text": [
            "Name: pandas\n",
            "Version: 1.1.1\n",
            "Summary: Powerful data structures for data analysis, time series, and statistics\n",
            "Home-page: https://pandas.pydata.org\n",
            "Author: None\n",
            "Author-email: None\n",
            "License: BSD\n",
            "Location: c:\\users\\antonino\\anaconda3\\ana\\lib\\site-packages\n",
            "Requires: numpy, python-dateutil, pytz\n",
            "Required-by: statsmodels, seaborn, plotly-express, Orange3, geopandas, dplython, dfply, bqplot, AeroSandbox\n",
            "Name: numpy\n",
            "Version: 1.19.1\n",
            "Summary: NumPy is the fundamental package for array computing with Python.\n",
            "Home-page: https://www.numpy.org\n",
            "Author: Travis E. Oliphant et al.\n",
            "Author-email: None\n",
            "License: BSD\n",
            "Location: c:\\users\\antonino\\anaconda3\\ana\\lib\\site-packages\n",
            "Requires: \n",
            "Required-by: tables, statsmodels, seaborn, scipy, scikit-learn, PyWavelets, python-louvain, pyqtgraph, plotly-express, Pattern, patsy, pandas, Orange3, openTSNE, numexpr, numba, mkl-random, mkl-fft, matplotlib, imageio, h5py, dplython, dfply, bqplot, Bottleneck, bokeh, bkcharts, astropy, AeroSandbox\n",
            "Name: matplotlib\n",
            "Version: 3.3.2\n",
            "Summary: Python plotting package\n",
            "Home-page: https://matplotlib.org\n",
            "Author: John D. Hunter, Michael Droettboom\n",
            "Author-email: matplotlib-users@python.org\n",
            "License: PSF\n",
            "Location: c:\\users\\antonino\\anaconda3\\ana\\lib\\site-packages\n",
            "Requires: numpy, cycler, pyparsing, certifi, python-dateutil, pillow, kiwisolver\n",
            "Required-by: seaborn, scikit-image, Orange3, orange-widget-base, descartes, AeroSandbox\n"
          ]
        }
      ],
      "source": [
        "!pip show pandas\n",
        "!pip show numpy\n",
        "!pip show matplotlib"
      ]
    },
    {
      "cell_type": "markdown",
      "metadata": {
        "id": "6-PDAteh0BW0"
      },
      "source": [
        "En el caso de que la librería no se encuentre instalada ejecutamos el comando\n",
        "\n",
        "```python\n",
        "!pip install librería\n",
        "```"
      ]
    },
    {
      "cell_type": "markdown",
      "metadata": {
        "id": "Rz91yow20BW1"
      },
      "source": [
        "Para importar las librerías usamos el comando\n",
        "```python\n",
        "import librería as alias\n",
        "```"
      ]
    },
    {
      "cell_type": "code",
      "execution_count": null,
      "metadata": {
        "id": "Z7qHEdGV0BW1"
      },
      "outputs": [],
      "source": [
        "import pandas as pd\n",
        "import numpy as np\n",
        "import matplotlib.pyplot as plt\n",
        "import os"
      ]
    },
    {
      "cell_type": "markdown",
      "metadata": {
        "id": "WFQNbX4g0BW2"
      },
      "source": [
        "Luego de que tener los paquetes activados dentro de nuestro ambiente de python podremos usar las fucnciones que se encuentren en la librería."
      ]
    },
    {
      "cell_type": "markdown",
      "metadata": {
        "id": "F1Yj6y4H0BW2"
      },
      "source": [
        "### Introducción a pandas\n",
        "\n",
        "Poner información sobre pandas e indicar la diferencia entre series y dataframe\n",
        "\n",
        "![](https://www.cdn.geeksforgeeks.org/wp-content/uploads/creating_dataframe1.png)"
      ]
    },
    {
      "cell_type": "markdown",
      "metadata": {
        "id": "Lus3SGCC0BW3"
      },
      "source": [
        "A continuación, mostramos el código a ejecutar para crear una ` Serie`"
      ]
    },
    {
      "cell_type": "code",
      "execution_count": null,
      "metadata": {
        "scrolled": false,
        "id": "ckxJtRlu0BW3",
        "outputId": "582cacab-5f7b-4eeb-c0dc-acfe36a4bb93"
      },
      "outputs": [
        {
          "data": {
            "text/plain": [
              "0    A\n",
              "1    B\n",
              "2    C\n",
              "3    D\n",
              "4    E\n",
              "Name: Variable1, dtype: object"
            ]
          },
          "execution_count": 3,
          "metadata": {},
          "output_type": "execute_result"
        }
      ],
      "source": [
        "Serie1 = pd.Series(\n",
        "index=[0, 1, 2, 3, 4], name=\"Variable1\", data=[\"A\",\"B\",\"C\",\"D\",\"E\"]\n",
        ")\n",
        "Serie1"
      ]
    },
    {
      "cell_type": "code",
      "execution_count": null,
      "metadata": {
        "scrolled": false,
        "id": "eCo7MSPV0BW4",
        "outputId": "e1c67355-81ae-4f4a-dbc2-d97c96120180"
      },
      "outputs": [
        {
          "data": {
            "text/html": [
              "<div>\n",
              "<style scoped>\n",
              "    .dataframe tbody tr th:only-of-type {\n",
              "        vertical-align: middle;\n",
              "    }\n",
              "\n",
              "    .dataframe tbody tr th {\n",
              "        vertical-align: top;\n",
              "    }\n",
              "\n",
              "    .dataframe thead th {\n",
              "        text-align: right;\n",
              "    }\n",
              "</style>\n",
              "<table border=\"1\" class=\"dataframe\">\n",
              "  <thead>\n",
              "    <tr style=\"text-align: right;\">\n",
              "      <th></th>\n",
              "      <th>Variable2</th>\n",
              "      <th>Variable3</th>\n",
              "    </tr>\n",
              "  </thead>\n",
              "  <tbody>\n",
              "    <tr>\n",
              "      <th>0</th>\n",
              "      <td>1</td>\n",
              "      <td>1</td>\n",
              "    </tr>\n",
              "    <tr>\n",
              "      <th>1</th>\n",
              "      <td>2</td>\n",
              "      <td>2</td>\n",
              "    </tr>\n",
              "    <tr>\n",
              "      <th>2</th>\n",
              "      <td>3</td>\n",
              "      <td>3</td>\n",
              "    </tr>\n",
              "    <tr>\n",
              "      <th>3</th>\n",
              "      <td>4</td>\n",
              "      <td>4</td>\n",
              "    </tr>\n",
              "    <tr>\n",
              "      <th>4</th>\n",
              "      <td>5</td>\n",
              "      <td>5</td>\n",
              "    </tr>\n",
              "  </tbody>\n",
              "</table>\n",
              "</div>"
            ],
            "text/plain": [
              "  Variable2  Variable3\n",
              "0         1          1\n",
              "1         2          2\n",
              "2         3          3\n",
              "3         4          4\n",
              "4         5          5"
            ]
          },
          "execution_count": 4,
          "metadata": {},
          "output_type": "execute_result"
        }
      ],
      "source": [
        "Data_Frame = pd.DataFrame(\n",
        "index=[0, 1, 2, 3, 4], columns=[\"Variable2\",\"Variable3\"], data=[[1, 1], [\"2\", 2],[3,3],[4,4],[5,5]]\n",
        ")\n",
        "Data_Frame"
      ]
    },
    {
      "cell_type": "markdown",
      "metadata": {
        "id": "LHe8v6P20BW4"
      },
      "source": [
        "Para revisar el tipo de objeto que contiene nuestro DataFrame podemos ejecutar"
      ]
    },
    {
      "cell_type": "code",
      "execution_count": null,
      "metadata": {
        "id": "5w7mX5Ai0BW5",
        "outputId": "1deed279-0c8f-44d8-ffcd-2dbcd26544eb"
      },
      "outputs": [
        {
          "data": {
            "text/plain": [
              "Variable2    object\n",
              "Variable3     int64\n",
              "dtype: object"
            ]
          },
          "execution_count": 5,
          "metadata": {},
          "output_type": "execute_result"
        }
      ],
      "source": [
        "Data_Frame.dtypes\n",
        "#Serie1.dtypes"
      ]
    },
    {
      "cell_type": "markdown",
      "metadata": {
        "id": "rzhPT7mz0BW5"
      },
      "source": [
        "### Carga de información en `pandas`\n",
        "\n",
        "Para nuestro  ejercicio usaremos los siguientes conjuntos de datos alojado [acá](https://github.com/jazaineam1/Andes_ADDBD/blob/main/Sesion4/Bases.zip), por favor descarguelo y deje sus datos en el archivo colab:\n",
        "\n",
        "1. NEW ENGLAND AREA.csv\n",
        "2. ATLANTIC SOUTH AREA.csv\n",
        "3. NEW YORK CITY AREA.csv\n",
        "4. CHICAGO AREA.csv\n",
        "5. NORTH FLORIDA AREA.csv\n",
        "6. DC-MARYLAND-VIRGINIA AREA.csv\n",
        "7. GREAT LAKES AREA.csv\n",
        "8. NORTHWEST-ROCKY MOUNTAIN AREA.csv\n",
        "9. MIDWEST AREA.csv\n",
        "10. SOUTHWEST AREA.csv\n",
        "11. LOS ANGELES AREA.csv\n",
        "12. HOUSTON AREA.csv\n",
        "13. CALIFORNIA NORTH AREA.csv\n",
        "14. CENTRAL-SOUTH TEXAS AREA.csv\n",
        "15. DALLAS AREA.csv\n",
        "16. PHILADELPHIA AREA.csv\n",
        "17. TENNESSEE AREA.csv\n",
        "18. OHIO AREA.csv\n",
        "19. SOUTH FLORIDA AREA.csv\n",
        "\n",
        "Cada uno de estos conjuntos de datos contiene la información de:\n",
        "\n",
        "1. *mou_Mean:* Número medio de minutos de uso mensuales\n",
        "2. *custcare_Mean:* Número medio de llamadas de atención al cliente\n",
        "3. *area:*  Área geografica\n",
        "4. *creditcd:* Indicador de tarjeta de crédito\n",
        "5. *eqpdays:* Número de días (antigüedad) del equipo actual\n",
        "\n",
        "Además, se incluye _Credito_dias.csv_ con la información de 2 variables adicionales para los registros las cuales son:\n",
        "\n",
        "1. _creditcd:_ Indicador de tarjeta de crédito\n",
        "2. _eqpdays:_ Número de días (antigüedad) del equipo actual\n",
        "\n",
        "Revisaremos inicialmente los datos contenidos en _Credito_dias.csv_ para revisar algunas funciones interesantes de `pandas`, usaremos el comando\n",
        "```python\n",
        "pd.read_csv(\"archivo.csv\")\n",
        "```\n",
        "Podemos definir el número de registros a imprimir usando\n",
        "```python\n",
        "pd.options.display.min_rows=10\n",
        "````"
      ]
    },
    {
      "cell_type": "code",
      "execution_count": null,
      "metadata": {
        "scrolled": false,
        "id": "sJyI6AC40BW5",
        "outputId": "6d5e1003-c34c-4115-a33a-48ce6836e0e8"
      },
      "outputs": [
        {
          "data": {
            "text/html": [
              "<div>\n",
              "<style scoped>\n",
              "    .dataframe tbody tr th:only-of-type {\n",
              "        vertical-align: middle;\n",
              "    }\n",
              "\n",
              "    .dataframe tbody tr th {\n",
              "        vertical-align: top;\n",
              "    }\n",
              "\n",
              "    .dataframe thead th {\n",
              "        text-align: right;\n",
              "    }\n",
              "</style>\n",
              "<table border=\"1\" class=\"dataframe\">\n",
              "  <thead>\n",
              "    <tr style=\"text-align: right;\">\n",
              "      <th></th>\n",
              "      <th>totmou</th>\n",
              "      <th>totrev</th>\n",
              "      <th>creditcd</th>\n",
              "      <th>eqpdays</th>\n",
              "    </tr>\n",
              "    <tr>\n",
              "      <th>Customer_ID</th>\n",
              "      <th></th>\n",
              "      <th></th>\n",
              "      <th></th>\n",
              "      <th></th>\n",
              "    </tr>\n",
              "  </thead>\n",
              "  <tbody>\n",
              "    <tr>\n",
              "      <th>1082423</th>\n",
              "      <td>7269.0</td>\n",
              "      <td>906.58</td>\n",
              "      <td>Y</td>\n",
              "      <td>371</td>\n",
              "    </tr>\n",
              "    <tr>\n",
              "      <th>1069232</th>\n",
              "      <td>13552.0</td>\n",
              "      <td>1172.25</td>\n",
              "      <td>N</td>\n",
              "      <td>83</td>\n",
              "    </tr>\n",
              "    <tr>\n",
              "      <th>1031705</th>\n",
              "      <td>4152.0</td>\n",
              "      <td>577.39</td>\n",
              "      <td>Y</td>\n",
              "      <td>675</td>\n",
              "    </tr>\n",
              "    <tr>\n",
              "      <th>1089806</th>\n",
              "      <td>1863.0</td>\n",
              "      <td>294.26</td>\n",
              "      <td>Y</td>\n",
              "      <td>218</td>\n",
              "    </tr>\n",
              "    <tr>\n",
              "      <th>1076695</th>\n",
              "      <td>4155.0</td>\n",
              "      <td>433.16</td>\n",
              "      <td>N</td>\n",
              "      <td>222</td>\n",
              "    </tr>\n",
              "  </tbody>\n",
              "</table>\n",
              "</div>"
            ],
            "text/plain": [
              "              totmou   totrev creditcd  eqpdays\n",
              "Customer_ID                                    \n",
              "1082423       7269.0   906.58        Y      371\n",
              "1069232      13552.0  1172.25        N       83\n",
              "1031705       4152.0   577.39        Y      675\n",
              "1089806       1863.0   294.26        Y      218\n",
              "1076695       4155.0   433.16        N      222"
            ]
          },
          "execution_count": 6,
          "metadata": {},
          "output_type": "execute_result"
        }
      ],
      "source": [
        "df=pd.read_csv(\"Bases/Credito_dias.csv\", sep=\",\",index_col=\"Customer_ID\")\n",
        "df.head()"
      ]
    },
    {
      "cell_type": "markdown",
      "metadata": {
        "id": "UUAFiNFy0BW6"
      },
      "source": [
        "El conjunto de datos se encuentra en el `DataFrame` `df`\n",
        "\n",
        "sobre el objeto creado podemos usar  algunas funciones  para darnos una idea del comportamiento de la información:\n",
        "```python\n",
        "df.head(n)  # imprime los primeros n registros del DataFrame\n",
        "df.tail(n)  # imprime los primeros n registros del DataFrame\n",
        "df.shape    # imprime el numero de columnas y filas del DataFrame\n",
        "df.columns  # imprime el nombre de las columnas del DataFrame\n",
        "df.index    # imprime el indice de los registros del DataFrame\n",
        "df.dtypes   # inpreme el tipo de cada una de las columnnas del DataFrame\n",
        "df.sample(n)# imprime una muestra aleatoria de n registros en el DataFrame\n",
        "```"
      ]
    },
    {
      "cell_type": "code",
      "execution_count": null,
      "metadata": {
        "id": "Hyrdd0-Z0BW6",
        "outputId": "358023a7-37dd-43c0-bfca-94bb414069cd"
      },
      "outputs": [
        {
          "data": {
            "text/plain": [
              "'primeros 3 registros'"
            ]
          },
          "metadata": {},
          "output_type": "display_data"
        },
        {
          "data": {
            "text/html": [
              "<div>\n",
              "<style scoped>\n",
              "    .dataframe tbody tr th:only-of-type {\n",
              "        vertical-align: middle;\n",
              "    }\n",
              "\n",
              "    .dataframe tbody tr th {\n",
              "        vertical-align: top;\n",
              "    }\n",
              "\n",
              "    .dataframe thead th {\n",
              "        text-align: right;\n",
              "    }\n",
              "</style>\n",
              "<table border=\"1\" class=\"dataframe\">\n",
              "  <thead>\n",
              "    <tr style=\"text-align: right;\">\n",
              "      <th></th>\n",
              "      <th>totmou</th>\n",
              "      <th>totrev</th>\n",
              "      <th>creditcd</th>\n",
              "      <th>eqpdays</th>\n",
              "    </tr>\n",
              "    <tr>\n",
              "      <th>Customer_ID</th>\n",
              "      <th></th>\n",
              "      <th></th>\n",
              "      <th></th>\n",
              "      <th></th>\n",
              "    </tr>\n",
              "  </thead>\n",
              "  <tbody>\n",
              "    <tr>\n",
              "      <th>1082423</th>\n",
              "      <td>7269.0</td>\n",
              "      <td>906.58</td>\n",
              "      <td>Y</td>\n",
              "      <td>371</td>\n",
              "    </tr>\n",
              "    <tr>\n",
              "      <th>1069232</th>\n",
              "      <td>13552.0</td>\n",
              "      <td>1172.25</td>\n",
              "      <td>N</td>\n",
              "      <td>83</td>\n",
              "    </tr>\n",
              "    <tr>\n",
              "      <th>1031705</th>\n",
              "      <td>4152.0</td>\n",
              "      <td>577.39</td>\n",
              "      <td>Y</td>\n",
              "      <td>675</td>\n",
              "    </tr>\n",
              "  </tbody>\n",
              "</table>\n",
              "</div>"
            ],
            "text/plain": [
              "              totmou   totrev creditcd  eqpdays\n",
              "Customer_ID                                    \n",
              "1082423       7269.0   906.58        Y      371\n",
              "1069232      13552.0  1172.25        N       83\n",
              "1031705       4152.0   577.39        Y      675"
            ]
          },
          "metadata": {},
          "output_type": "display_data"
        },
        {
          "data": {
            "text/plain": [
              "'últimos registros'"
            ]
          },
          "metadata": {},
          "output_type": "display_data"
        },
        {
          "data": {
            "text/html": [
              "<div>\n",
              "<style scoped>\n",
              "    .dataframe tbody tr th:only-of-type {\n",
              "        vertical-align: middle;\n",
              "    }\n",
              "\n",
              "    .dataframe tbody tr th {\n",
              "        vertical-align: top;\n",
              "    }\n",
              "\n",
              "    .dataframe thead th {\n",
              "        text-align: right;\n",
              "    }\n",
              "</style>\n",
              "<table border=\"1\" class=\"dataframe\">\n",
              "  <thead>\n",
              "    <tr style=\"text-align: right;\">\n",
              "      <th></th>\n",
              "      <th>totmou</th>\n",
              "      <th>totrev</th>\n",
              "      <th>creditcd</th>\n",
              "      <th>eqpdays</th>\n",
              "    </tr>\n",
              "    <tr>\n",
              "      <th>Customer_ID</th>\n",
              "      <th></th>\n",
              "      <th></th>\n",
              "      <th></th>\n",
              "      <th></th>\n",
              "    </tr>\n",
              "  </thead>\n",
              "  <tbody>\n",
              "    <tr>\n",
              "      <th>1096497</th>\n",
              "      <td>3690.0</td>\n",
              "      <td>294.29</td>\n",
              "      <td>Y</td>\n",
              "      <td>212</td>\n",
              "    </tr>\n",
              "    <tr>\n",
              "      <th>1087248</th>\n",
              "      <td>3333.0</td>\n",
              "      <td>233.08</td>\n",
              "      <td>Y</td>\n",
              "      <td>290</td>\n",
              "    </tr>\n",
              "    <tr>\n",
              "      <th>1099003</th>\n",
              "      <td>5025.0</td>\n",
              "      <td>1436.49</td>\n",
              "      <td>Y</td>\n",
              "      <td>1029</td>\n",
              "    </tr>\n",
              "  </tbody>\n",
              "</table>\n",
              "</div>"
            ],
            "text/plain": [
              "             totmou   totrev creditcd  eqpdays\n",
              "Customer_ID                                   \n",
              "1096497      3690.0   294.29        Y      212\n",
              "1087248      3333.0   233.08        Y      290\n",
              "1099003      5025.0  1436.49        Y     1029"
            ]
          },
          "metadata": {},
          "output_type": "display_data"
        },
        {
          "data": {
            "text/plain": [
              "Index(['totmou', 'totrev', 'creditcd', 'eqpdays'], dtype='object')"
            ]
          },
          "metadata": {},
          "output_type": "display_data"
        },
        {
          "data": {
            "text/plain": [
              "Int64Index([1082423, 1069232, 1031705, 1089806, 1076695, 1091652, 1043846,\n",
              "            1088967, 1045239, 1046584,\n",
              "            ...\n",
              "            1087145, 1002540, 1044082, 1083458, 1093976, 1027614, 1098422,\n",
              "            1096497, 1087248, 1099003],\n",
              "           dtype='int64', name='Customer_ID', length=10000)"
            ]
          },
          "metadata": {},
          "output_type": "display_data"
        },
        {
          "data": {
            "text/plain": [
              "'Tipos de registros en el DataFrame'"
            ]
          },
          "metadata": {},
          "output_type": "display_data"
        },
        {
          "data": {
            "text/plain": [
              "totmou      float64\n",
              "totrev      float64\n",
              "creditcd     object\n",
              "eqpdays       int64\n",
              "dtype: object"
            ]
          },
          "metadata": {},
          "output_type": "display_data"
        },
        {
          "data": {
            "text/plain": [
              "'Muestra akleatoria de 3 registros'"
            ]
          },
          "metadata": {},
          "output_type": "display_data"
        },
        {
          "data": {
            "text/html": [
              "<div>\n",
              "<style scoped>\n",
              "    .dataframe tbody tr th:only-of-type {\n",
              "        vertical-align: middle;\n",
              "    }\n",
              "\n",
              "    .dataframe tbody tr th {\n",
              "        vertical-align: top;\n",
              "    }\n",
              "\n",
              "    .dataframe thead th {\n",
              "        text-align: right;\n",
              "    }\n",
              "</style>\n",
              "<table border=\"1\" class=\"dataframe\">\n",
              "  <thead>\n",
              "    <tr style=\"text-align: right;\">\n",
              "      <th></th>\n",
              "      <th>totmou</th>\n",
              "      <th>totrev</th>\n",
              "      <th>creditcd</th>\n",
              "      <th>eqpdays</th>\n",
              "    </tr>\n",
              "    <tr>\n",
              "      <th>Customer_ID</th>\n",
              "      <th></th>\n",
              "      <th></th>\n",
              "      <th></th>\n",
              "      <th></th>\n",
              "    </tr>\n",
              "  </thead>\n",
              "  <tbody>\n",
              "    <tr>\n",
              "      <th>1082784</th>\n",
              "      <td>1797.0</td>\n",
              "      <td>308.10</td>\n",
              "      <td>Y</td>\n",
              "      <td>264</td>\n",
              "    </tr>\n",
              "    <tr>\n",
              "      <th>1080831</th>\n",
              "      <td>11512.0</td>\n",
              "      <td>710.01</td>\n",
              "      <td>N</td>\n",
              "      <td>315</td>\n",
              "    </tr>\n",
              "    <tr>\n",
              "      <th>1035184</th>\n",
              "      <td>952.0</td>\n",
              "      <td>524.37</td>\n",
              "      <td>N</td>\n",
              "      <td>231</td>\n",
              "    </tr>\n",
              "  </tbody>\n",
              "</table>\n",
              "</div>"
            ],
            "text/plain": [
              "              totmou  totrev creditcd  eqpdays\n",
              "Customer_ID                                   \n",
              "1082784       1797.0  308.10        Y      264\n",
              "1080831      11512.0  710.01        N      315\n",
              "1035184        952.0  524.37        N      231"
            ]
          },
          "metadata": {},
          "output_type": "display_data"
        },
        {
          "data": {
            "text/plain": [
              "'dimensión'"
            ]
          },
          "metadata": {},
          "output_type": "display_data"
        },
        {
          "data": {
            "text/plain": [
              "(10000, 4)"
            ]
          },
          "metadata": {},
          "output_type": "display_data"
        }
      ],
      "source": [
        "display(\"primeros 3 registros\",df.head(3))\n",
        "display(\"últimos registros\",df.tail(3))\n",
        "display(df.columns)\n",
        "display(df.index)\n",
        "display(\"Tipos de registros en el DataFrame\",df.dtypes)\n",
        "display(\"Muestra akleatoria de 3 registros\",df.sample(3))\n",
        "display(\"dimensión\",df.shape)"
      ]
    },
    {
      "cell_type": "markdown",
      "metadata": {
        "id": "KQqf6Egk0BW6"
      },
      "source": [
        "Este conjunto de datos corresponde a 10000 registros y 2 variables\n",
        "\n",
        "### Manejo de datos duplicados\n",
        "\n",
        "os dataframes tienen la posibilidad de detectar las filas duplicadas con la función:\n",
        "```\n",
        "df.duplicated({columns})\n",
        "```\n",
        "Si no especifica {columns}, se busacarán duplicados teniendo en cuenta todas las columnas. Una vez detectados el dtaframe tiene un función para eliminar filas duplicadas, haciendo:\n",
        "\n",
        "```\n",
        "df = df.drop_duplicates()\n",
        "```\n",
        "También es posible eliminar filas que duplican solo algunos campos. Con el fin de dejar solo una ocurrencia.\n",
        "\n",
        "```\n",
        "df.drop_duplicates(['nombre', 'apellido', 'cédula'], keep='last')\n",
        "```\n",
        "En este caso, como no todas las colomnas son iguales se conserva solo la última ocurrencia.\n",
        "\n",
        "### Manejo de datos perdidos o esperados\n",
        "Son aquellos datos flatantes en la tabla que por alguna razón o error no se encuentran, o parecen con algún valor o etiqueta de no válido.\n",
        "Para manipular datos perdidos use la explicación dada el siguiente enlace: [DATOS PERDIDOS](http://ligdigonzalez.com/manipulando-datos-perdidos-en-python/)\n",
        "recuerde que para reemplazar datos perdidos en un dataframe $df$ se usa la función:\n",
        "```python\n",
        "promedio = df['totrev'].mean()\n",
        "df['nota'].replace(np.nan, promedio)\n",
        "```\n",
        "en donde la opción 'promedio' busca el valor promedio de la columna (datos numéricos) o la moda (datos categóricos) para reemplazar el valor no válido."
      ]
    },
    {
      "cell_type": "code",
      "execution_count": null,
      "metadata": {
        "id": "38oK5l5n0BW7",
        "outputId": "047181e9-0bfa-4ba1-978f-6a11ab8523e7"
      },
      "outputs": [
        {
          "data": {
            "text/plain": [
              "totmou      False\n",
              "totrev      False\n",
              "creditcd     True\n",
              "eqpdays     False\n",
              "dtype: bool"
            ]
          },
          "execution_count": 8,
          "metadata": {},
          "output_type": "execute_result"
        }
      ],
      "source": [
        "df.isnull().any(axis=0)"
      ]
    },
    {
      "cell_type": "code",
      "execution_count": null,
      "metadata": {
        "scrolled": true,
        "id": "uvbgp6L_0BW7",
        "outputId": "f94c6d11-916a-4339-f315-f4243e63d02e"
      },
      "outputs": [
        {
          "data": {
            "text/plain": [
              "Customer_ID\n",
              "1082423    False\n",
              "1069232    False\n",
              "1031705    False\n",
              "1089806    False\n",
              "1076695    False\n",
              "           ...  \n",
              "1027614    False\n",
              "1098422    False\n",
              "1096497    False\n",
              "1087248    False\n",
              "1099003    False\n",
              "Length: 10000, dtype: bool"
            ]
          },
          "execution_count": 9,
          "metadata": {},
          "output_type": "execute_result"
        }
      ],
      "source": [
        "df.isnull().any(axis=1)"
      ]
    },
    {
      "cell_type": "code",
      "execution_count": null,
      "metadata": {
        "id": "Kh9IxNeX0BW7",
        "outputId": "0e9dfc5e-20df-4e34-9ab6-661dd0cf39db"
      },
      "outputs": [
        {
          "data": {
            "text/plain": [
              "Customer_ID\n",
              "1082423    False\n",
              "1069232    False\n",
              "1031705    False\n",
              "1089806    False\n",
              "1076695    False\n",
              "           ...  \n",
              "1027614    False\n",
              "1098422    False\n",
              "1096497    False\n",
              "1087248    False\n",
              "1099003    False\n",
              "Name: totmou, Length: 10000, dtype: bool"
            ]
          },
          "execution_count": 62,
          "metadata": {},
          "output_type": "execute_result"
        }
      ],
      "source": [
        "df[\"totmou\"].isnull()"
      ]
    },
    {
      "cell_type": "code",
      "execution_count": null,
      "metadata": {
        "id": "D2mOuDny0BW8",
        "outputId": "b6fa7673-d916-4805-fd3a-0c2679930719"
      },
      "outputs": [
        {
          "data": {
            "text/html": [
              "<div>\n",
              "<style scoped>\n",
              "    .dataframe tbody tr th:only-of-type {\n",
              "        vertical-align: middle;\n",
              "    }\n",
              "\n",
              "    .dataframe tbody tr th {\n",
              "        vertical-align: top;\n",
              "    }\n",
              "\n",
              "    .dataframe thead th {\n",
              "        text-align: right;\n",
              "    }\n",
              "</style>\n",
              "<table border=\"1\" class=\"dataframe\">\n",
              "  <thead>\n",
              "    <tr style=\"text-align: right;\">\n",
              "      <th></th>\n",
              "      <th>totmou</th>\n",
              "      <th>totrev</th>\n",
              "      <th>creditcd</th>\n",
              "      <th>eqpdays</th>\n",
              "    </tr>\n",
              "    <tr>\n",
              "      <th>Customer_ID</th>\n",
              "      <th></th>\n",
              "      <th></th>\n",
              "      <th></th>\n",
              "      <th></th>\n",
              "    </tr>\n",
              "  </thead>\n",
              "  <tbody>\n",
              "    <tr>\n",
              "      <th>1072218</th>\n",
              "      <td>5684.0</td>\n",
              "      <td>857.65</td>\n",
              "      <td>NaN</td>\n",
              "      <td>244</td>\n",
              "    </tr>\n",
              "    <tr>\n",
              "      <th>1066597</th>\n",
              "      <td>925.0</td>\n",
              "      <td>373.12</td>\n",
              "      <td>NaN</td>\n",
              "      <td>344</td>\n",
              "    </tr>\n",
              "    <tr>\n",
              "      <th>1023352</th>\n",
              "      <td>14466.0</td>\n",
              "      <td>2243.76</td>\n",
              "      <td>NaN</td>\n",
              "      <td>387</td>\n",
              "    </tr>\n",
              "    <tr>\n",
              "      <th>1045521</th>\n",
              "      <td>2504.0</td>\n",
              "      <td>756.79</td>\n",
              "      <td>NaN</td>\n",
              "      <td>495</td>\n",
              "    </tr>\n",
              "    <tr>\n",
              "      <th>1001813</th>\n",
              "      <td>76260.0</td>\n",
              "      <td>5526.11</td>\n",
              "      <td>NaN</td>\n",
              "      <td>361</td>\n",
              "    </tr>\n",
              "    <tr>\n",
              "      <th>...</th>\n",
              "      <td>...</td>\n",
              "      <td>...</td>\n",
              "      <td>...</td>\n",
              "      <td>...</td>\n",
              "    </tr>\n",
              "    <tr>\n",
              "      <th>1050795</th>\n",
              "      <td>15591.0</td>\n",
              "      <td>1330.71</td>\n",
              "      <td>NaN</td>\n",
              "      <td>447</td>\n",
              "    </tr>\n",
              "    <tr>\n",
              "      <th>1096985</th>\n",
              "      <td>3011.0</td>\n",
              "      <td>522.14</td>\n",
              "      <td>NaN</td>\n",
              "      <td>74</td>\n",
              "    </tr>\n",
              "    <tr>\n",
              "      <th>1025203</th>\n",
              "      <td>853.0</td>\n",
              "      <td>650.34</td>\n",
              "      <td>NaN</td>\n",
              "      <td>780</td>\n",
              "    </tr>\n",
              "    <tr>\n",
              "      <th>1099258</th>\n",
              "      <td>33660.0</td>\n",
              "      <td>4247.85</td>\n",
              "      <td>NaN</td>\n",
              "      <td>206</td>\n",
              "    </tr>\n",
              "    <tr>\n",
              "      <th>1026149</th>\n",
              "      <td>1955.0</td>\n",
              "      <td>606.08</td>\n",
              "      <td>NaN</td>\n",
              "      <td>770</td>\n",
              "    </tr>\n",
              "  </tbody>\n",
              "</table>\n",
              "<p>152 rows × 4 columns</p>\n",
              "</div>"
            ],
            "text/plain": [
              "              totmou   totrev creditcd  eqpdays\n",
              "Customer_ID                                    \n",
              "1072218       5684.0   857.65      NaN      244\n",
              "1066597        925.0   373.12      NaN      344\n",
              "1023352      14466.0  2243.76      NaN      387\n",
              "1045521       2504.0   756.79      NaN      495\n",
              "1001813      76260.0  5526.11      NaN      361\n",
              "...              ...      ...      ...      ...\n",
              "1050795      15591.0  1330.71      NaN      447\n",
              "1096985       3011.0   522.14      NaN       74\n",
              "1025203        853.0   650.34      NaN      780\n",
              "1099258      33660.0  4247.85      NaN      206\n",
              "1026149       1955.0   606.08      NaN      770\n",
              "\n",
              "[152 rows x 4 columns]"
            ]
          },
          "execution_count": 10,
          "metadata": {},
          "output_type": "execute_result"
        }
      ],
      "source": [
        "perdidos = df[df.isnull().any(axis=1)]\n",
        "perdidos"
      ]
    },
    {
      "cell_type": "code",
      "execution_count": null,
      "metadata": {
        "scrolled": true,
        "id": "h76WLZN_0BW8",
        "outputId": "4f9abbcb-6550-4709-d0a4-8f507f12ff2f"
      },
      "outputs": [
        {
          "data": {
            "text/plain": [
              "Customer_ID\n",
              "1082423     906.58\n",
              "1069232    1172.25\n",
              "1031705     577.39\n",
              "1089806     294.26\n",
              "1076695     433.16\n",
              "            ...   \n",
              "1027614     484.31\n",
              "1098422     583.36\n",
              "1096497     294.29\n",
              "1087248     233.08\n",
              "1099003    1436.49\n",
              "Name: totrev, Length: 10000, dtype: float64"
            ]
          },
          "execution_count": 11,
          "metadata": {},
          "output_type": "execute_result"
        }
      ],
      "source": [
        "promedio = df['totrev'].mean()\n",
        "df['totrev'].replace(np.nan, promedio)"
      ]
    },
    {
      "cell_type": "markdown",
      "metadata": {
        "id": "Y25CLs_P0BW8"
      },
      "source": [
        "También es recomendado usar la funcion `fillna()`"
      ]
    },
    {
      "cell_type": "code",
      "execution_count": null,
      "metadata": {
        "scrolled": true,
        "id": "DJfZXO980BW9"
      },
      "outputs": [],
      "source": [
        "df['creditcd'].fillna(\"Y\",inplace=True)"
      ]
    },
    {
      "cell_type": "code",
      "execution_count": null,
      "metadata": {
        "id": "qQLmwz0Q0BW9",
        "outputId": "b8558045-7669-4a56-f2e5-4a29b8e43bae"
      },
      "outputs": [
        {
          "data": {
            "text/plain": [
              "totmou      False\n",
              "totrev      False\n",
              "creditcd    False\n",
              "eqpdays     False\n",
              "dtype: bool"
            ]
          },
          "execution_count": 13,
          "metadata": {},
          "output_type": "execute_result"
        }
      ],
      "source": [
        "df.isnull().any(axis=0)"
      ]
    },
    {
      "cell_type": "code",
      "execution_count": null,
      "metadata": {
        "scrolled": true,
        "id": "Ka7RVIpT0BW9",
        "outputId": "79647a24-f4f3-4f10-bfe2-4bfe5bed2967"
      },
      "outputs": [
        {
          "data": {
            "text/html": [
              "<div>\n",
              "<style scoped>\n",
              "    .dataframe tbody tr th:only-of-type {\n",
              "        vertical-align: middle;\n",
              "    }\n",
              "\n",
              "    .dataframe tbody tr th {\n",
              "        vertical-align: top;\n",
              "    }\n",
              "\n",
              "    .dataframe thead th {\n",
              "        text-align: right;\n",
              "    }\n",
              "</style>\n",
              "<table border=\"1\" class=\"dataframe\">\n",
              "  <thead>\n",
              "    <tr style=\"text-align: right;\">\n",
              "      <th></th>\n",
              "      <th>totmou</th>\n",
              "      <th>totrev</th>\n",
              "      <th>creditcd</th>\n",
              "      <th>eqpdays</th>\n",
              "    </tr>\n",
              "    <tr>\n",
              "      <th>Customer_ID</th>\n",
              "      <th></th>\n",
              "      <th></th>\n",
              "      <th></th>\n",
              "      <th></th>\n",
              "    </tr>\n",
              "  </thead>\n",
              "  <tbody>\n",
              "    <tr>\n",
              "      <th>1082423</th>\n",
              "      <td>7269.0</td>\n",
              "      <td>906.58</td>\n",
              "      <td>Y</td>\n",
              "      <td>371</td>\n",
              "    </tr>\n",
              "    <tr>\n",
              "      <th>1069232</th>\n",
              "      <td>13552.0</td>\n",
              "      <td>1172.25</td>\n",
              "      <td>N</td>\n",
              "      <td>83</td>\n",
              "    </tr>\n",
              "    <tr>\n",
              "      <th>1031705</th>\n",
              "      <td>4152.0</td>\n",
              "      <td>577.39</td>\n",
              "      <td>Y</td>\n",
              "      <td>675</td>\n",
              "    </tr>\n",
              "    <tr>\n",
              "      <th>1089806</th>\n",
              "      <td>1863.0</td>\n",
              "      <td>294.26</td>\n",
              "      <td>Y</td>\n",
              "      <td>218</td>\n",
              "    </tr>\n",
              "    <tr>\n",
              "      <th>1076695</th>\n",
              "      <td>4155.0</td>\n",
              "      <td>433.16</td>\n",
              "      <td>N</td>\n",
              "      <td>222</td>\n",
              "    </tr>\n",
              "    <tr>\n",
              "      <th>...</th>\n",
              "      <td>...</td>\n",
              "      <td>...</td>\n",
              "      <td>...</td>\n",
              "      <td>...</td>\n",
              "    </tr>\n",
              "    <tr>\n",
              "      <th>1027614</th>\n",
              "      <td>2570.0</td>\n",
              "      <td>484.31</td>\n",
              "      <td>Y</td>\n",
              "      <td>611</td>\n",
              "    </tr>\n",
              "    <tr>\n",
              "      <th>1098422</th>\n",
              "      <td>2105.0</td>\n",
              "      <td>583.36</td>\n",
              "      <td>Y</td>\n",
              "      <td>1243</td>\n",
              "    </tr>\n",
              "    <tr>\n",
              "      <th>1096497</th>\n",
              "      <td>3690.0</td>\n",
              "      <td>294.29</td>\n",
              "      <td>Y</td>\n",
              "      <td>212</td>\n",
              "    </tr>\n",
              "    <tr>\n",
              "      <th>1087248</th>\n",
              "      <td>3333.0</td>\n",
              "      <td>233.08</td>\n",
              "      <td>Y</td>\n",
              "      <td>290</td>\n",
              "    </tr>\n",
              "    <tr>\n",
              "      <th>1099003</th>\n",
              "      <td>5025.0</td>\n",
              "      <td>1436.49</td>\n",
              "      <td>Y</td>\n",
              "      <td>1029</td>\n",
              "    </tr>\n",
              "  </tbody>\n",
              "</table>\n",
              "<p>10000 rows × 4 columns</p>\n",
              "</div>"
            ],
            "text/plain": [
              "              totmou   totrev creditcd  eqpdays\n",
              "Customer_ID                                    \n",
              "1082423       7269.0   906.58        Y      371\n",
              "1069232      13552.0  1172.25        N       83\n",
              "1031705       4152.0   577.39        Y      675\n",
              "1089806       1863.0   294.26        Y      218\n",
              "1076695       4155.0   433.16        N      222\n",
              "...              ...      ...      ...      ...\n",
              "1027614       2570.0   484.31        Y      611\n",
              "1098422       2105.0   583.36        Y     1243\n",
              "1096497       3690.0   294.29        Y      212\n",
              "1087248       3333.0   233.08        Y      290\n",
              "1099003       5025.0  1436.49        Y     1029\n",
              "\n",
              "[10000 rows x 4 columns]"
            ]
          },
          "execution_count": 14,
          "metadata": {},
          "output_type": "execute_result"
        }
      ],
      "source": [
        "df"
      ]
    },
    {
      "cell_type": "markdown",
      "metadata": {
        "id": "OklQowF00BW9"
      },
      "source": [
        "\n",
        "\n",
        "### Cálculo de estadísticas resumen\n",
        "\n",
        "Las medidas estadísticas resumen son de gran ayuda para comprender como es el comportamiento de la distribución de los datos, los objetos `DataFrame` ofrecen facilidades para hacer el cálculo de algunas estadísticas sobre cada una de las variables.\n",
        "\n",
        "```python\n",
        "df[\"var\"].value_counts() # Encuentra la frecuencia de las categorias de una columna (la columna debe ser cualitativa)\n",
        "df[\"var\"].min()          # Encuentra el mínimo de una variable cuantitativa\n",
        "df[\"var\"].median()       # Encuentra el mínimo de una variable cuantitativa\n",
        "df[\"var\"].mean()         # Encuentra el promedio de una variable cuantitativa\n",
        "df[\"var\"].max()          # Encuentra el máximo de una variable cuantitativa\n",
        "df[\"var\"].quantile()     # Encuentra los cuantiles de una variable cuantitativa\n",
        "```\n"
      ]
    },
    {
      "cell_type": "code",
      "execution_count": null,
      "metadata": {
        "id": "k-cy0kk10BW9",
        "outputId": "1d635fec-68ab-4e90-f39a-6ef1b3ba6f37"
      },
      "outputs": [
        {
          "data": {
            "text/plain": [
              "Y    6948\n",
              "N    3052\n",
              "Name: creditcd, dtype: int64"
            ]
          },
          "execution_count": 15,
          "metadata": {},
          "output_type": "execute_result"
        }
      ],
      "source": [
        "df[\"creditcd\"].value_counts()"
      ]
    },
    {
      "cell_type": "code",
      "execution_count": null,
      "metadata": {
        "id": "1ePdF2TA0BW-",
        "outputId": "3696e6f9-f199-4b2d-dd93-1228b86987da"
      },
      "outputs": [
        {
          "data": {
            "text/plain": [
              "10000"
            ]
          },
          "execution_count": 16,
          "metadata": {},
          "output_type": "execute_result"
        }
      ],
      "source": [
        "df[\"creditcd\"].count()"
      ]
    },
    {
      "cell_type": "code",
      "execution_count": null,
      "metadata": {
        "scrolled": true,
        "id": "ttRWH3Lg0BW-",
        "outputId": "b35eac3a-4923-4f54-96a7-95c276dbbd03"
      },
      "outputs": [
        {
          "data": {
            "text/plain": [
              "-5"
            ]
          },
          "execution_count": 17,
          "metadata": {},
          "output_type": "execute_result"
        }
      ],
      "source": [
        "df[\"eqpdays\"].min()"
      ]
    },
    {
      "cell_type": "markdown",
      "metadata": {
        "id": "mcPsgpR60BW-"
      },
      "source": [
        "La exploración del anterior resultado puede mostrar inconsistencias  en los registros y nos ayudará a tomar decisiones sobre algunos registros, el valor mínimo de la variable `eqpdays` (Número de días (antigüedad) del equipo actual) debería ser estrictamente positivo y estos pueden ser errores de ingreso."
      ]
    },
    {
      "cell_type": "code",
      "execution_count": null,
      "metadata": {
        "id": "rVdWy3b10BW-",
        "outputId": "72deaecd-0c65-411a-e535-3292d9131481"
      },
      "outputs": [
        {
          "data": {
            "text/plain": [
              "1823"
            ]
          },
          "execution_count": 18,
          "metadata": {},
          "output_type": "execute_result"
        }
      ],
      "source": [
        "df[\"eqpdays\"].max()"
      ]
    },
    {
      "cell_type": "code",
      "execution_count": null,
      "metadata": {
        "id": "mBLCLtDQ0BW_",
        "outputId": "2cc8d503-5f0a-4494-d152-29bd9b112462"
      },
      "outputs": [
        {
          "data": {
            "text/plain": [
              "338.0"
            ]
          },
          "execution_count": 19,
          "metadata": {},
          "output_type": "execute_result"
        }
      ],
      "source": [
        "df[\"eqpdays\"].median()"
      ]
    },
    {
      "cell_type": "code",
      "execution_count": null,
      "metadata": {
        "scrolled": true,
        "id": "d8Qonro-0BW_",
        "outputId": "efddac0d-b068-400e-dba3-d635ee18c093"
      },
      "outputs": [
        {
          "data": {
            "text/plain": [
              "386.7945"
            ]
          },
          "execution_count": 20,
          "metadata": {},
          "output_type": "execute_result"
        }
      ],
      "source": [
        "df[\"eqpdays\"].mean()"
      ]
    },
    {
      "cell_type": "code",
      "execution_count": null,
      "metadata": {
        "scrolled": true,
        "id": "Ew0X1pLA0BW_",
        "outputId": "13062d6c-c815-44cf-8d85-3b4db77c5daa"
      },
      "outputs": [
        {
          "data": {
            "text/plain": [
              "210.0"
            ]
          },
          "execution_count": 21,
          "metadata": {},
          "output_type": "execute_result"
        }
      ],
      "source": [
        "df[\"eqpdays\"].quantile(0.25)"
      ]
    },
    {
      "cell_type": "code",
      "execution_count": null,
      "metadata": {
        "id": "6EaFozGV0BW_",
        "outputId": "3ee3faa4-c770-4c3b-cd01-81bf755aa8f9"
      },
      "outputs": [
        {
          "data": {
            "text/plain": [
              "522.0"
            ]
          },
          "execution_count": 22,
          "metadata": {},
          "output_type": "execute_result"
        }
      ],
      "source": [
        "df[\"eqpdays\"].quantile(0.75)"
      ]
    },
    {
      "cell_type": "markdown",
      "metadata": {
        "id": "VfxunQuG0BXA"
      },
      "source": [
        "Estas estadísticas pueden ser resumidas con el comando:\n",
        "```python\n",
        "df[\"var\"].describe()  # Estadísticas resumen principales\n",
        "```"
      ]
    },
    {
      "cell_type": "code",
      "execution_count": null,
      "metadata": {
        "scrolled": true,
        "id": "ds5iUQ5x0BXA",
        "outputId": "d82e738a-d2e2-4969-a3f8-eb8cfa70fbd5"
      },
      "outputs": [
        {
          "data": {
            "text/plain": [
              "count    10000.000000\n",
              "mean       386.794500\n",
              "std        252.720196\n",
              "min         -5.000000\n",
              "25%        210.000000\n",
              "50%        338.000000\n",
              "75%        522.000000\n",
              "max       1823.000000\n",
              "Name: eqpdays, dtype: float64"
            ]
          },
          "execution_count": 23,
          "metadata": {},
          "output_type": "execute_result"
        }
      ],
      "source": [
        "df[\"eqpdays\"].describe()"
      ]
    },
    {
      "cell_type": "markdown",
      "metadata": {
        "id": "o5b7eLB20BXA"
      },
      "source": [
        "### Agregar información de múltiples tablas\n",
        "\n",
        "Hemos desarrollado un breve resumen estadístico solamente usando la base `Credito_dias.csv`. Realizaremos la combinación de las 19 áreas que nos reportan en los archivos csv. Una forma de lograr esta tarea de agregación es usar el método pd.concat() de pandas. Una entrada en este método puede ser una lista de DataFrames que quiera concatenar. Usaremos un ciclo  `for` sobre cada uno de los archivos de áreas para\n"
      ]
    },
    {
      "cell_type": "code",
      "execution_count": null,
      "metadata": {
        "id": "ZDdnFTNY0BXF",
        "outputId": "38388247-3521-4e98-c12b-21eb423ed253"
      },
      "outputs": [
        {
          "data": {
            "text/plain": [
              "totmou      float64\n",
              "totrev      float64\n",
              "creditcd     object\n",
              "eqpdays       int64\n",
              "dtype: object"
            ]
          },
          "execution_count": 24,
          "metadata": {},
          "output_type": "execute_result"
        }
      ],
      "source": [
        "df.columns\n",
        "df.dtypes"
      ]
    },
    {
      "cell_type": "markdown",
      "metadata": {
        "id": "b9HHi3540BXF"
      },
      "source": [
        "### Ejercicio 1\n",
        "Determinar los percentiles 25, 50 y 75 para las columnas ttomou, totrev, eqpdays"
      ]
    },
    {
      "cell_type": "code",
      "execution_count": null,
      "metadata": {
        "id": "QYEr8gQN0BXG"
      },
      "outputs": [],
      "source": [
        "#Espacio para el desarrollo del ejercicio"
      ]
    },
    {
      "cell_type": "code",
      "execution_count": null,
      "metadata": {
        "id": "rRp5HSod0BXG",
        "outputId": "4a6dd5fb-577d-4f8e-aa78-8c38d7321a8d"
      },
      "outputs": [
        {
          "data": {
            "text/plain": [
              "['ATLANTIC SOUTH AREA.csv',\n",
              " 'CALIFORNIA NORTH AREA.csv',\n",
              " 'CENTRAL-SOUTH TEXAS AREA.csv',\n",
              " 'CHICAGO AREA.csv',\n",
              " 'Credito_dias.csv',\n",
              " 'DALLAS AREA.csv',\n",
              " 'DC-MARYLAND-VIRGINIA AREA.csv',\n",
              " 'GREAT LAKES AREA.csv',\n",
              " 'HOUSTON AREA.csv',\n",
              " 'LOS ANGELES AREA.csv',\n",
              " 'MIDWEST AREA.csv',\n",
              " 'NEW ENGLAND AREA.csv',\n",
              " 'NEW YORK CITY AREA.csv',\n",
              " 'NORTH FLORIDA AREA.csv',\n",
              " 'NORTHWEST-ROCKY MOUNTAIN AREA.csv',\n",
              " 'OHIO AREA.csv',\n",
              " 'PHILADELPHIA AREA.csv',\n",
              " 'SOUTH FLORIDA AREA.csv',\n",
              " 'SOUTHWEST AREA.csv',\n",
              " 'TENNESSEE AREA.csv']"
            ]
          },
          "execution_count": 26,
          "metadata": {},
          "output_type": "execute_result"
        }
      ],
      "source": [
        "os.listdir(\"Bases\")"
      ]
    },
    {
      "cell_type": "code",
      "execution_count": null,
      "metadata": {
        "id": "eiQ_FMco0BXG",
        "outputId": "3cf1a809-7b52-46c5-fba7-f5f4b58b458f"
      },
      "outputs": [
        {
          "name": "stdout",
          "output_type": "stream",
          "text": [
            "Definición de los símbolos de las acciones\n",
            " --- Inicie el bucle sobre los símbolos --- \n",
            "Procesando el símbolo: ATLANTIC SOUTH AREA\n",
            " --- Bucle completo sobre los símbolos --- \n",
            "\n",
            "Agregando los datos\n",
            "(592, 4)\n",
            "Cabeza del DataFrame agr_df: \n",
            "Procesando el símbolo: CALIFORNIA NORTH AREA\n",
            " --- Bucle completo sobre los símbolos --- \n",
            "\n",
            "Agregando los datos\n",
            "(1191, 4)\n",
            "Cabeza del DataFrame agr_df: \n",
            "Procesando el símbolo: CENTRAL-SOUTH TEXAS AREA\n",
            " --- Bucle completo sobre los símbolos --- \n",
            "\n",
            "Agregando los datos\n",
            "(1600, 4)\n",
            "Cabeza del DataFrame agr_df: \n",
            "Procesando el símbolo: CHICAGO AREA\n",
            " --- Bucle completo sobre los símbolos --- \n",
            "\n",
            "Agregando los datos\n",
            "(2096, 4)\n",
            "Cabeza del DataFrame agr_df: \n",
            "Procesando el símbolo: DALLAS AREA\n",
            " --- Bucle completo sobre los símbolos --- \n",
            "\n",
            "Agregando los datos\n",
            "(2614, 4)\n",
            "Cabeza del DataFrame agr_df: \n",
            "Procesando el símbolo: DC-MARYLAND-VIRGINIA AREA\n",
            " --- Bucle completo sobre los símbolos --- \n",
            "\n",
            "Agregando los datos\n",
            "(3254, 4)\n",
            "Cabeza del DataFrame agr_df: \n",
            "Procesando el símbolo: GREAT LAKES AREA\n",
            " --- Bucle completo sobre los símbolos --- \n",
            "\n",
            "Agregando los datos\n",
            "(3742, 4)\n",
            "Cabeza del DataFrame agr_df: \n",
            "Procesando el símbolo: HOUSTON AREA\n",
            " --- Bucle completo sobre los símbolos --- \n",
            "\n",
            "Agregando los datos\n",
            "(4200, 4)\n",
            "Cabeza del DataFrame agr_df: \n",
            "Procesando el símbolo: LOS ANGELES AREA\n",
            " --- Bucle completo sobre los símbolos --- \n",
            "\n",
            "Agregando los datos\n",
            "(4871, 4)\n",
            "Cabeza del DataFrame agr_df: \n",
            "Procesando el símbolo: MIDWEST AREA\n",
            " --- Bucle completo sobre los símbolos --- \n",
            "\n",
            "Agregando los datos\n",
            "(5556, 4)\n",
            "Cabeza del DataFrame agr_df: \n",
            "Procesando el símbolo: NEW ENGLAND AREA\n",
            " --- Bucle completo sobre los símbolos --- \n",
            "\n",
            "Agregando los datos\n",
            "(6081, 4)\n",
            "Cabeza del DataFrame agr_df: \n",
            "Procesando el símbolo: NEW YORK CITY AREA\n",
            " --- Bucle completo sobre los símbolos --- \n",
            "\n",
            "Agregando los datos\n",
            "(7226, 4)\n",
            "Cabeza del DataFrame agr_df: \n",
            "Procesando el símbolo: NORTH FLORIDA AREA\n",
            " --- Bucle completo sobre los símbolos --- \n",
            "\n",
            "Agregando los datos\n",
            "(7668, 4)\n",
            "Cabeza del DataFrame agr_df: \n",
            "Procesando el símbolo: NORTHWEST-ROCKY MOUNTAIN AREA\n",
            " --- Bucle completo sobre los símbolos --- \n",
            "\n",
            "Agregando los datos\n",
            "(8097, 4)\n",
            "Cabeza del DataFrame agr_df: \n",
            "Procesando el símbolo: OHIO AREA\n",
            " --- Bucle completo sobre los símbolos --- \n",
            "\n",
            "Agregando los datos\n",
            "(8534, 4)\n",
            "Cabeza del DataFrame agr_df: \n",
            "Procesando el símbolo: PHILADELPHIA AREA\n",
            " --- Bucle completo sobre los símbolos --- \n",
            "\n",
            "Agregando los datos\n",
            "(8779, 4)\n",
            "Cabeza del DataFrame agr_df: \n",
            "Procesando el símbolo: SOUTH FLORIDA AREA\n",
            " --- Bucle completo sobre los símbolos --- \n",
            "\n",
            "Agregando los datos\n",
            "(9145, 4)\n",
            "Cabeza del DataFrame agr_df: \n",
            "Procesando el símbolo: SOUTHWEST AREA\n",
            " --- Bucle completo sobre los símbolos --- \n",
            "\n",
            "Agregando los datos\n",
            "(9729, 4)\n",
            "Cabeza del DataFrame agr_df: \n",
            "Procesando el símbolo: TENNESSEE AREA\n",
            " --- Bucle completo sobre los símbolos --- \n",
            "\n",
            "Agregando los datos\n",
            "(9997, 4)\n",
            "Cabeza del DataFrame agr_df: \n"
          ]
        },
        {
          "data": {
            "text/html": [
              "<div>\n",
              "<style scoped>\n",
              "    .dataframe tbody tr th:only-of-type {\n",
              "        vertical-align: middle;\n",
              "    }\n",
              "\n",
              "    .dataframe tbody tr th {\n",
              "        vertical-align: top;\n",
              "    }\n",
              "\n",
              "    .dataframe thead th {\n",
              "        text-align: right;\n",
              "    }\n",
              "</style>\n",
              "<table border=\"1\" class=\"dataframe\">\n",
              "  <thead>\n",
              "    <tr style=\"text-align: right;\">\n",
              "      <th></th>\n",
              "      <th>custcare_Mean</th>\n",
              "      <th>new_cell</th>\n",
              "      <th>area</th>\n",
              "      <th>creditcd</th>\n",
              "    </tr>\n",
              "    <tr>\n",
              "      <th>Customer_ID</th>\n",
              "      <th></th>\n",
              "      <th></th>\n",
              "      <th></th>\n",
              "      <th></th>\n",
              "    </tr>\n",
              "  </thead>\n",
              "  <tbody>\n",
              "    <tr>\n",
              "      <th>1069232</th>\n",
              "      <td>3.666667</td>\n",
              "      <td>U</td>\n",
              "      <td>ATLANTIC SOUTH AREA</td>\n",
              "      <td>N</td>\n",
              "    </tr>\n",
              "    <tr>\n",
              "      <th>1043846</th>\n",
              "      <td>0.000000</td>\n",
              "      <td>U</td>\n",
              "      <td>ATLANTIC SOUTH AREA</td>\n",
              "      <td>Y</td>\n",
              "    </tr>\n",
              "    <tr>\n",
              "      <th>1008539</th>\n",
              "      <td>0.000000</td>\n",
              "      <td>N</td>\n",
              "      <td>ATLANTIC SOUTH AREA</td>\n",
              "      <td>Y</td>\n",
              "    </tr>\n",
              "    <tr>\n",
              "      <th>1068315</th>\n",
              "      <td>0.000000</td>\n",
              "      <td>U</td>\n",
              "      <td>ATLANTIC SOUTH AREA</td>\n",
              "      <td>N</td>\n",
              "    </tr>\n",
              "    <tr>\n",
              "      <th>1074220</th>\n",
              "      <td>1.666667</td>\n",
              "      <td>U</td>\n",
              "      <td>ATLANTIC SOUTH AREA</td>\n",
              "      <td>N</td>\n",
              "    </tr>\n",
              "  </tbody>\n",
              "</table>\n",
              "</div>"
            ],
            "text/plain": [
              "             custcare_Mean new_cell                 area creditcd\n",
              "Customer_ID                                                      \n",
              "1069232           3.666667        U  ATLANTIC SOUTH AREA        N\n",
              "1043846           0.000000        U  ATLANTIC SOUTH AREA        Y\n",
              "1008539           0.000000        N  ATLANTIC SOUTH AREA        Y\n",
              "1068315           0.000000        U  ATLANTIC SOUTH AREA        N\n",
              "1074220           1.666667        U  ATLANTIC SOUTH AREA        N"
            ]
          },
          "execution_count": 27,
          "metadata": {},
          "output_type": "execute_result"
        }
      ],
      "source": [
        "print(\"Definición de los símbolos de las acciones\")\n",
        "areas = ['ATLANTIC SOUTH AREA',\n",
        " 'CALIFORNIA NORTH AREA',\n",
        " 'CENTRAL-SOUTH TEXAS AREA',\n",
        " 'CHICAGO AREA',\n",
        " 'DALLAS AREA',\n",
        " 'DC-MARYLAND-VIRGINIA AREA',\n",
        " 'GREAT LAKES AREA',\n",
        " 'HOUSTON AREA',\n",
        " 'LOS ANGELES AREA',\n",
        " 'MIDWEST AREA',\n",
        " 'NEW ENGLAND AREA',\n",
        " 'NEW YORK CITY AREA',\n",
        " 'NORTH FLORIDA AREA',\n",
        " 'NORTHWEST-ROCKY MOUNTAIN AREA',\n",
        " 'OHIO AREA',\n",
        " 'PHILADELPHIA AREA',\n",
        " 'SOUTH FLORIDA AREA',\n",
        " 'SOUTHWEST AREA',\n",
        " 'TENNESSEE AREA']\n",
        "lista_de_df = []\n",
        "# Bucle sobre los símbolos\n",
        "print(\" --- Inicie el bucle sobre los símbolos --- \")\n",
        "for i in areas:\n",
        "    print(\"Procesando el símbolo: \" + i)\n",
        "    temp_df = pd.read_csv(\"/content/Bases/\" + i + \".csv\",index_col=\"Customer_ID\")\n",
        "    temp_df[\"area\"] = i\n",
        "    lista_de_df.append(temp_df)\n",
        "    # Usando un salto de línea al final de esta cadena de caracteres por estética\n",
        "    print(\" --- Bucle completo sobre los símbolos --- \\n\")\n",
        "    # Combinando en un solo DataFrame usando el concat\n",
        "    print(\"Agregando los datos\")\n",
        "    agr_df = pd.concat(lista_de_df, axis=0)\n",
        "    print(agr_df.shape)\n",
        "    print(\"Cabeza del DataFrame agr_df: \")\n",
        "agr_df.head()"
      ]
    },
    {
      "cell_type": "code",
      "execution_count": null,
      "metadata": {
        "id": "cyOJZZrg0BXG",
        "outputId": "49d8c37e-9f4a-4eb2-d917-eb5ad40648ad"
      },
      "outputs": [
        {
          "data": {
            "text/html": [
              "<div>\n",
              "<style scoped>\n",
              "    .dataframe tbody tr th:only-of-type {\n",
              "        vertical-align: middle;\n",
              "    }\n",
              "\n",
              "    .dataframe tbody tr th {\n",
              "        vertical-align: top;\n",
              "    }\n",
              "\n",
              "    .dataframe thead th {\n",
              "        text-align: right;\n",
              "    }\n",
              "</style>\n",
              "<table border=\"1\" class=\"dataframe\">\n",
              "  <thead>\n",
              "    <tr style=\"text-align: right;\">\n",
              "      <th></th>\n",
              "      <th>custcare_Mean</th>\n",
              "      <th>new_cell</th>\n",
              "      <th>area</th>\n",
              "      <th>creditcd</th>\n",
              "    </tr>\n",
              "    <tr>\n",
              "      <th>Customer_ID</th>\n",
              "      <th></th>\n",
              "      <th></th>\n",
              "      <th></th>\n",
              "      <th></th>\n",
              "    </tr>\n",
              "  </thead>\n",
              "  <tbody>\n",
              "    <tr>\n",
              "      <th>1000014</th>\n",
              "      <td>0.000000</td>\n",
              "      <td>Y</td>\n",
              "      <td>CENTRAL-SOUTH TEXAS AREA</td>\n",
              "      <td>N</td>\n",
              "    </tr>\n",
              "    <tr>\n",
              "      <th>1000016</th>\n",
              "      <td>1.000000</td>\n",
              "      <td>N</td>\n",
              "      <td>DALLAS AREA</td>\n",
              "      <td>Y</td>\n",
              "    </tr>\n",
              "    <tr>\n",
              "      <th>1000021</th>\n",
              "      <td>0.333333</td>\n",
              "      <td>U</td>\n",
              "      <td>TENNESSEE AREA</td>\n",
              "      <td>Y</td>\n",
              "    </tr>\n",
              "    <tr>\n",
              "      <th>1000023</th>\n",
              "      <td>0.000000</td>\n",
              "      <td>N</td>\n",
              "      <td>NORTHWEST-ROCKY MOUNTAIN AREA</td>\n",
              "      <td>N</td>\n",
              "    </tr>\n",
              "    <tr>\n",
              "      <th>1000029</th>\n",
              "      <td>0.000000</td>\n",
              "      <td>N</td>\n",
              "      <td>NEW ENGLAND AREA</td>\n",
              "      <td>Y</td>\n",
              "    </tr>\n",
              "  </tbody>\n",
              "</table>\n",
              "</div>"
            ],
            "text/plain": [
              "             custcare_Mean new_cell                           area creditcd\n",
              "Customer_ID                                                                \n",
              "1000014           0.000000        Y       CENTRAL-SOUTH TEXAS AREA        N\n",
              "1000016           1.000000        N                    DALLAS AREA        Y\n",
              "1000021           0.333333        U                 TENNESSEE AREA        Y\n",
              "1000023           0.000000        N  NORTHWEST-ROCKY MOUNTAIN AREA        N\n",
              "1000029           0.000000        N               NEW ENGLAND AREA        Y"
            ]
          },
          "execution_count": 28,
          "metadata": {},
          "output_type": "execute_result"
        }
      ],
      "source": [
        "agr_df.sort_index(axis=0,inplace=True)\n",
        "agr_df.head()"
      ]
    },
    {
      "cell_type": "markdown",
      "metadata": {
        "id": "IqyfLbCw0BXH"
      },
      "source": [
        "La ejecución nos da como resultado una base de datos de 9997 registros correspondiente a la concatenación de todas las áreas. Se debe notar que nuestro conjunto de datos también es indexado por la columna `Customer_ID` y que la dimensión de los registros de está nueva base es menor a la de  `Creditos_dias.csv`."
      ]
    },
    {
      "cell_type": "markdown",
      "metadata": {
        "id": "tsAcYZmw0BXH"
      },
      "source": [
        " ## Cruce de información\n",
        "\n",
        "El cruce de información es una operación esencial en el análisis de los datos. Usualmente, la posibilidad de realizar el cruce de dos o más fuentes de información es el primer paso para responder preguntas complejas acerca de los datos. Existen muchas formas de cruzar o combinar tablas de datos. El cruce de estos datos siempre tiene un propósito. Por tanto, se debe realizar un análisis de lo que se requiere antes de iniciar. Para esto, lo primero es conocer bien las fuentes de información que se van a relacionar.\n",
        "\n",
        "### Uniones (Joins)\n",
        "Usando la librería pandas se pueden realizar 4 tipos de uniones para cruzar información entre dos fuentes de datos, ver Figura abajo.\n",
        "* INNER JOIN: este tipo de cruce incluye solo los resgistros que coincieden en las dos tablas\n",
        "* LEFT JOIN:  en este tipo de cruce se incluyen todos los registros de la primera tabla aunque no aparezcan coincidencias en la segunda. Cuando no hay coincidencias en la segunda tabla los campos correspondientes a esta aparecerán como nulos.\n",
        "* RIGHT JOIN: en este tipo de cruce se incluyen todos los registros de la segunda tabla aunque no aparezcan coincidencias en la primera. Cuando no hay coincidencias en la primer tabla los campos correspondientes a esta aparecerán como nulos.\n",
        "* OUTER JOIN O FULL JOIN: combina todos los registros de ambas tablas aunque no existan coincidencias en la otra tabla.\n",
        "\n",
        "![Los tipos de uniones que se pueden ejecutar en pandas](https://letsdobigdata.files.wordpress.com/2016/03/joins.png)\n",
        "\n",
        "La combinación a usar depende del análisis que se requiera con los datos. Lo más común es realizar un cruce de tipo Inner Join, debido a que muestra los registros cuando aparecen relacionados en ambas tablas. Sin embargo, en\n",
        "ocasiones se quiere saber que pasa con todos los registros de la primera tabla aunque no se tengan coincidencias. Alternativamente, quizá, lo menos usual es hacer combinaciones de tipo RIGHT o OUTER. Generalmente, estas son usadas cuando se quiere saber por qué no se tienen coincidencias, o cuáles registros no cumplen con la relación especificada.\n",
        "\n",
        "Ya que desconocemos cuales son los registros perdidos en los 2 dataframes que hemos construido y es necesario para continuar nuestro preprocesamiento el unir la información."
      ]
    },
    {
      "cell_type": "code",
      "execution_count": null,
      "metadata": {
        "scrolled": true,
        "id": "yyp6eH1B0BXH",
        "outputId": "8d4b10d5-4968-44ae-8926-2986183b727b"
      },
      "outputs": [
        {
          "data": {
            "text/html": [
              "<div>\n",
              "<style scoped>\n",
              "    .dataframe tbody tr th:only-of-type {\n",
              "        vertical-align: middle;\n",
              "    }\n",
              "\n",
              "    .dataframe tbody tr th {\n",
              "        vertical-align: top;\n",
              "    }\n",
              "\n",
              "    .dataframe thead th {\n",
              "        text-align: right;\n",
              "    }\n",
              "</style>\n",
              "<table border=\"1\" class=\"dataframe\">\n",
              "  <thead>\n",
              "    <tr style=\"text-align: right;\">\n",
              "      <th></th>\n",
              "      <th>totmou</th>\n",
              "      <th>totrev</th>\n",
              "      <th>creditcd_x</th>\n",
              "      <th>eqpdays</th>\n",
              "      <th>custcare_Mean</th>\n",
              "      <th>new_cell</th>\n",
              "      <th>area</th>\n",
              "      <th>creditcd_y</th>\n",
              "    </tr>\n",
              "    <tr>\n",
              "      <th>Customer_ID</th>\n",
              "      <th></th>\n",
              "      <th></th>\n",
              "      <th></th>\n",
              "      <th></th>\n",
              "      <th></th>\n",
              "      <th></th>\n",
              "      <th></th>\n",
              "      <th></th>\n",
              "    </tr>\n",
              "  </thead>\n",
              "  <tbody>\n",
              "    <tr>\n",
              "      <th>1082423</th>\n",
              "      <td>7269.0</td>\n",
              "      <td>906.58</td>\n",
              "      <td>Y</td>\n",
              "      <td>371</td>\n",
              "      <td>14.333333</td>\n",
              "      <td>U</td>\n",
              "      <td>NEW ENGLAND AREA</td>\n",
              "      <td>Y</td>\n",
              "    </tr>\n",
              "    <tr>\n",
              "      <th>1069232</th>\n",
              "      <td>13552.0</td>\n",
              "      <td>1172.25</td>\n",
              "      <td>N</td>\n",
              "      <td>83</td>\n",
              "      <td>3.666667</td>\n",
              "      <td>U</td>\n",
              "      <td>ATLANTIC SOUTH AREA</td>\n",
              "      <td>N</td>\n",
              "    </tr>\n",
              "    <tr>\n",
              "      <th>1031705</th>\n",
              "      <td>4152.0</td>\n",
              "      <td>577.39</td>\n",
              "      <td>Y</td>\n",
              "      <td>675</td>\n",
              "      <td>3.000000</td>\n",
              "      <td>U</td>\n",
              "      <td>NEW YORK CITY AREA</td>\n",
              "      <td>Y</td>\n",
              "    </tr>\n",
              "    <tr>\n",
              "      <th>1089806</th>\n",
              "      <td>1863.0</td>\n",
              "      <td>294.26</td>\n",
              "      <td>Y</td>\n",
              "      <td>218</td>\n",
              "      <td>11.000000</td>\n",
              "      <td>U</td>\n",
              "      <td>CHICAGO AREA</td>\n",
              "      <td>Y</td>\n",
              "    </tr>\n",
              "    <tr>\n",
              "      <th>1076695</th>\n",
              "      <td>4155.0</td>\n",
              "      <td>433.16</td>\n",
              "      <td>N</td>\n",
              "      <td>222</td>\n",
              "      <td>0.000000</td>\n",
              "      <td>U</td>\n",
              "      <td>NORTH FLORIDA AREA</td>\n",
              "      <td>N</td>\n",
              "    </tr>\n",
              "    <tr>\n",
              "      <th>...</th>\n",
              "      <td>...</td>\n",
              "      <td>...</td>\n",
              "      <td>...</td>\n",
              "      <td>...</td>\n",
              "      <td>...</td>\n",
              "      <td>...</td>\n",
              "      <td>...</td>\n",
              "      <td>...</td>\n",
              "    </tr>\n",
              "    <tr>\n",
              "      <th>1027614</th>\n",
              "      <td>2570.0</td>\n",
              "      <td>484.31</td>\n",
              "      <td>Y</td>\n",
              "      <td>611</td>\n",
              "      <td>0.666667</td>\n",
              "      <td>U</td>\n",
              "      <td>CHICAGO AREA</td>\n",
              "      <td>Y</td>\n",
              "    </tr>\n",
              "    <tr>\n",
              "      <th>1098422</th>\n",
              "      <td>2105.0</td>\n",
              "      <td>583.36</td>\n",
              "      <td>Y</td>\n",
              "      <td>1243</td>\n",
              "      <td>0.000000</td>\n",
              "      <td>U</td>\n",
              "      <td>SOUTHWEST AREA</td>\n",
              "      <td>Y</td>\n",
              "    </tr>\n",
              "    <tr>\n",
              "      <th>1096497</th>\n",
              "      <td>3690.0</td>\n",
              "      <td>294.29</td>\n",
              "      <td>Y</td>\n",
              "      <td>212</td>\n",
              "      <td>0.666667</td>\n",
              "      <td>Y</td>\n",
              "      <td>NEW ENGLAND AREA</td>\n",
              "      <td>Y</td>\n",
              "    </tr>\n",
              "    <tr>\n",
              "      <th>1087248</th>\n",
              "      <td>3333.0</td>\n",
              "      <td>233.08</td>\n",
              "      <td>Y</td>\n",
              "      <td>290</td>\n",
              "      <td>0.000000</td>\n",
              "      <td>U</td>\n",
              "      <td>CALIFORNIA NORTH AREA</td>\n",
              "      <td>Y</td>\n",
              "    </tr>\n",
              "    <tr>\n",
              "      <th>1099003</th>\n",
              "      <td>5025.0</td>\n",
              "      <td>1436.49</td>\n",
              "      <td>Y</td>\n",
              "      <td>1029</td>\n",
              "      <td>0.333333</td>\n",
              "      <td>U</td>\n",
              "      <td>LOS ANGELES AREA</td>\n",
              "      <td>Y</td>\n",
              "    </tr>\n",
              "  </tbody>\n",
              "</table>\n",
              "<p>9997 rows × 8 columns</p>\n",
              "</div>"
            ],
            "text/plain": [
              "              totmou   totrev creditcd_x  eqpdays  custcare_Mean new_cell  \\\n",
              "Customer_ID                                                                 \n",
              "1082423       7269.0   906.58          Y      371      14.333333        U   \n",
              "1069232      13552.0  1172.25          N       83       3.666667        U   \n",
              "1031705       4152.0   577.39          Y      675       3.000000        U   \n",
              "1089806       1863.0   294.26          Y      218      11.000000        U   \n",
              "1076695       4155.0   433.16          N      222       0.000000        U   \n",
              "...              ...      ...        ...      ...            ...      ...   \n",
              "1027614       2570.0   484.31          Y      611       0.666667        U   \n",
              "1098422       2105.0   583.36          Y     1243       0.000000        U   \n",
              "1096497       3690.0   294.29          Y      212       0.666667        Y   \n",
              "1087248       3333.0   233.08          Y      290       0.000000        U   \n",
              "1099003       5025.0  1436.49          Y     1029       0.333333        U   \n",
              "\n",
              "                              area creditcd_y  \n",
              "Customer_ID                                    \n",
              "1082423           NEW ENGLAND AREA          Y  \n",
              "1069232        ATLANTIC SOUTH AREA          N  \n",
              "1031705         NEW YORK CITY AREA          Y  \n",
              "1089806               CHICAGO AREA          Y  \n",
              "1076695         NORTH FLORIDA AREA          N  \n",
              "...                            ...        ...  \n",
              "1027614               CHICAGO AREA          Y  \n",
              "1098422             SOUTHWEST AREA          Y  \n",
              "1096497           NEW ENGLAND AREA          Y  \n",
              "1087248      CALIFORNIA NORTH AREA          Y  \n",
              "1099003           LOS ANGELES AREA          Y  \n",
              "\n",
              "[9997 rows x 8 columns]"
            ]
          },
          "execution_count": 29,
          "metadata": {},
          "output_type": "execute_result"
        }
      ],
      "source": [
        "df3=df.merge(agr_df,left_index=True,right_index=True,how=\"inner\")\n",
        "df3"
      ]
    },
    {
      "cell_type": "markdown",
      "metadata": {
        "id": "4YcPtqWv0BXI"
      },
      "source": [
        "### Ejercicio 2  \n",
        "¿Cuáles son los 3 registros que no se incluyen en df3 ?\n"
      ]
    },
    {
      "cell_type": "code",
      "execution_count": null,
      "metadata": {
        "id": "oNoGhOVD0BXI",
        "outputId": "411fe0de-f1fc-4107-cadd-cf6dcc89f04c"
      },
      "outputs": [
        {
          "data": {
            "text/html": [
              "<div>\n",
              "<style scoped>\n",
              "    .dataframe tbody tr th:only-of-type {\n",
              "        vertical-align: middle;\n",
              "    }\n",
              "\n",
              "    .dataframe tbody tr th {\n",
              "        vertical-align: top;\n",
              "    }\n",
              "\n",
              "    .dataframe thead th {\n",
              "        text-align: right;\n",
              "    }\n",
              "</style>\n",
              "<table border=\"1\" class=\"dataframe\">\n",
              "  <thead>\n",
              "    <tr style=\"text-align: right;\">\n",
              "      <th></th>\n",
              "      <th>totmou</th>\n",
              "      <th>totrev</th>\n",
              "      <th>creditcd</th>\n",
              "      <th>eqpdays</th>\n",
              "    </tr>\n",
              "    <tr>\n",
              "      <th>Customer_ID</th>\n",
              "      <th></th>\n",
              "      <th></th>\n",
              "      <th></th>\n",
              "      <th></th>\n",
              "    </tr>\n",
              "  </thead>\n",
              "  <tbody>\n",
              "    <tr>\n",
              "      <th>1050270</th>\n",
              "      <td>1409.0</td>\n",
              "      <td>407.02</td>\n",
              "      <td>Y</td>\n",
              "      <td>102</td>\n",
              "    </tr>\n",
              "    <tr>\n",
              "      <th>1020629</th>\n",
              "      <td>15284.0</td>\n",
              "      <td>2370.62</td>\n",
              "      <td>N</td>\n",
              "      <td>445</td>\n",
              "    </tr>\n",
              "    <tr>\n",
              "      <th>1020451</th>\n",
              "      <td>3604.0</td>\n",
              "      <td>662.42</td>\n",
              "      <td>Y</td>\n",
              "      <td>675</td>\n",
              "    </tr>\n",
              "  </tbody>\n",
              "</table>\n",
              "</div>"
            ],
            "text/plain": [
              "              totmou   totrev creditcd  eqpdays\n",
              "Customer_ID                                    \n",
              "1050270       1409.0   407.02        Y      102\n",
              "1020629      15284.0  2370.62        N      445\n",
              "1020451       3604.0   662.42        Y      675"
            ]
          },
          "execution_count": 30,
          "metadata": {},
          "output_type": "execute_result"
        }
      ],
      "source": [
        "sin_registros=(df.index.isin(df3.index))\n",
        "df.iloc[~sin_registros,]"
      ]
    },
    {
      "cell_type": "markdown",
      "metadata": {
        "id": "jfdxqtZ80BXI"
      },
      "source": [
        "Si deseamos realizar una filtración sobre algún valor relevante por ejemplo el área podremos revertir el proceso usando el operador `==`  que retorna `True` en el caso que dos objetos tengan el mismo valor"
      ]
    },
    {
      "cell_type": "code",
      "execution_count": null,
      "metadata": {
        "id": "e-2WkvRq0BXI",
        "outputId": "fb3d7d32-844c-4881-87cd-e1bbd4b717b5"
      },
      "outputs": [
        {
          "data": {
            "text/html": [
              "<div>\n",
              "<style scoped>\n",
              "    .dataframe tbody tr th:only-of-type {\n",
              "        vertical-align: middle;\n",
              "    }\n",
              "\n",
              "    .dataframe tbody tr th {\n",
              "        vertical-align: top;\n",
              "    }\n",
              "\n",
              "    .dataframe thead th {\n",
              "        text-align: right;\n",
              "    }\n",
              "</style>\n",
              "<table border=\"1\" class=\"dataframe\">\n",
              "  <thead>\n",
              "    <tr style=\"text-align: right;\">\n",
              "      <th></th>\n",
              "      <th>totmou</th>\n",
              "      <th>totrev</th>\n",
              "      <th>creditcd_x</th>\n",
              "      <th>eqpdays</th>\n",
              "      <th>custcare_Mean</th>\n",
              "      <th>new_cell</th>\n",
              "      <th>area</th>\n",
              "      <th>creditcd_y</th>\n",
              "    </tr>\n",
              "    <tr>\n",
              "      <th>Customer_ID</th>\n",
              "      <th></th>\n",
              "      <th></th>\n",
              "      <th></th>\n",
              "      <th></th>\n",
              "      <th></th>\n",
              "      <th></th>\n",
              "      <th></th>\n",
              "      <th></th>\n",
              "    </tr>\n",
              "  </thead>\n",
              "  <tbody>\n",
              "    <tr>\n",
              "      <th>1082423</th>\n",
              "      <td>7269.0</td>\n",
              "      <td>906.58</td>\n",
              "      <td>Y</td>\n",
              "      <td>371</td>\n",
              "      <td>14.333333</td>\n",
              "      <td>U</td>\n",
              "      <td>NEW ENGLAND AREA</td>\n",
              "      <td>Y</td>\n",
              "    </tr>\n",
              "    <tr>\n",
              "      <th>1076771</th>\n",
              "      <td>288.0</td>\n",
              "      <td>374.98</td>\n",
              "      <td>Y</td>\n",
              "      <td>284</td>\n",
              "      <td>0.000000</td>\n",
              "      <td>U</td>\n",
              "      <td>NEW ENGLAND AREA</td>\n",
              "      <td>Y</td>\n",
              "    </tr>\n",
              "    <tr>\n",
              "      <th>1083737</th>\n",
              "      <td>1928.0</td>\n",
              "      <td>396.78</td>\n",
              "      <td>Y</td>\n",
              "      <td>261</td>\n",
              "      <td>0.000000</td>\n",
              "      <td>U</td>\n",
              "      <td>NEW ENGLAND AREA</td>\n",
              "      <td>Y</td>\n",
              "    </tr>\n",
              "    <tr>\n",
              "      <th>1078557</th>\n",
              "      <td>2781.0</td>\n",
              "      <td>590.26</td>\n",
              "      <td>Y</td>\n",
              "      <td>276</td>\n",
              "      <td>0.000000</td>\n",
              "      <td>N</td>\n",
              "      <td>NEW ENGLAND AREA</td>\n",
              "      <td>Y</td>\n",
              "    </tr>\n",
              "    <tr>\n",
              "      <th>1018015</th>\n",
              "      <td>24069.0</td>\n",
              "      <td>2129.74</td>\n",
              "      <td>Y</td>\n",
              "      <td>199</td>\n",
              "      <td>2.000000</td>\n",
              "      <td>N</td>\n",
              "      <td>NEW ENGLAND AREA</td>\n",
              "      <td>Y</td>\n",
              "    </tr>\n",
              "  </tbody>\n",
              "</table>\n",
              "</div>"
            ],
            "text/plain": [
              "              totmou   totrev creditcd_x  eqpdays  custcare_Mean new_cell  \\\n",
              "Customer_ID                                                                 \n",
              "1082423       7269.0   906.58          Y      371      14.333333        U   \n",
              "1076771        288.0   374.98          Y      284       0.000000        U   \n",
              "1083737       1928.0   396.78          Y      261       0.000000        U   \n",
              "1078557       2781.0   590.26          Y      276       0.000000        N   \n",
              "1018015      24069.0  2129.74          Y      199       2.000000        N   \n",
              "\n",
              "                         area creditcd_y  \n",
              "Customer_ID                               \n",
              "1082423      NEW ENGLAND AREA          Y  \n",
              "1076771      NEW ENGLAND AREA          Y  \n",
              "1083737      NEW ENGLAND AREA          Y  \n",
              "1078557      NEW ENGLAND AREA          Y  \n",
              "1018015      NEW ENGLAND AREA          Y  "
            ]
          },
          "execution_count": 31,
          "metadata": {},
          "output_type": "execute_result"
        }
      ],
      "source": [
        "new_ingland=df3[df3[\"area\"]==\"NEW ENGLAND AREA\"]\n",
        "new_ingland.head()"
      ]
    },
    {
      "cell_type": "markdown",
      "metadata": {
        "id": "FwOYgIeg0BXJ"
      },
      "source": [
        "El comando   `df3[\"area\"]==\"NEW ENGLAND AREA\"`"
      ]
    },
    {
      "cell_type": "code",
      "execution_count": null,
      "metadata": {
        "id": "R8EgkHMh0BXJ",
        "outputId": "85b5e876-3fdf-470f-b2a3-f5007c2a402d"
      },
      "outputs": [
        {
          "data": {
            "text/plain": [
              "Customer_ID\n",
              "1082423     True\n",
              "1069232    False\n",
              "1031705    False\n",
              "1089806    False\n",
              "1076695    False\n",
              "           ...  \n",
              "1027614    False\n",
              "1098422    False\n",
              "1096497     True\n",
              "1087248    False\n",
              "1099003    False\n",
              "Name: area, Length: 9997, dtype: bool"
            ]
          },
          "execution_count": 32,
          "metadata": {},
          "output_type": "execute_result"
        }
      ],
      "source": [
        "df3[\"area\"]==\"NEW ENGLAND AREA\""
      ]
    },
    {
      "cell_type": "markdown",
      "metadata": {
        "id": "Q-qRAUEV0BXJ"
      },
      "source": [
        "devuelve una serie boleana  con el mismo número de filas de la base`df3`, donde cada valor es `True` o `False` dependiendo si el valor de `area` de un registro  toma el valor de \"NEW ENGLAND AREA\""
      ]
    },
    {
      "cell_type": "markdown",
      "metadata": {
        "id": "aZ0sZNzY0BXJ"
      },
      "source": [
        "### Agrupación por área geográfica\n",
        "\n",
        "En el Analisis de la información se suelen usar funciones de resumen, las cuales plantean el agrupamiento de ciertas características por categorías. Para más información consultar [gropby().](https://pandas.pydata.org/pandas-docs/stable/reference/api/pandas.DataFrame.groupby.html).\n",
        "\n",
        "Para nuestro desarrollo es de interés el revisar si el comportamiento de las variables se mantiene en cada una de las áreas geográficas.\n"
      ]
    },
    {
      "cell_type": "code",
      "execution_count": null,
      "metadata": {
        "id": "dIKKlqgx0BXK",
        "outputId": "509410d7-802a-4e26-ba90-63c944c9ad79"
      },
      "outputs": [
        {
          "data": {
            "text/plain": [
              "<pandas.core.groupby.generic.DataFrameGroupBy object at 0x000001A6EE17C288>"
            ]
          },
          "execution_count": 33,
          "metadata": {},
          "output_type": "execute_result"
        }
      ],
      "source": [
        "df3.groupby(\"area\")"
      ]
    },
    {
      "cell_type": "markdown",
      "metadata": {
        "id": "OhANI4D00BXK"
      },
      "source": [
        "Aquí, el objeto DataFrameGroupBy  contiene un objeto DataFrame para cada grupo (en este caso, un objeto DataFrame para cada símbolo). Específicamente, cada elemento del objeto es una tupla que contiene el identificador de grupo (en este caso el símbolo), y las filas correspondientes del DataFrame que tienen ese símbolo).\n",
        "\n",
        "La librería `pandas`  permite iterar sobre el objeto groupby() para ver lo que hay dentro:"
      ]
    },
    {
      "cell_type": "code",
      "execution_count": null,
      "metadata": {
        "id": "g3a62BVe0BXK",
        "outputId": "b787c728-6e24-4981-9c5b-5acd2a0d3832"
      },
      "outputs": [
        {
          "name": "stdout",
          "output_type": "stream",
          "text": [
            "<class 'tuple'>\n",
            "ATLANTIC SOUTH AREA\n",
            "              totmou   totrev creditcd_x  eqpdays  custcare_Mean new_cell  \\\n",
            "Customer_ID                                                                 \n",
            "1069232      13552.0  1172.25          N       83       3.666667        U   \n",
            "1043846       7294.0  1495.18          Y      460       0.000000        U   \n",
            "1008539       4078.0  1257.05          Y     1019       0.000000        N   \n",
            "1068315       5124.0   652.27          N      377       0.000000        U   \n",
            "1074220       6648.0   590.21          N      295       1.666667        U   \n",
            "\n",
            "                            area creditcd_y  \n",
            "Customer_ID                                  \n",
            "1069232      ATLANTIC SOUTH AREA          N  \n",
            "1043846      ATLANTIC SOUTH AREA          Y  \n",
            "1008539      ATLANTIC SOUTH AREA          Y  \n",
            "1068315      ATLANTIC SOUTH AREA          N  \n",
            "1074220      ATLANTIC SOUTH AREA          N  \n",
            "<class 'tuple'>\n",
            "CALIFORNIA NORTH AREA\n",
            "              totmou   totrev creditcd_x  eqpdays  custcare_Mean new_cell  \\\n",
            "Customer_ID                                                                 \n",
            "1064411       6282.0   729.54          Y      357      15.666667        U   \n",
            "1029380       1834.0   610.87          Y      575       0.000000        U   \n",
            "1056368      10517.0  1108.00          N      307       0.666667        Y   \n",
            "1046285      18750.0  1485.02          Y      534       2.000000        Y   \n",
            "1010813      19030.0  2275.21          N      198       1.333333        U   \n",
            "\n",
            "                              area creditcd_y  \n",
            "Customer_ID                                    \n",
            "1064411      CALIFORNIA NORTH AREA          Y  \n",
            "1029380      CALIFORNIA NORTH AREA          Y  \n",
            "1056368      CALIFORNIA NORTH AREA          N  \n",
            "1046285      CALIFORNIA NORTH AREA          Y  \n",
            "1010813      CALIFORNIA NORTH AREA          N  \n",
            "<class 'tuple'>\n",
            "CENTRAL-SOUTH TEXAS AREA\n",
            "             totmou   totrev creditcd_x  eqpdays  custcare_Mean new_cell  \\\n",
            "Customer_ID                                                                \n",
            "1016302      6721.0   926.03          Y      893      13.666667        N   \n",
            "1002366      2892.0  1102.53          Y      219       1.000000        U   \n",
            "1062599      3187.0   590.87          Y       16       0.000000        N   \n",
            "1059746      1312.0   488.51          Y      491       0.000000        U   \n",
            "1016781      1928.0  1051.33          Y      779       0.000000        N   \n",
            "\n",
            "                                 area creditcd_y  \n",
            "Customer_ID                                       \n",
            "1016302      CENTRAL-SOUTH TEXAS AREA          Y  \n",
            "1002366      CENTRAL-SOUTH TEXAS AREA          Y  \n",
            "1062599      CENTRAL-SOUTH TEXAS AREA          Y  \n",
            "1059746      CENTRAL-SOUTH TEXAS AREA          Y  \n",
            "1016781      CENTRAL-SOUTH TEXAS AREA          Y  \n",
            "<class 'tuple'>\n",
            "CHICAGO AREA\n",
            "             totmou   totrev creditcd_x  eqpdays  custcare_Mean new_cell  \\\n",
            "Customer_ID                                                                \n",
            "1089806      1863.0   294.26          Y      218      11.000000        U   \n",
            "1088967      4395.0   668.23          N      333       0.666667        U   \n",
            "1085074      1636.0   543.83          Y      363       0.000000        U   \n",
            "1053959      5871.0   468.14          Y      254       6.666667        Y   \n",
            "1046932      9213.0  1141.79          N      420       1.000000        U   \n",
            "\n",
            "                     area creditcd_y  \n",
            "Customer_ID                           \n",
            "1089806      CHICAGO AREA          Y  \n",
            "1088967      CHICAGO AREA          N  \n",
            "1085074      CHICAGO AREA          Y  \n",
            "1053959      CHICAGO AREA          Y  \n",
            "1046932      CHICAGO AREA          N  \n",
            "<class 'tuple'>\n",
            "DALLAS AREA\n",
            "              totmou   totrev creditcd_x  eqpdays  custcare_Mean new_cell  \\\n",
            "Customer_ID                                                                 \n",
            "1008208      36302.0  5020.37          Y      257            2.0        N   \n",
            "1013047       4957.0   826.92          Y      790            0.0        U   \n",
            "1089778       1320.0   445.91          Y      325            0.0        U   \n",
            "1007540       3841.0   998.41          Y      931            0.0        Y   \n",
            "1023169       3204.0  1181.96          Y      807            0.0        N   \n",
            "\n",
            "                    area creditcd_y  \n",
            "Customer_ID                          \n",
            "1008208      DALLAS AREA          Y  \n",
            "1013047      DALLAS AREA          Y  \n",
            "1089778      DALLAS AREA          Y  \n",
            "1007540      DALLAS AREA          Y  \n",
            "1023169      DALLAS AREA          Y  \n",
            "<class 'tuple'>\n",
            "DC-MARYLAND-VIRGINIA AREA\n",
            "              totmou   totrev creditcd_x  eqpdays  custcare_Mean new_cell  \\\n",
            "Customer_ID                                                                 \n",
            "1045239      11544.0  1012.64          Y      498       0.000000        U   \n",
            "1016607        284.0   825.15          Y        4       0.000000        Y   \n",
            "1015068       5960.0  1902.45          Y      809       0.000000        N   \n",
            "1076198       4787.0  1173.96          Y      333       2.333333        U   \n",
            "1028649       7533.0  1250.63          Y      641       0.000000        U   \n",
            "\n",
            "                                  area creditcd_y  \n",
            "Customer_ID                                        \n",
            "1045239      DC-MARYLAND-VIRGINIA AREA          Y  \n",
            "1016607      DC-MARYLAND-VIRGINIA AREA          Y  \n",
            "1015068      DC-MARYLAND-VIRGINIA AREA          Y  \n",
            "1076198      DC-MARYLAND-VIRGINIA AREA          Y  \n",
            "1028649      DC-MARYLAND-VIRGINIA AREA          Y  \n",
            "<class 'tuple'>\n",
            "GREAT LAKES AREA\n",
            "              totmou   totrev creditcd_x  eqpdays  custcare_Mean new_cell  \\\n",
            "Customer_ID                                                                 \n",
            "1046584       3751.0  1199.89          Y      592       0.000000        U   \n",
            "1023685      12620.0  1959.49          Y      509       0.000000        U   \n",
            "1035097       1502.0   690.12          Y      603       0.000000        U   \n",
            "1011051       5886.0   558.61          Y      151       1.666667        Y   \n",
            "1011205      32828.0  2712.13          N      184       7.000000        N   \n",
            "\n",
            "                         area creditcd_y  \n",
            "Customer_ID                               \n",
            "1046584      GREAT LAKES AREA          Y  \n",
            "1023685      GREAT LAKES AREA          Y  \n",
            "1035097      GREAT LAKES AREA          Y  \n",
            "1011051      GREAT LAKES AREA          Y  \n",
            "1011205      GREAT LAKES AREA          N  \n",
            "<class 'tuple'>\n",
            "HOUSTON AREA\n",
            "               totmou   totrev creditcd_x  eqpdays  custcare_Mean new_cell  \\\n",
            "Customer_ID                                                                  \n",
            "1088984      10194.00  1089.04          N      209       6.333333        U   \n",
            "1013751       6346.00  1453.43          Y      460       0.000000        U   \n",
            "1001867      21518.05  2769.67          Y      657      11.333333        Y   \n",
            "1007086       2097.00  1421.31          Y      569       0.000000        N   \n",
            "1049782      26249.00  2254.27          N      144       0.000000        N   \n",
            "\n",
            "                     area creditcd_y  \n",
            "Customer_ID                           \n",
            "1088984      HOUSTON AREA          N  \n",
            "1013751      HOUSTON AREA          Y  \n",
            "1001867      HOUSTON AREA          Y  \n",
            "1007086      HOUSTON AREA          Y  \n",
            "1049782      HOUSTON AREA          N  \n",
            "<class 'tuple'>\n",
            "LOS ANGELES AREA\n",
            "              totmou   totrev creditcd_x  eqpdays  custcare_Mean new_cell  \\\n",
            "Customer_ID                                                                 \n",
            "1020126       4411.0  1252.91          Y      741       0.000000        Y   \n",
            "1040941       9195.0   959.63          N      486       1.000000        Y   \n",
            "1015658      59449.0  3531.09          Y      380       0.000000        U   \n",
            "1088347       4060.0   503.72          Y      340      14.333333        U   \n",
            "1019146       2038.0  1000.84          N      796       0.000000        U   \n",
            "\n",
            "                         area creditcd_y  \n",
            "Customer_ID                               \n",
            "1020126      LOS ANGELES AREA          Y  \n",
            "1040941      LOS ANGELES AREA          N  \n",
            "1015658      LOS ANGELES AREA          Y  \n",
            "1088347      LOS ANGELES AREA          Y  \n",
            "1019146      LOS ANGELES AREA          N  \n",
            "<class 'tuple'>\n",
            "MIDWEST AREA\n",
            "              totmou   totrev creditcd_x  eqpdays  custcare_Mean new_cell  \\\n",
            "Customer_ID                                                                 \n",
            "1056697       4874.0   246.77          Y      507       0.000000        U   \n",
            "1072218       5684.0   857.65          Y      244       4.000000        U   \n",
            "1005704      21991.0  2809.08          Y      241       0.000000        Y   \n",
            "1040496       2230.0   588.61          N      543       0.000000        U   \n",
            "1050396       8190.0  1190.50          N      235       1.666667        N   \n",
            "\n",
            "                     area creditcd_y  \n",
            "Customer_ID                           \n",
            "1056697      MIDWEST AREA          Y  \n",
            "1072218      MIDWEST AREA        NaN  \n",
            "1005704      MIDWEST AREA          Y  \n",
            "1040496      MIDWEST AREA          N  \n",
            "1050396      MIDWEST AREA          N  \n",
            "<class 'tuple'>\n",
            "NEW ENGLAND AREA\n",
            "              totmou   totrev creditcd_x  eqpdays  custcare_Mean new_cell  \\\n",
            "Customer_ID                                                                 \n",
            "1082423       7269.0   906.58          Y      371      14.333333        U   \n",
            "1076771        288.0   374.98          Y      284       0.000000        U   \n",
            "1083737       1928.0   396.78          Y      261       0.000000        U   \n",
            "1078557       2781.0   590.26          Y      276       0.000000        N   \n",
            "1018015      24069.0  2129.74          Y      199       2.000000        N   \n",
            "\n",
            "                         area creditcd_y  \n",
            "Customer_ID                               \n",
            "1082423      NEW ENGLAND AREA          Y  \n",
            "1076771      NEW ENGLAND AREA          Y  \n",
            "1083737      NEW ENGLAND AREA          Y  \n",
            "1078557      NEW ENGLAND AREA          Y  \n",
            "1018015      NEW ENGLAND AREA          Y  \n",
            "<class 'tuple'>\n",
            "NEW YORK CITY AREA\n",
            "             totmou  totrev creditcd_x  eqpdays  custcare_Mean new_cell  \\\n",
            "Customer_ID                                                               \n",
            "1031705      4152.0  577.39          Y      675       3.000000        U   \n",
            "1091652      5441.0  578.80          Y       68       7.000000        U   \n",
            "1013855      1330.0  898.34          Y      877       0.333333        Y   \n",
            "1055064      2066.0  499.82          N      168      11.666667        Y   \n",
            "1062755      1438.0  445.47          Y      304       0.000000        U   \n",
            "\n",
            "                           area creditcd_y  \n",
            "Customer_ID                                 \n",
            "1031705      NEW YORK CITY AREA          Y  \n",
            "1091652      NEW YORK CITY AREA          Y  \n",
            "1013855      NEW YORK CITY AREA          Y  \n",
            "1055064      NEW YORK CITY AREA          N  \n",
            "1062755      NEW YORK CITY AREA          Y  \n",
            "<class 'tuple'>\n",
            "NORTH FLORIDA AREA\n",
            "             totmou   totrev creditcd_x  eqpdays  custcare_Mean new_cell  \\\n",
            "Customer_ID                                                                \n",
            "1076695      4155.0   433.16          N      222       0.000000        U   \n",
            "1045505      5699.0  1052.28          Y      109       0.000000        U   \n",
            "1019639      2863.0   809.41          Y      618       1.333333        U   \n",
            "1011394      2242.0  1494.23          Y      940       0.000000        N   \n",
            "1063735      1973.0   543.95          N      406       0.000000        U   \n",
            "\n",
            "                           area creditcd_y  \n",
            "Customer_ID                                 \n",
            "1076695      NORTH FLORIDA AREA          N  \n",
            "1045505      NORTH FLORIDA AREA          Y  \n",
            "1019639      NORTH FLORIDA AREA          Y  \n",
            "1011394      NORTH FLORIDA AREA          Y  \n",
            "1063735      NORTH FLORIDA AREA          N  \n",
            "<class 'tuple'>\n",
            "NORTHWEST-ROCKY MOUNTAIN AREA\n",
            "             totmou   totrev creditcd_x  eqpdays  custcare_Mean new_cell  \\\n",
            "Customer_ID                                                                \n",
            "1057800      2030.0  1026.31          Y      439       0.000000        Y   \n",
            "1021478      3706.0   734.30          Y      255       0.000000        U   \n",
            "1091059      9703.0   952.30          N      135       0.000000        U   \n",
            "1091061      1989.0   388.85          N      206       0.000000        U   \n",
            "1068378      3981.0   643.93          Y      331       0.666667        U   \n",
            "\n",
            "                                      area creditcd_y  \n",
            "Customer_ID                                            \n",
            "1057800      NORTHWEST-ROCKY MOUNTAIN AREA          Y  \n",
            "1021478      NORTHWEST-ROCKY MOUNTAIN AREA          Y  \n",
            "1091059      NORTHWEST-ROCKY MOUNTAIN AREA          N  \n",
            "1091061      NORTHWEST-ROCKY MOUNTAIN AREA          N  \n",
            "1068378      NORTHWEST-ROCKY MOUNTAIN AREA          Y  \n",
            "<class 'tuple'>\n",
            "OHIO AREA\n",
            "             totmou   totrev creditcd_x  eqpdays  custcare_Mean new_cell  \\\n",
            "Customer_ID                                                                \n",
            "1011089      4120.0  1186.64          Y      902       0.000000        N   \n",
            "1056196      1737.0   522.76          Y      403       0.333333        U   \n",
            "1071184      3456.0   514.72          Y       18       0.000000        U   \n",
            "1090228      1566.0   492.35          Y      321       0.000000        U   \n",
            "1004669      4707.0  1692.76          Y      345       0.000000        N   \n",
            "\n",
            "                  area creditcd_y  \n",
            "Customer_ID                        \n",
            "1011089      OHIO AREA          Y  \n",
            "1056196      OHIO AREA          Y  \n",
            "1071184      OHIO AREA          Y  \n",
            "1090228      OHIO AREA          Y  \n",
            "1004669      OHIO AREA          Y  \n",
            "<class 'tuple'>\n",
            "PHILADELPHIA AREA\n",
            "              totmou   totrev creditcd_x  eqpdays  custcare_Mean new_cell  \\\n",
            "Customer_ID                                                                 \n",
            "1032592       2842.0   606.76          Y      564       0.000000        U   \n",
            "1024580      36563.0  2053.30          Y       81       2.333333        Y   \n",
            "1044265        331.0   217.04          N      507       0.000000        U   \n",
            "1075560       9608.0   876.60          N        8      16.000000        U   \n",
            "1026798       5738.0  1094.67          Y      573       4.333333        N   \n",
            "\n",
            "                          area creditcd_y  \n",
            "Customer_ID                                \n",
            "1032592      PHILADELPHIA AREA          Y  \n",
            "1024580      PHILADELPHIA AREA          Y  \n",
            "1044265      PHILADELPHIA AREA          N  \n",
            "1075560      PHILADELPHIA AREA          N  \n",
            "1026798      PHILADELPHIA AREA          Y  \n",
            "<class 'tuple'>\n",
            "SOUTH FLORIDA AREA\n",
            "              totmou   totrev creditcd_x  eqpdays  custcare_Mean new_cell  \\\n",
            "Customer_ID                                                                 \n",
            "1070208       3275.0   324.41          Y      318       0.000000        U   \n",
            "1051859       9579.0  1261.47          Y      194       1.000000        U   \n",
            "1035282      14566.0  1579.38          N       84       2.333333        N   \n",
            "1025479       2254.0   439.67          Y      608       0.000000        U   \n",
            "1023124      21199.0  1927.83          Y      451       0.000000        U   \n",
            "\n",
            "                           area creditcd_y  \n",
            "Customer_ID                                 \n",
            "1070208      SOUTH FLORIDA AREA          Y  \n",
            "1051859      SOUTH FLORIDA AREA          Y  \n",
            "1035282      SOUTH FLORIDA AREA          N  \n",
            "1025479      SOUTH FLORIDA AREA          Y  \n",
            "1023124      SOUTH FLORIDA AREA          Y  \n",
            "<class 'tuple'>\n",
            "SOUTHWEST AREA\n",
            "              totmou   totrev creditcd_x  eqpdays  custcare_Mean new_cell  \\\n",
            "Customer_ID                                                                 \n",
            "1097730        810.0   240.94          N      131       0.000000        U   \n",
            "1044329      12625.0   992.67          Y      552       0.333333        U   \n",
            "1029191       9223.0  1452.24          N      745       0.000000        N   \n",
            "1068005      11271.0   671.80          N      440       0.000000        Y   \n",
            "1091273       3385.0   428.99          N      311       0.666667        U   \n",
            "\n",
            "                       area creditcd_y  \n",
            "Customer_ID                             \n",
            "1097730      SOUTHWEST AREA          N  \n",
            "1044329      SOUTHWEST AREA          Y  \n",
            "1029191      SOUTHWEST AREA          N  \n",
            "1068005      SOUTHWEST AREA          N  \n",
            "1091273      SOUTHWEST AREA          N  \n",
            "<class 'tuple'>\n",
            "TENNESSEE AREA\n",
            "              totmou   totrev creditcd_x  eqpdays  custcare_Mean new_cell  \\\n",
            "Customer_ID                                                                 \n",
            "1047767       2524.0   196.84          N      580            0.0        U   \n",
            "1019471      14502.0  1776.55          N      748            5.0        N   \n",
            "1060278       2820.0   519.21          Y      488            3.0        Y   \n",
            "1085161       2821.0   483.02          N      362            0.0        U   \n",
            "1046324       2529.0  1391.70          Y      426            0.0        U   \n",
            "\n",
            "                       area creditcd_y  \n",
            "Customer_ID                             \n",
            "1047767      TENNESSEE AREA          N  \n",
            "1019471      TENNESSEE AREA          N  \n",
            "1060278      TENNESSEE AREA          Y  \n",
            "1085161      TENNESSEE AREA          N  \n",
            "1046324      TENNESSEE AREA          Y  \n"
          ]
        }
      ],
      "source": [
        "group_df = df3.groupby([\"area\"]) # Datos del grupo en df3 filtrados por el área\n",
        "# Haciendo un bucle a través de los grupos\n",
        "for item in group_df:\n",
        "    print(type(item)) # Mostrando el tipo de artículo en df3\n",
        "    print(item[0]) # área\n",
        "    print(item[1].head()) # DataFrame"
      ]
    },
    {
      "cell_type": "markdown",
      "metadata": {
        "id": "_uK-oig-0BXK"
      },
      "source": [
        "Usando el método  `groupby()` con el método `describe()` y apliquémoslo a cada símbolo para\n",
        "analizar la distribución de las características la variable ----."
      ]
    },
    {
      "cell_type": "code",
      "execution_count": null,
      "metadata": {
        "id": "1TIU1FLW0BXL",
        "outputId": "7512d4d7-b444-4a61-b820-888df631d685"
      },
      "outputs": [
        {
          "name": "stdout",
          "output_type": "stream",
          "text": [
            "------Área:  ATLANTIC SOUTH AREA\n",
            "                               totrev                                    \\\n",
            "                                count         mean          std     min   \n",
            "area                                                                      \n",
            "ATLANTIC SOUTH AREA             592.0   903.497399   697.197572  106.95   \n",
            "CALIFORNIA NORTH AREA           599.0  1136.348013   922.069148  105.14   \n",
            "CENTRAL-SOUTH TEXAS AREA        409.0  1174.366577   920.804942   48.53   \n",
            "CHICAGO AREA                    496.0   892.133206   669.068444   59.90   \n",
            "DALLAS AREA                     518.0  1258.508784  1267.499852   84.59   \n",
            "DC-MARYLAND-VIRGINIA AREA       640.0   941.692188   634.132033   86.78   \n",
            "GREAT LAKES AREA                488.0   987.714324   733.521417  126.56   \n",
            "HOUSTON AREA                    458.0  1127.294127   999.987571   92.38   \n",
            "LOS ANGELES AREA                671.0  1031.714382   738.616227   96.74   \n",
            "MIDWEST AREA                    685.0  1095.678701   945.251868   90.42   \n",
            "NEW ENGLAND AREA                525.0   941.766038   705.572889  118.51   \n",
            "NEW YORK CITY AREA             1145.0  1076.263546   869.372842   74.01   \n",
            "NORTH FLORIDA AREA              442.0   895.489457   642.729028   37.39   \n",
            "NORTHWEST-ROCKY MOUNTAIN AREA   429.0  1083.179091   977.857935   67.80   \n",
            "OHIO AREA                       437.0  1006.616499   785.713223  107.12   \n",
            "PHILADELPHIA AREA               245.0   998.303592   722.348164  133.63   \n",
            "SOUTH FLORIDA AREA              366.0  1167.546257   891.952255  118.62   \n",
            "SOUTHWEST AREA                  584.0  1036.548630   914.475459   11.10   \n",
            "TENNESSEE AREA                  268.0  1042.700597   886.731980  102.03   \n",
            "\n",
            "                                                                       \n",
            "                                    25%      50%        75%       max  \n",
            "area                                                                   \n",
            "ATLANTIC SOUTH AREA            464.9875  718.370  1135.3050   8171.47  \n",
            "CALIFORNIA NORTH AREA          535.9900  892.340  1396.4550   7511.11  \n",
            "CENTRAL-SOUTH TEXAS AREA       594.3300  895.090  1374.5800   5848.39  \n",
            "CHICAGO AREA                   474.0675  718.855  1086.9250   5710.44  \n",
            "DALLAS AREA                    581.6975  965.650  1484.8500  13149.85  \n",
            "DC-MARYLAND-VIRGINIA AREA      525.7200  787.360  1191.5525   5029.68  \n",
            "GREAT LAKES AREA               503.7325  767.960  1211.8900   5624.71  \n",
            "HOUSTON AREA                   530.6400  892.180  1443.1400   8719.53  \n",
            "LOS ANGELES AREA               554.2650  836.770  1271.6150   6120.84  \n",
            "MIDWEST AREA                   553.0600  854.350  1338.6900  13426.60  \n",
            "NEW ENGLAND AREA               497.5700  747.130  1185.8000   6939.19  \n",
            "NEW YORK CITY AREA             562.3400  870.310  1297.9700  10590.01  \n",
            "NORTH FLORIDA AREA             481.5225  758.190  1134.1950   6009.01  \n",
            "NORTHWEST-ROCKY MOUNTAIN AREA  524.3700  805.020  1293.2200   7419.73  \n",
            "OHIO AREA                      512.0700  781.040  1230.5600   8007.95  \n",
            "PHILADELPHIA AREA              558.7100  849.340  1154.6100   4819.91  \n",
            "SOUTH FLORIDA AREA             582.0225  914.600  1451.2550   6954.07  \n",
            "SOUTHWEST AREA                 508.3275  802.025  1187.3275   8772.57  \n",
            "TENNESSEE AREA                 486.6800  832.400  1282.6150   6751.70  \n",
            "------Área:  CALIFORNIA NORTH AREA\n",
            "                               totrev                                    \\\n",
            "                                count         mean          std     min   \n",
            "area                                                                      \n",
            "ATLANTIC SOUTH AREA             592.0   903.497399   697.197572  106.95   \n",
            "CALIFORNIA NORTH AREA           599.0  1136.348013   922.069148  105.14   \n",
            "CENTRAL-SOUTH TEXAS AREA        409.0  1174.366577   920.804942   48.53   \n",
            "CHICAGO AREA                    496.0   892.133206   669.068444   59.90   \n",
            "DALLAS AREA                     518.0  1258.508784  1267.499852   84.59   \n",
            "DC-MARYLAND-VIRGINIA AREA       640.0   941.692188   634.132033   86.78   \n",
            "GREAT LAKES AREA                488.0   987.714324   733.521417  126.56   \n",
            "HOUSTON AREA                    458.0  1127.294127   999.987571   92.38   \n",
            "LOS ANGELES AREA                671.0  1031.714382   738.616227   96.74   \n",
            "MIDWEST AREA                    685.0  1095.678701   945.251868   90.42   \n",
            "NEW ENGLAND AREA                525.0   941.766038   705.572889  118.51   \n",
            "NEW YORK CITY AREA             1145.0  1076.263546   869.372842   74.01   \n",
            "NORTH FLORIDA AREA              442.0   895.489457   642.729028   37.39   \n",
            "NORTHWEST-ROCKY MOUNTAIN AREA   429.0  1083.179091   977.857935   67.80   \n",
            "OHIO AREA                       437.0  1006.616499   785.713223  107.12   \n",
            "PHILADELPHIA AREA               245.0   998.303592   722.348164  133.63   \n",
            "SOUTH FLORIDA AREA              366.0  1167.546257   891.952255  118.62   \n",
            "SOUTHWEST AREA                  584.0  1036.548630   914.475459   11.10   \n",
            "TENNESSEE AREA                  268.0  1042.700597   886.731980  102.03   \n",
            "\n",
            "                                                                       \n",
            "                                    25%      50%        75%       max  \n",
            "area                                                                   \n",
            "ATLANTIC SOUTH AREA            464.9875  718.370  1135.3050   8171.47  \n",
            "CALIFORNIA NORTH AREA          535.9900  892.340  1396.4550   7511.11  \n",
            "CENTRAL-SOUTH TEXAS AREA       594.3300  895.090  1374.5800   5848.39  \n",
            "CHICAGO AREA                   474.0675  718.855  1086.9250   5710.44  \n",
            "DALLAS AREA                    581.6975  965.650  1484.8500  13149.85  \n",
            "DC-MARYLAND-VIRGINIA AREA      525.7200  787.360  1191.5525   5029.68  \n",
            "GREAT LAKES AREA               503.7325  767.960  1211.8900   5624.71  \n",
            "HOUSTON AREA                   530.6400  892.180  1443.1400   8719.53  \n",
            "LOS ANGELES AREA               554.2650  836.770  1271.6150   6120.84  \n",
            "MIDWEST AREA                   553.0600  854.350  1338.6900  13426.60  \n",
            "NEW ENGLAND AREA               497.5700  747.130  1185.8000   6939.19  \n",
            "NEW YORK CITY AREA             562.3400  870.310  1297.9700  10590.01  \n",
            "NORTH FLORIDA AREA             481.5225  758.190  1134.1950   6009.01  \n",
            "NORTHWEST-ROCKY MOUNTAIN AREA  524.3700  805.020  1293.2200   7419.73  \n",
            "OHIO AREA                      512.0700  781.040  1230.5600   8007.95  \n",
            "PHILADELPHIA AREA              558.7100  849.340  1154.6100   4819.91  \n",
            "SOUTH FLORIDA AREA             582.0225  914.600  1451.2550   6954.07  \n",
            "SOUTHWEST AREA                 508.3275  802.025  1187.3275   8772.57  \n",
            "TENNESSEE AREA                 486.6800  832.400  1282.6150   6751.70  \n",
            "------Área:  CENTRAL-SOUTH TEXAS AREA\n",
            "                               totrev                                    \\\n",
            "                                count         mean          std     min   \n",
            "area                                                                      \n",
            "ATLANTIC SOUTH AREA             592.0   903.497399   697.197572  106.95   \n",
            "CALIFORNIA NORTH AREA           599.0  1136.348013   922.069148  105.14   \n",
            "CENTRAL-SOUTH TEXAS AREA        409.0  1174.366577   920.804942   48.53   \n",
            "CHICAGO AREA                    496.0   892.133206   669.068444   59.90   \n",
            "DALLAS AREA                     518.0  1258.508784  1267.499852   84.59   \n",
            "DC-MARYLAND-VIRGINIA AREA       640.0   941.692188   634.132033   86.78   \n",
            "GREAT LAKES AREA                488.0   987.714324   733.521417  126.56   \n",
            "HOUSTON AREA                    458.0  1127.294127   999.987571   92.38   \n",
            "LOS ANGELES AREA                671.0  1031.714382   738.616227   96.74   \n",
            "MIDWEST AREA                    685.0  1095.678701   945.251868   90.42   \n",
            "NEW ENGLAND AREA                525.0   941.766038   705.572889  118.51   \n",
            "NEW YORK CITY AREA             1145.0  1076.263546   869.372842   74.01   \n",
            "NORTH FLORIDA AREA              442.0   895.489457   642.729028   37.39   \n",
            "NORTHWEST-ROCKY MOUNTAIN AREA   429.0  1083.179091   977.857935   67.80   \n",
            "OHIO AREA                       437.0  1006.616499   785.713223  107.12   \n",
            "PHILADELPHIA AREA               245.0   998.303592   722.348164  133.63   \n",
            "SOUTH FLORIDA AREA              366.0  1167.546257   891.952255  118.62   \n",
            "SOUTHWEST AREA                  584.0  1036.548630   914.475459   11.10   \n",
            "TENNESSEE AREA                  268.0  1042.700597   886.731980  102.03   \n",
            "\n",
            "                                                                       \n",
            "                                    25%      50%        75%       max  \n",
            "area                                                                   \n",
            "ATLANTIC SOUTH AREA            464.9875  718.370  1135.3050   8171.47  \n",
            "CALIFORNIA NORTH AREA          535.9900  892.340  1396.4550   7511.11  \n",
            "CENTRAL-SOUTH TEXAS AREA       594.3300  895.090  1374.5800   5848.39  \n",
            "CHICAGO AREA                   474.0675  718.855  1086.9250   5710.44  \n",
            "DALLAS AREA                    581.6975  965.650  1484.8500  13149.85  \n",
            "DC-MARYLAND-VIRGINIA AREA      525.7200  787.360  1191.5525   5029.68  \n",
            "GREAT LAKES AREA               503.7325  767.960  1211.8900   5624.71  \n",
            "HOUSTON AREA                   530.6400  892.180  1443.1400   8719.53  \n",
            "LOS ANGELES AREA               554.2650  836.770  1271.6150   6120.84  \n",
            "MIDWEST AREA                   553.0600  854.350  1338.6900  13426.60  \n",
            "NEW ENGLAND AREA               497.5700  747.130  1185.8000   6939.19  \n",
            "NEW YORK CITY AREA             562.3400  870.310  1297.9700  10590.01  \n",
            "NORTH FLORIDA AREA             481.5225  758.190  1134.1950   6009.01  \n",
            "NORTHWEST-ROCKY MOUNTAIN AREA  524.3700  805.020  1293.2200   7419.73  \n",
            "OHIO AREA                      512.0700  781.040  1230.5600   8007.95  \n",
            "PHILADELPHIA AREA              558.7100  849.340  1154.6100   4819.91  \n",
            "SOUTH FLORIDA AREA             582.0225  914.600  1451.2550   6954.07  \n",
            "SOUTHWEST AREA                 508.3275  802.025  1187.3275   8772.57  \n",
            "TENNESSEE AREA                 486.6800  832.400  1282.6150   6751.70  \n",
            "------Área:  CHICAGO AREA\n"
          ]
        },
        {
          "name": "stdout",
          "output_type": "stream",
          "text": [
            "                               totrev                                    \\\n",
            "                                count         mean          std     min   \n",
            "area                                                                      \n",
            "ATLANTIC SOUTH AREA             592.0   903.497399   697.197572  106.95   \n",
            "CALIFORNIA NORTH AREA           599.0  1136.348013   922.069148  105.14   \n",
            "CENTRAL-SOUTH TEXAS AREA        409.0  1174.366577   920.804942   48.53   \n",
            "CHICAGO AREA                    496.0   892.133206   669.068444   59.90   \n",
            "DALLAS AREA                     518.0  1258.508784  1267.499852   84.59   \n",
            "DC-MARYLAND-VIRGINIA AREA       640.0   941.692188   634.132033   86.78   \n",
            "GREAT LAKES AREA                488.0   987.714324   733.521417  126.56   \n",
            "HOUSTON AREA                    458.0  1127.294127   999.987571   92.38   \n",
            "LOS ANGELES AREA                671.0  1031.714382   738.616227   96.74   \n",
            "MIDWEST AREA                    685.0  1095.678701   945.251868   90.42   \n",
            "NEW ENGLAND AREA                525.0   941.766038   705.572889  118.51   \n",
            "NEW YORK CITY AREA             1145.0  1076.263546   869.372842   74.01   \n",
            "NORTH FLORIDA AREA              442.0   895.489457   642.729028   37.39   \n",
            "NORTHWEST-ROCKY MOUNTAIN AREA   429.0  1083.179091   977.857935   67.80   \n",
            "OHIO AREA                       437.0  1006.616499   785.713223  107.12   \n",
            "PHILADELPHIA AREA               245.0   998.303592   722.348164  133.63   \n",
            "SOUTH FLORIDA AREA              366.0  1167.546257   891.952255  118.62   \n",
            "SOUTHWEST AREA                  584.0  1036.548630   914.475459   11.10   \n",
            "TENNESSEE AREA                  268.0  1042.700597   886.731980  102.03   \n",
            "\n",
            "                                                                       \n",
            "                                    25%      50%        75%       max  \n",
            "area                                                                   \n",
            "ATLANTIC SOUTH AREA            464.9875  718.370  1135.3050   8171.47  \n",
            "CALIFORNIA NORTH AREA          535.9900  892.340  1396.4550   7511.11  \n",
            "CENTRAL-SOUTH TEXAS AREA       594.3300  895.090  1374.5800   5848.39  \n",
            "CHICAGO AREA                   474.0675  718.855  1086.9250   5710.44  \n",
            "DALLAS AREA                    581.6975  965.650  1484.8500  13149.85  \n",
            "DC-MARYLAND-VIRGINIA AREA      525.7200  787.360  1191.5525   5029.68  \n",
            "GREAT LAKES AREA               503.7325  767.960  1211.8900   5624.71  \n",
            "HOUSTON AREA                   530.6400  892.180  1443.1400   8719.53  \n",
            "LOS ANGELES AREA               554.2650  836.770  1271.6150   6120.84  \n",
            "MIDWEST AREA                   553.0600  854.350  1338.6900  13426.60  \n",
            "NEW ENGLAND AREA               497.5700  747.130  1185.8000   6939.19  \n",
            "NEW YORK CITY AREA             562.3400  870.310  1297.9700  10590.01  \n",
            "NORTH FLORIDA AREA             481.5225  758.190  1134.1950   6009.01  \n",
            "NORTHWEST-ROCKY MOUNTAIN AREA  524.3700  805.020  1293.2200   7419.73  \n",
            "OHIO AREA                      512.0700  781.040  1230.5600   8007.95  \n",
            "PHILADELPHIA AREA              558.7100  849.340  1154.6100   4819.91  \n",
            "SOUTH FLORIDA AREA             582.0225  914.600  1451.2550   6954.07  \n",
            "SOUTHWEST AREA                 508.3275  802.025  1187.3275   8772.57  \n",
            "TENNESSEE AREA                 486.6800  832.400  1282.6150   6751.70  \n",
            "------Área:  DALLAS AREA\n",
            "                               totrev                                    \\\n",
            "                                count         mean          std     min   \n",
            "area                                                                      \n",
            "ATLANTIC SOUTH AREA             592.0   903.497399   697.197572  106.95   \n",
            "CALIFORNIA NORTH AREA           599.0  1136.348013   922.069148  105.14   \n",
            "CENTRAL-SOUTH TEXAS AREA        409.0  1174.366577   920.804942   48.53   \n",
            "CHICAGO AREA                    496.0   892.133206   669.068444   59.90   \n",
            "DALLAS AREA                     518.0  1258.508784  1267.499852   84.59   \n",
            "DC-MARYLAND-VIRGINIA AREA       640.0   941.692188   634.132033   86.78   \n",
            "GREAT LAKES AREA                488.0   987.714324   733.521417  126.56   \n",
            "HOUSTON AREA                    458.0  1127.294127   999.987571   92.38   \n",
            "LOS ANGELES AREA                671.0  1031.714382   738.616227   96.74   \n",
            "MIDWEST AREA                    685.0  1095.678701   945.251868   90.42   \n",
            "NEW ENGLAND AREA                525.0   941.766038   705.572889  118.51   \n",
            "NEW YORK CITY AREA             1145.0  1076.263546   869.372842   74.01   \n",
            "NORTH FLORIDA AREA              442.0   895.489457   642.729028   37.39   \n",
            "NORTHWEST-ROCKY MOUNTAIN AREA   429.0  1083.179091   977.857935   67.80   \n",
            "OHIO AREA                       437.0  1006.616499   785.713223  107.12   \n",
            "PHILADELPHIA AREA               245.0   998.303592   722.348164  133.63   \n",
            "SOUTH FLORIDA AREA              366.0  1167.546257   891.952255  118.62   \n",
            "SOUTHWEST AREA                  584.0  1036.548630   914.475459   11.10   \n",
            "TENNESSEE AREA                  268.0  1042.700597   886.731980  102.03   \n",
            "\n",
            "                                                                       \n",
            "                                    25%      50%        75%       max  \n",
            "area                                                                   \n",
            "ATLANTIC SOUTH AREA            464.9875  718.370  1135.3050   8171.47  \n",
            "CALIFORNIA NORTH AREA          535.9900  892.340  1396.4550   7511.11  \n",
            "CENTRAL-SOUTH TEXAS AREA       594.3300  895.090  1374.5800   5848.39  \n",
            "CHICAGO AREA                   474.0675  718.855  1086.9250   5710.44  \n",
            "DALLAS AREA                    581.6975  965.650  1484.8500  13149.85  \n",
            "DC-MARYLAND-VIRGINIA AREA      525.7200  787.360  1191.5525   5029.68  \n",
            "GREAT LAKES AREA               503.7325  767.960  1211.8900   5624.71  \n",
            "HOUSTON AREA                   530.6400  892.180  1443.1400   8719.53  \n",
            "LOS ANGELES AREA               554.2650  836.770  1271.6150   6120.84  \n",
            "MIDWEST AREA                   553.0600  854.350  1338.6900  13426.60  \n",
            "NEW ENGLAND AREA               497.5700  747.130  1185.8000   6939.19  \n",
            "NEW YORK CITY AREA             562.3400  870.310  1297.9700  10590.01  \n",
            "NORTH FLORIDA AREA             481.5225  758.190  1134.1950   6009.01  \n",
            "NORTHWEST-ROCKY MOUNTAIN AREA  524.3700  805.020  1293.2200   7419.73  \n",
            "OHIO AREA                      512.0700  781.040  1230.5600   8007.95  \n",
            "PHILADELPHIA AREA              558.7100  849.340  1154.6100   4819.91  \n",
            "SOUTH FLORIDA AREA             582.0225  914.600  1451.2550   6954.07  \n",
            "SOUTHWEST AREA                 508.3275  802.025  1187.3275   8772.57  \n",
            "TENNESSEE AREA                 486.6800  832.400  1282.6150   6751.70  \n",
            "------Área:  DC-MARYLAND-VIRGINIA AREA\n",
            "                               totrev                                    \\\n",
            "                                count         mean          std     min   \n",
            "area                                                                      \n",
            "ATLANTIC SOUTH AREA             592.0   903.497399   697.197572  106.95   \n",
            "CALIFORNIA NORTH AREA           599.0  1136.348013   922.069148  105.14   \n",
            "CENTRAL-SOUTH TEXAS AREA        409.0  1174.366577   920.804942   48.53   \n",
            "CHICAGO AREA                    496.0   892.133206   669.068444   59.90   \n",
            "DALLAS AREA                     518.0  1258.508784  1267.499852   84.59   \n",
            "DC-MARYLAND-VIRGINIA AREA       640.0   941.692188   634.132033   86.78   \n",
            "GREAT LAKES AREA                488.0   987.714324   733.521417  126.56   \n",
            "HOUSTON AREA                    458.0  1127.294127   999.987571   92.38   \n",
            "LOS ANGELES AREA                671.0  1031.714382   738.616227   96.74   \n",
            "MIDWEST AREA                    685.0  1095.678701   945.251868   90.42   \n",
            "NEW ENGLAND AREA                525.0   941.766038   705.572889  118.51   \n",
            "NEW YORK CITY AREA             1145.0  1076.263546   869.372842   74.01   \n",
            "NORTH FLORIDA AREA              442.0   895.489457   642.729028   37.39   \n",
            "NORTHWEST-ROCKY MOUNTAIN AREA   429.0  1083.179091   977.857935   67.80   \n",
            "OHIO AREA                       437.0  1006.616499   785.713223  107.12   \n",
            "PHILADELPHIA AREA               245.0   998.303592   722.348164  133.63   \n",
            "SOUTH FLORIDA AREA              366.0  1167.546257   891.952255  118.62   \n",
            "SOUTHWEST AREA                  584.0  1036.548630   914.475459   11.10   \n",
            "TENNESSEE AREA                  268.0  1042.700597   886.731980  102.03   \n",
            "\n",
            "                                                                       \n",
            "                                    25%      50%        75%       max  \n",
            "area                                                                   \n",
            "ATLANTIC SOUTH AREA            464.9875  718.370  1135.3050   8171.47  \n",
            "CALIFORNIA NORTH AREA          535.9900  892.340  1396.4550   7511.11  \n",
            "CENTRAL-SOUTH TEXAS AREA       594.3300  895.090  1374.5800   5848.39  \n",
            "CHICAGO AREA                   474.0675  718.855  1086.9250   5710.44  \n",
            "DALLAS AREA                    581.6975  965.650  1484.8500  13149.85  \n",
            "DC-MARYLAND-VIRGINIA AREA      525.7200  787.360  1191.5525   5029.68  \n",
            "GREAT LAKES AREA               503.7325  767.960  1211.8900   5624.71  \n",
            "HOUSTON AREA                   530.6400  892.180  1443.1400   8719.53  \n",
            "LOS ANGELES AREA               554.2650  836.770  1271.6150   6120.84  \n",
            "MIDWEST AREA                   553.0600  854.350  1338.6900  13426.60  \n",
            "NEW ENGLAND AREA               497.5700  747.130  1185.8000   6939.19  \n",
            "NEW YORK CITY AREA             562.3400  870.310  1297.9700  10590.01  \n",
            "NORTH FLORIDA AREA             481.5225  758.190  1134.1950   6009.01  \n",
            "NORTHWEST-ROCKY MOUNTAIN AREA  524.3700  805.020  1293.2200   7419.73  \n",
            "OHIO AREA                      512.0700  781.040  1230.5600   8007.95  \n",
            "PHILADELPHIA AREA              558.7100  849.340  1154.6100   4819.91  \n",
            "SOUTH FLORIDA AREA             582.0225  914.600  1451.2550   6954.07  \n",
            "SOUTHWEST AREA                 508.3275  802.025  1187.3275   8772.57  \n",
            "TENNESSEE AREA                 486.6800  832.400  1282.6150   6751.70  \n",
            "------Área:  GREAT LAKES AREA\n"
          ]
        },
        {
          "name": "stdout",
          "output_type": "stream",
          "text": [
            "                               totrev                                    \\\n",
            "                                count         mean          std     min   \n",
            "area                                                                      \n",
            "ATLANTIC SOUTH AREA             592.0   903.497399   697.197572  106.95   \n",
            "CALIFORNIA NORTH AREA           599.0  1136.348013   922.069148  105.14   \n",
            "CENTRAL-SOUTH TEXAS AREA        409.0  1174.366577   920.804942   48.53   \n",
            "CHICAGO AREA                    496.0   892.133206   669.068444   59.90   \n",
            "DALLAS AREA                     518.0  1258.508784  1267.499852   84.59   \n",
            "DC-MARYLAND-VIRGINIA AREA       640.0   941.692188   634.132033   86.78   \n",
            "GREAT LAKES AREA                488.0   987.714324   733.521417  126.56   \n",
            "HOUSTON AREA                    458.0  1127.294127   999.987571   92.38   \n",
            "LOS ANGELES AREA                671.0  1031.714382   738.616227   96.74   \n",
            "MIDWEST AREA                    685.0  1095.678701   945.251868   90.42   \n",
            "NEW ENGLAND AREA                525.0   941.766038   705.572889  118.51   \n",
            "NEW YORK CITY AREA             1145.0  1076.263546   869.372842   74.01   \n",
            "NORTH FLORIDA AREA              442.0   895.489457   642.729028   37.39   \n",
            "NORTHWEST-ROCKY MOUNTAIN AREA   429.0  1083.179091   977.857935   67.80   \n",
            "OHIO AREA                       437.0  1006.616499   785.713223  107.12   \n",
            "PHILADELPHIA AREA               245.0   998.303592   722.348164  133.63   \n",
            "SOUTH FLORIDA AREA              366.0  1167.546257   891.952255  118.62   \n",
            "SOUTHWEST AREA                  584.0  1036.548630   914.475459   11.10   \n",
            "TENNESSEE AREA                  268.0  1042.700597   886.731980  102.03   \n",
            "\n",
            "                                                                       \n",
            "                                    25%      50%        75%       max  \n",
            "area                                                                   \n",
            "ATLANTIC SOUTH AREA            464.9875  718.370  1135.3050   8171.47  \n",
            "CALIFORNIA NORTH AREA          535.9900  892.340  1396.4550   7511.11  \n",
            "CENTRAL-SOUTH TEXAS AREA       594.3300  895.090  1374.5800   5848.39  \n",
            "CHICAGO AREA                   474.0675  718.855  1086.9250   5710.44  \n",
            "DALLAS AREA                    581.6975  965.650  1484.8500  13149.85  \n",
            "DC-MARYLAND-VIRGINIA AREA      525.7200  787.360  1191.5525   5029.68  \n",
            "GREAT LAKES AREA               503.7325  767.960  1211.8900   5624.71  \n",
            "HOUSTON AREA                   530.6400  892.180  1443.1400   8719.53  \n",
            "LOS ANGELES AREA               554.2650  836.770  1271.6150   6120.84  \n",
            "MIDWEST AREA                   553.0600  854.350  1338.6900  13426.60  \n",
            "NEW ENGLAND AREA               497.5700  747.130  1185.8000   6939.19  \n",
            "NEW YORK CITY AREA             562.3400  870.310  1297.9700  10590.01  \n",
            "NORTH FLORIDA AREA             481.5225  758.190  1134.1950   6009.01  \n",
            "NORTHWEST-ROCKY MOUNTAIN AREA  524.3700  805.020  1293.2200   7419.73  \n",
            "OHIO AREA                      512.0700  781.040  1230.5600   8007.95  \n",
            "PHILADELPHIA AREA              558.7100  849.340  1154.6100   4819.91  \n",
            "SOUTH FLORIDA AREA             582.0225  914.600  1451.2550   6954.07  \n",
            "SOUTHWEST AREA                 508.3275  802.025  1187.3275   8772.57  \n",
            "TENNESSEE AREA                 486.6800  832.400  1282.6150   6751.70  \n",
            "------Área:  HOUSTON AREA\n",
            "                               totrev                                    \\\n",
            "                                count         mean          std     min   \n",
            "area                                                                      \n",
            "ATLANTIC SOUTH AREA             592.0   903.497399   697.197572  106.95   \n",
            "CALIFORNIA NORTH AREA           599.0  1136.348013   922.069148  105.14   \n",
            "CENTRAL-SOUTH TEXAS AREA        409.0  1174.366577   920.804942   48.53   \n",
            "CHICAGO AREA                    496.0   892.133206   669.068444   59.90   \n",
            "DALLAS AREA                     518.0  1258.508784  1267.499852   84.59   \n",
            "DC-MARYLAND-VIRGINIA AREA       640.0   941.692188   634.132033   86.78   \n",
            "GREAT LAKES AREA                488.0   987.714324   733.521417  126.56   \n",
            "HOUSTON AREA                    458.0  1127.294127   999.987571   92.38   \n",
            "LOS ANGELES AREA                671.0  1031.714382   738.616227   96.74   \n",
            "MIDWEST AREA                    685.0  1095.678701   945.251868   90.42   \n",
            "NEW ENGLAND AREA                525.0   941.766038   705.572889  118.51   \n",
            "NEW YORK CITY AREA             1145.0  1076.263546   869.372842   74.01   \n",
            "NORTH FLORIDA AREA              442.0   895.489457   642.729028   37.39   \n",
            "NORTHWEST-ROCKY MOUNTAIN AREA   429.0  1083.179091   977.857935   67.80   \n",
            "OHIO AREA                       437.0  1006.616499   785.713223  107.12   \n",
            "PHILADELPHIA AREA               245.0   998.303592   722.348164  133.63   \n",
            "SOUTH FLORIDA AREA              366.0  1167.546257   891.952255  118.62   \n",
            "SOUTHWEST AREA                  584.0  1036.548630   914.475459   11.10   \n",
            "TENNESSEE AREA                  268.0  1042.700597   886.731980  102.03   \n",
            "\n",
            "                                                                       \n",
            "                                    25%      50%        75%       max  \n",
            "area                                                                   \n",
            "ATLANTIC SOUTH AREA            464.9875  718.370  1135.3050   8171.47  \n",
            "CALIFORNIA NORTH AREA          535.9900  892.340  1396.4550   7511.11  \n",
            "CENTRAL-SOUTH TEXAS AREA       594.3300  895.090  1374.5800   5848.39  \n",
            "CHICAGO AREA                   474.0675  718.855  1086.9250   5710.44  \n",
            "DALLAS AREA                    581.6975  965.650  1484.8500  13149.85  \n",
            "DC-MARYLAND-VIRGINIA AREA      525.7200  787.360  1191.5525   5029.68  \n",
            "GREAT LAKES AREA               503.7325  767.960  1211.8900   5624.71  \n",
            "HOUSTON AREA                   530.6400  892.180  1443.1400   8719.53  \n",
            "LOS ANGELES AREA               554.2650  836.770  1271.6150   6120.84  \n",
            "MIDWEST AREA                   553.0600  854.350  1338.6900  13426.60  \n",
            "NEW ENGLAND AREA               497.5700  747.130  1185.8000   6939.19  \n",
            "NEW YORK CITY AREA             562.3400  870.310  1297.9700  10590.01  \n",
            "NORTH FLORIDA AREA             481.5225  758.190  1134.1950   6009.01  \n",
            "NORTHWEST-ROCKY MOUNTAIN AREA  524.3700  805.020  1293.2200   7419.73  \n",
            "OHIO AREA                      512.0700  781.040  1230.5600   8007.95  \n",
            "PHILADELPHIA AREA              558.7100  849.340  1154.6100   4819.91  \n",
            "SOUTH FLORIDA AREA             582.0225  914.600  1451.2550   6954.07  \n",
            "SOUTHWEST AREA                 508.3275  802.025  1187.3275   8772.57  \n",
            "TENNESSEE AREA                 486.6800  832.400  1282.6150   6751.70  \n",
            "------Área:  LOS ANGELES AREA\n",
            "                               totrev                                    \\\n",
            "                                count         mean          std     min   \n",
            "area                                                                      \n",
            "ATLANTIC SOUTH AREA             592.0   903.497399   697.197572  106.95   \n",
            "CALIFORNIA NORTH AREA           599.0  1136.348013   922.069148  105.14   \n",
            "CENTRAL-SOUTH TEXAS AREA        409.0  1174.366577   920.804942   48.53   \n",
            "CHICAGO AREA                    496.0   892.133206   669.068444   59.90   \n",
            "DALLAS AREA                     518.0  1258.508784  1267.499852   84.59   \n",
            "DC-MARYLAND-VIRGINIA AREA       640.0   941.692188   634.132033   86.78   \n",
            "GREAT LAKES AREA                488.0   987.714324   733.521417  126.56   \n",
            "HOUSTON AREA                    458.0  1127.294127   999.987571   92.38   \n",
            "LOS ANGELES AREA                671.0  1031.714382   738.616227   96.74   \n",
            "MIDWEST AREA                    685.0  1095.678701   945.251868   90.42   \n",
            "NEW ENGLAND AREA                525.0   941.766038   705.572889  118.51   \n",
            "NEW YORK CITY AREA             1145.0  1076.263546   869.372842   74.01   \n",
            "NORTH FLORIDA AREA              442.0   895.489457   642.729028   37.39   \n",
            "NORTHWEST-ROCKY MOUNTAIN AREA   429.0  1083.179091   977.857935   67.80   \n",
            "OHIO AREA                       437.0  1006.616499   785.713223  107.12   \n",
            "PHILADELPHIA AREA               245.0   998.303592   722.348164  133.63   \n",
            "SOUTH FLORIDA AREA              366.0  1167.546257   891.952255  118.62   \n",
            "SOUTHWEST AREA                  584.0  1036.548630   914.475459   11.10   \n",
            "TENNESSEE AREA                  268.0  1042.700597   886.731980  102.03   \n",
            "\n",
            "                                                                       \n",
            "                                    25%      50%        75%       max  \n",
            "area                                                                   \n",
            "ATLANTIC SOUTH AREA            464.9875  718.370  1135.3050   8171.47  \n",
            "CALIFORNIA NORTH AREA          535.9900  892.340  1396.4550   7511.11  \n",
            "CENTRAL-SOUTH TEXAS AREA       594.3300  895.090  1374.5800   5848.39  \n",
            "CHICAGO AREA                   474.0675  718.855  1086.9250   5710.44  \n",
            "DALLAS AREA                    581.6975  965.650  1484.8500  13149.85  \n",
            "DC-MARYLAND-VIRGINIA AREA      525.7200  787.360  1191.5525   5029.68  \n",
            "GREAT LAKES AREA               503.7325  767.960  1211.8900   5624.71  \n",
            "HOUSTON AREA                   530.6400  892.180  1443.1400   8719.53  \n",
            "LOS ANGELES AREA               554.2650  836.770  1271.6150   6120.84  \n",
            "MIDWEST AREA                   553.0600  854.350  1338.6900  13426.60  \n",
            "NEW ENGLAND AREA               497.5700  747.130  1185.8000   6939.19  \n",
            "NEW YORK CITY AREA             562.3400  870.310  1297.9700  10590.01  \n",
            "NORTH FLORIDA AREA             481.5225  758.190  1134.1950   6009.01  \n",
            "NORTHWEST-ROCKY MOUNTAIN AREA  524.3700  805.020  1293.2200   7419.73  \n",
            "OHIO AREA                      512.0700  781.040  1230.5600   8007.95  \n",
            "PHILADELPHIA AREA              558.7100  849.340  1154.6100   4819.91  \n",
            "SOUTH FLORIDA AREA             582.0225  914.600  1451.2550   6954.07  \n",
            "SOUTHWEST AREA                 508.3275  802.025  1187.3275   8772.57  \n",
            "TENNESSEE AREA                 486.6800  832.400  1282.6150   6751.70  \n",
            "------Área:  MIDWEST AREA\n"
          ]
        },
        {
          "name": "stdout",
          "output_type": "stream",
          "text": [
            "                               totrev                                    \\\n",
            "                                count         mean          std     min   \n",
            "area                                                                      \n",
            "ATLANTIC SOUTH AREA             592.0   903.497399   697.197572  106.95   \n",
            "CALIFORNIA NORTH AREA           599.0  1136.348013   922.069148  105.14   \n",
            "CENTRAL-SOUTH TEXAS AREA        409.0  1174.366577   920.804942   48.53   \n",
            "CHICAGO AREA                    496.0   892.133206   669.068444   59.90   \n",
            "DALLAS AREA                     518.0  1258.508784  1267.499852   84.59   \n",
            "DC-MARYLAND-VIRGINIA AREA       640.0   941.692188   634.132033   86.78   \n",
            "GREAT LAKES AREA                488.0   987.714324   733.521417  126.56   \n",
            "HOUSTON AREA                    458.0  1127.294127   999.987571   92.38   \n",
            "LOS ANGELES AREA                671.0  1031.714382   738.616227   96.74   \n",
            "MIDWEST AREA                    685.0  1095.678701   945.251868   90.42   \n",
            "NEW ENGLAND AREA                525.0   941.766038   705.572889  118.51   \n",
            "NEW YORK CITY AREA             1145.0  1076.263546   869.372842   74.01   \n",
            "NORTH FLORIDA AREA              442.0   895.489457   642.729028   37.39   \n",
            "NORTHWEST-ROCKY MOUNTAIN AREA   429.0  1083.179091   977.857935   67.80   \n",
            "OHIO AREA                       437.0  1006.616499   785.713223  107.12   \n",
            "PHILADELPHIA AREA               245.0   998.303592   722.348164  133.63   \n",
            "SOUTH FLORIDA AREA              366.0  1167.546257   891.952255  118.62   \n",
            "SOUTHWEST AREA                  584.0  1036.548630   914.475459   11.10   \n",
            "TENNESSEE AREA                  268.0  1042.700597   886.731980  102.03   \n",
            "\n",
            "                                                                       \n",
            "                                    25%      50%        75%       max  \n",
            "area                                                                   \n",
            "ATLANTIC SOUTH AREA            464.9875  718.370  1135.3050   8171.47  \n",
            "CALIFORNIA NORTH AREA          535.9900  892.340  1396.4550   7511.11  \n",
            "CENTRAL-SOUTH TEXAS AREA       594.3300  895.090  1374.5800   5848.39  \n",
            "CHICAGO AREA                   474.0675  718.855  1086.9250   5710.44  \n",
            "DALLAS AREA                    581.6975  965.650  1484.8500  13149.85  \n",
            "DC-MARYLAND-VIRGINIA AREA      525.7200  787.360  1191.5525   5029.68  \n",
            "GREAT LAKES AREA               503.7325  767.960  1211.8900   5624.71  \n",
            "HOUSTON AREA                   530.6400  892.180  1443.1400   8719.53  \n",
            "LOS ANGELES AREA               554.2650  836.770  1271.6150   6120.84  \n",
            "MIDWEST AREA                   553.0600  854.350  1338.6900  13426.60  \n",
            "NEW ENGLAND AREA               497.5700  747.130  1185.8000   6939.19  \n",
            "NEW YORK CITY AREA             562.3400  870.310  1297.9700  10590.01  \n",
            "NORTH FLORIDA AREA             481.5225  758.190  1134.1950   6009.01  \n",
            "NORTHWEST-ROCKY MOUNTAIN AREA  524.3700  805.020  1293.2200   7419.73  \n",
            "OHIO AREA                      512.0700  781.040  1230.5600   8007.95  \n",
            "PHILADELPHIA AREA              558.7100  849.340  1154.6100   4819.91  \n",
            "SOUTH FLORIDA AREA             582.0225  914.600  1451.2550   6954.07  \n",
            "SOUTHWEST AREA                 508.3275  802.025  1187.3275   8772.57  \n",
            "TENNESSEE AREA                 486.6800  832.400  1282.6150   6751.70  \n",
            "------Área:  NEW ENGLAND AREA\n",
            "                               totrev                                    \\\n",
            "                                count         mean          std     min   \n",
            "area                                                                      \n",
            "ATLANTIC SOUTH AREA             592.0   903.497399   697.197572  106.95   \n",
            "CALIFORNIA NORTH AREA           599.0  1136.348013   922.069148  105.14   \n",
            "CENTRAL-SOUTH TEXAS AREA        409.0  1174.366577   920.804942   48.53   \n",
            "CHICAGO AREA                    496.0   892.133206   669.068444   59.90   \n",
            "DALLAS AREA                     518.0  1258.508784  1267.499852   84.59   \n",
            "DC-MARYLAND-VIRGINIA AREA       640.0   941.692188   634.132033   86.78   \n",
            "GREAT LAKES AREA                488.0   987.714324   733.521417  126.56   \n",
            "HOUSTON AREA                    458.0  1127.294127   999.987571   92.38   \n",
            "LOS ANGELES AREA                671.0  1031.714382   738.616227   96.74   \n",
            "MIDWEST AREA                    685.0  1095.678701   945.251868   90.42   \n",
            "NEW ENGLAND AREA                525.0   941.766038   705.572889  118.51   \n",
            "NEW YORK CITY AREA             1145.0  1076.263546   869.372842   74.01   \n",
            "NORTH FLORIDA AREA              442.0   895.489457   642.729028   37.39   \n",
            "NORTHWEST-ROCKY MOUNTAIN AREA   429.0  1083.179091   977.857935   67.80   \n",
            "OHIO AREA                       437.0  1006.616499   785.713223  107.12   \n",
            "PHILADELPHIA AREA               245.0   998.303592   722.348164  133.63   \n",
            "SOUTH FLORIDA AREA              366.0  1167.546257   891.952255  118.62   \n",
            "SOUTHWEST AREA                  584.0  1036.548630   914.475459   11.10   \n",
            "TENNESSEE AREA                  268.0  1042.700597   886.731980  102.03   \n",
            "\n",
            "                                                                       \n",
            "                                    25%      50%        75%       max  \n",
            "area                                                                   \n",
            "ATLANTIC SOUTH AREA            464.9875  718.370  1135.3050   8171.47  \n",
            "CALIFORNIA NORTH AREA          535.9900  892.340  1396.4550   7511.11  \n",
            "CENTRAL-SOUTH TEXAS AREA       594.3300  895.090  1374.5800   5848.39  \n",
            "CHICAGO AREA                   474.0675  718.855  1086.9250   5710.44  \n",
            "DALLAS AREA                    581.6975  965.650  1484.8500  13149.85  \n",
            "DC-MARYLAND-VIRGINIA AREA      525.7200  787.360  1191.5525   5029.68  \n",
            "GREAT LAKES AREA               503.7325  767.960  1211.8900   5624.71  \n",
            "HOUSTON AREA                   530.6400  892.180  1443.1400   8719.53  \n",
            "LOS ANGELES AREA               554.2650  836.770  1271.6150   6120.84  \n",
            "MIDWEST AREA                   553.0600  854.350  1338.6900  13426.60  \n",
            "NEW ENGLAND AREA               497.5700  747.130  1185.8000   6939.19  \n",
            "NEW YORK CITY AREA             562.3400  870.310  1297.9700  10590.01  \n",
            "NORTH FLORIDA AREA             481.5225  758.190  1134.1950   6009.01  \n",
            "NORTHWEST-ROCKY MOUNTAIN AREA  524.3700  805.020  1293.2200   7419.73  \n",
            "OHIO AREA                      512.0700  781.040  1230.5600   8007.95  \n",
            "PHILADELPHIA AREA              558.7100  849.340  1154.6100   4819.91  \n",
            "SOUTH FLORIDA AREA             582.0225  914.600  1451.2550   6954.07  \n",
            "SOUTHWEST AREA                 508.3275  802.025  1187.3275   8772.57  \n",
            "TENNESSEE AREA                 486.6800  832.400  1282.6150   6751.70  \n",
            "------Área:  NEW YORK CITY AREA\n",
            "                               totrev                                    \\\n",
            "                                count         mean          std     min   \n",
            "area                                                                      \n",
            "ATLANTIC SOUTH AREA             592.0   903.497399   697.197572  106.95   \n",
            "CALIFORNIA NORTH AREA           599.0  1136.348013   922.069148  105.14   \n",
            "CENTRAL-SOUTH TEXAS AREA        409.0  1174.366577   920.804942   48.53   \n",
            "CHICAGO AREA                    496.0   892.133206   669.068444   59.90   \n",
            "DALLAS AREA                     518.0  1258.508784  1267.499852   84.59   \n",
            "DC-MARYLAND-VIRGINIA AREA       640.0   941.692188   634.132033   86.78   \n",
            "GREAT LAKES AREA                488.0   987.714324   733.521417  126.56   \n",
            "HOUSTON AREA                    458.0  1127.294127   999.987571   92.38   \n",
            "LOS ANGELES AREA                671.0  1031.714382   738.616227   96.74   \n",
            "MIDWEST AREA                    685.0  1095.678701   945.251868   90.42   \n",
            "NEW ENGLAND AREA                525.0   941.766038   705.572889  118.51   \n",
            "NEW YORK CITY AREA             1145.0  1076.263546   869.372842   74.01   \n",
            "NORTH FLORIDA AREA              442.0   895.489457   642.729028   37.39   \n",
            "NORTHWEST-ROCKY MOUNTAIN AREA   429.0  1083.179091   977.857935   67.80   \n",
            "OHIO AREA                       437.0  1006.616499   785.713223  107.12   \n",
            "PHILADELPHIA AREA               245.0   998.303592   722.348164  133.63   \n",
            "SOUTH FLORIDA AREA              366.0  1167.546257   891.952255  118.62   \n",
            "SOUTHWEST AREA                  584.0  1036.548630   914.475459   11.10   \n",
            "TENNESSEE AREA                  268.0  1042.700597   886.731980  102.03   \n",
            "\n",
            "                                                                       \n",
            "                                    25%      50%        75%       max  \n",
            "area                                                                   \n",
            "ATLANTIC SOUTH AREA            464.9875  718.370  1135.3050   8171.47  \n",
            "CALIFORNIA NORTH AREA          535.9900  892.340  1396.4550   7511.11  \n",
            "CENTRAL-SOUTH TEXAS AREA       594.3300  895.090  1374.5800   5848.39  \n",
            "CHICAGO AREA                   474.0675  718.855  1086.9250   5710.44  \n",
            "DALLAS AREA                    581.6975  965.650  1484.8500  13149.85  \n",
            "DC-MARYLAND-VIRGINIA AREA      525.7200  787.360  1191.5525   5029.68  \n",
            "GREAT LAKES AREA               503.7325  767.960  1211.8900   5624.71  \n",
            "HOUSTON AREA                   530.6400  892.180  1443.1400   8719.53  \n",
            "LOS ANGELES AREA               554.2650  836.770  1271.6150   6120.84  \n",
            "MIDWEST AREA                   553.0600  854.350  1338.6900  13426.60  \n",
            "NEW ENGLAND AREA               497.5700  747.130  1185.8000   6939.19  \n",
            "NEW YORK CITY AREA             562.3400  870.310  1297.9700  10590.01  \n",
            "NORTH FLORIDA AREA             481.5225  758.190  1134.1950   6009.01  \n",
            "NORTHWEST-ROCKY MOUNTAIN AREA  524.3700  805.020  1293.2200   7419.73  \n",
            "OHIO AREA                      512.0700  781.040  1230.5600   8007.95  \n",
            "PHILADELPHIA AREA              558.7100  849.340  1154.6100   4819.91  \n",
            "SOUTH FLORIDA AREA             582.0225  914.600  1451.2550   6954.07  \n",
            "SOUTHWEST AREA                 508.3275  802.025  1187.3275   8772.57  \n",
            "TENNESSEE AREA                 486.6800  832.400  1282.6150   6751.70  \n",
            "------Área:  NORTH FLORIDA AREA\n"
          ]
        },
        {
          "name": "stdout",
          "output_type": "stream",
          "text": [
            "                               totrev                                    \\\n",
            "                                count         mean          std     min   \n",
            "area                                                                      \n",
            "ATLANTIC SOUTH AREA             592.0   903.497399   697.197572  106.95   \n",
            "CALIFORNIA NORTH AREA           599.0  1136.348013   922.069148  105.14   \n",
            "CENTRAL-SOUTH TEXAS AREA        409.0  1174.366577   920.804942   48.53   \n",
            "CHICAGO AREA                    496.0   892.133206   669.068444   59.90   \n",
            "DALLAS AREA                     518.0  1258.508784  1267.499852   84.59   \n",
            "DC-MARYLAND-VIRGINIA AREA       640.0   941.692188   634.132033   86.78   \n",
            "GREAT LAKES AREA                488.0   987.714324   733.521417  126.56   \n",
            "HOUSTON AREA                    458.0  1127.294127   999.987571   92.38   \n",
            "LOS ANGELES AREA                671.0  1031.714382   738.616227   96.74   \n",
            "MIDWEST AREA                    685.0  1095.678701   945.251868   90.42   \n",
            "NEW ENGLAND AREA                525.0   941.766038   705.572889  118.51   \n",
            "NEW YORK CITY AREA             1145.0  1076.263546   869.372842   74.01   \n",
            "NORTH FLORIDA AREA              442.0   895.489457   642.729028   37.39   \n",
            "NORTHWEST-ROCKY MOUNTAIN AREA   429.0  1083.179091   977.857935   67.80   \n",
            "OHIO AREA                       437.0  1006.616499   785.713223  107.12   \n",
            "PHILADELPHIA AREA               245.0   998.303592   722.348164  133.63   \n",
            "SOUTH FLORIDA AREA              366.0  1167.546257   891.952255  118.62   \n",
            "SOUTHWEST AREA                  584.0  1036.548630   914.475459   11.10   \n",
            "TENNESSEE AREA                  268.0  1042.700597   886.731980  102.03   \n",
            "\n",
            "                                                                       \n",
            "                                    25%      50%        75%       max  \n",
            "area                                                                   \n",
            "ATLANTIC SOUTH AREA            464.9875  718.370  1135.3050   8171.47  \n",
            "CALIFORNIA NORTH AREA          535.9900  892.340  1396.4550   7511.11  \n",
            "CENTRAL-SOUTH TEXAS AREA       594.3300  895.090  1374.5800   5848.39  \n",
            "CHICAGO AREA                   474.0675  718.855  1086.9250   5710.44  \n",
            "DALLAS AREA                    581.6975  965.650  1484.8500  13149.85  \n",
            "DC-MARYLAND-VIRGINIA AREA      525.7200  787.360  1191.5525   5029.68  \n",
            "GREAT LAKES AREA               503.7325  767.960  1211.8900   5624.71  \n",
            "HOUSTON AREA                   530.6400  892.180  1443.1400   8719.53  \n",
            "LOS ANGELES AREA               554.2650  836.770  1271.6150   6120.84  \n",
            "MIDWEST AREA                   553.0600  854.350  1338.6900  13426.60  \n",
            "NEW ENGLAND AREA               497.5700  747.130  1185.8000   6939.19  \n",
            "NEW YORK CITY AREA             562.3400  870.310  1297.9700  10590.01  \n",
            "NORTH FLORIDA AREA             481.5225  758.190  1134.1950   6009.01  \n",
            "NORTHWEST-ROCKY MOUNTAIN AREA  524.3700  805.020  1293.2200   7419.73  \n",
            "OHIO AREA                      512.0700  781.040  1230.5600   8007.95  \n",
            "PHILADELPHIA AREA              558.7100  849.340  1154.6100   4819.91  \n",
            "SOUTH FLORIDA AREA             582.0225  914.600  1451.2550   6954.07  \n",
            "SOUTHWEST AREA                 508.3275  802.025  1187.3275   8772.57  \n",
            "TENNESSEE AREA                 486.6800  832.400  1282.6150   6751.70  \n",
            "------Área:  NORTHWEST-ROCKY MOUNTAIN AREA\n",
            "                               totrev                                    \\\n",
            "                                count         mean          std     min   \n",
            "area                                                                      \n",
            "ATLANTIC SOUTH AREA             592.0   903.497399   697.197572  106.95   \n",
            "CALIFORNIA NORTH AREA           599.0  1136.348013   922.069148  105.14   \n",
            "CENTRAL-SOUTH TEXAS AREA        409.0  1174.366577   920.804942   48.53   \n",
            "CHICAGO AREA                    496.0   892.133206   669.068444   59.90   \n",
            "DALLAS AREA                     518.0  1258.508784  1267.499852   84.59   \n",
            "DC-MARYLAND-VIRGINIA AREA       640.0   941.692188   634.132033   86.78   \n",
            "GREAT LAKES AREA                488.0   987.714324   733.521417  126.56   \n",
            "HOUSTON AREA                    458.0  1127.294127   999.987571   92.38   \n",
            "LOS ANGELES AREA                671.0  1031.714382   738.616227   96.74   \n",
            "MIDWEST AREA                    685.0  1095.678701   945.251868   90.42   \n",
            "NEW ENGLAND AREA                525.0   941.766038   705.572889  118.51   \n",
            "NEW YORK CITY AREA             1145.0  1076.263546   869.372842   74.01   \n",
            "NORTH FLORIDA AREA              442.0   895.489457   642.729028   37.39   \n",
            "NORTHWEST-ROCKY MOUNTAIN AREA   429.0  1083.179091   977.857935   67.80   \n",
            "OHIO AREA                       437.0  1006.616499   785.713223  107.12   \n",
            "PHILADELPHIA AREA               245.0   998.303592   722.348164  133.63   \n",
            "SOUTH FLORIDA AREA              366.0  1167.546257   891.952255  118.62   \n",
            "SOUTHWEST AREA                  584.0  1036.548630   914.475459   11.10   \n",
            "TENNESSEE AREA                  268.0  1042.700597   886.731980  102.03   \n",
            "\n",
            "                                                                       \n",
            "                                    25%      50%        75%       max  \n",
            "area                                                                   \n",
            "ATLANTIC SOUTH AREA            464.9875  718.370  1135.3050   8171.47  \n",
            "CALIFORNIA NORTH AREA          535.9900  892.340  1396.4550   7511.11  \n",
            "CENTRAL-SOUTH TEXAS AREA       594.3300  895.090  1374.5800   5848.39  \n",
            "CHICAGO AREA                   474.0675  718.855  1086.9250   5710.44  \n",
            "DALLAS AREA                    581.6975  965.650  1484.8500  13149.85  \n",
            "DC-MARYLAND-VIRGINIA AREA      525.7200  787.360  1191.5525   5029.68  \n",
            "GREAT LAKES AREA               503.7325  767.960  1211.8900   5624.71  \n",
            "HOUSTON AREA                   530.6400  892.180  1443.1400   8719.53  \n",
            "LOS ANGELES AREA               554.2650  836.770  1271.6150   6120.84  \n",
            "MIDWEST AREA                   553.0600  854.350  1338.6900  13426.60  \n",
            "NEW ENGLAND AREA               497.5700  747.130  1185.8000   6939.19  \n",
            "NEW YORK CITY AREA             562.3400  870.310  1297.9700  10590.01  \n",
            "NORTH FLORIDA AREA             481.5225  758.190  1134.1950   6009.01  \n",
            "NORTHWEST-ROCKY MOUNTAIN AREA  524.3700  805.020  1293.2200   7419.73  \n",
            "OHIO AREA                      512.0700  781.040  1230.5600   8007.95  \n",
            "PHILADELPHIA AREA              558.7100  849.340  1154.6100   4819.91  \n",
            "SOUTH FLORIDA AREA             582.0225  914.600  1451.2550   6954.07  \n",
            "SOUTHWEST AREA                 508.3275  802.025  1187.3275   8772.57  \n",
            "TENNESSEE AREA                 486.6800  832.400  1282.6150   6751.70  \n",
            "------Área:  OHIO AREA\n",
            "                               totrev                                    \\\n",
            "                                count         mean          std     min   \n",
            "area                                                                      \n",
            "ATLANTIC SOUTH AREA             592.0   903.497399   697.197572  106.95   \n",
            "CALIFORNIA NORTH AREA           599.0  1136.348013   922.069148  105.14   \n",
            "CENTRAL-SOUTH TEXAS AREA        409.0  1174.366577   920.804942   48.53   \n",
            "CHICAGO AREA                    496.0   892.133206   669.068444   59.90   \n",
            "DALLAS AREA                     518.0  1258.508784  1267.499852   84.59   \n",
            "DC-MARYLAND-VIRGINIA AREA       640.0   941.692188   634.132033   86.78   \n",
            "GREAT LAKES AREA                488.0   987.714324   733.521417  126.56   \n",
            "HOUSTON AREA                    458.0  1127.294127   999.987571   92.38   \n",
            "LOS ANGELES AREA                671.0  1031.714382   738.616227   96.74   \n",
            "MIDWEST AREA                    685.0  1095.678701   945.251868   90.42   \n",
            "NEW ENGLAND AREA                525.0   941.766038   705.572889  118.51   \n",
            "NEW YORK CITY AREA             1145.0  1076.263546   869.372842   74.01   \n",
            "NORTH FLORIDA AREA              442.0   895.489457   642.729028   37.39   \n",
            "NORTHWEST-ROCKY MOUNTAIN AREA   429.0  1083.179091   977.857935   67.80   \n",
            "OHIO AREA                       437.0  1006.616499   785.713223  107.12   \n",
            "PHILADELPHIA AREA               245.0   998.303592   722.348164  133.63   \n",
            "SOUTH FLORIDA AREA              366.0  1167.546257   891.952255  118.62   \n",
            "SOUTHWEST AREA                  584.0  1036.548630   914.475459   11.10   \n",
            "TENNESSEE AREA                  268.0  1042.700597   886.731980  102.03   \n",
            "\n",
            "                                                                       \n",
            "                                    25%      50%        75%       max  \n",
            "area                                                                   \n",
            "ATLANTIC SOUTH AREA            464.9875  718.370  1135.3050   8171.47  \n",
            "CALIFORNIA NORTH AREA          535.9900  892.340  1396.4550   7511.11  \n",
            "CENTRAL-SOUTH TEXAS AREA       594.3300  895.090  1374.5800   5848.39  \n",
            "CHICAGO AREA                   474.0675  718.855  1086.9250   5710.44  \n",
            "DALLAS AREA                    581.6975  965.650  1484.8500  13149.85  \n",
            "DC-MARYLAND-VIRGINIA AREA      525.7200  787.360  1191.5525   5029.68  \n",
            "GREAT LAKES AREA               503.7325  767.960  1211.8900   5624.71  \n",
            "HOUSTON AREA                   530.6400  892.180  1443.1400   8719.53  \n",
            "LOS ANGELES AREA               554.2650  836.770  1271.6150   6120.84  \n",
            "MIDWEST AREA                   553.0600  854.350  1338.6900  13426.60  \n",
            "NEW ENGLAND AREA               497.5700  747.130  1185.8000   6939.19  \n",
            "NEW YORK CITY AREA             562.3400  870.310  1297.9700  10590.01  \n",
            "NORTH FLORIDA AREA             481.5225  758.190  1134.1950   6009.01  \n",
            "NORTHWEST-ROCKY MOUNTAIN AREA  524.3700  805.020  1293.2200   7419.73  \n",
            "OHIO AREA                      512.0700  781.040  1230.5600   8007.95  \n",
            "PHILADELPHIA AREA              558.7100  849.340  1154.6100   4819.91  \n",
            "SOUTH FLORIDA AREA             582.0225  914.600  1451.2550   6954.07  \n",
            "SOUTHWEST AREA                 508.3275  802.025  1187.3275   8772.57  \n",
            "TENNESSEE AREA                 486.6800  832.400  1282.6150   6751.70  \n",
            "------Área:  PHILADELPHIA AREA\n",
            "                               totrev                                    \\\n",
            "                                count         mean          std     min   \n",
            "area                                                                      \n",
            "ATLANTIC SOUTH AREA             592.0   903.497399   697.197572  106.95   \n",
            "CALIFORNIA NORTH AREA           599.0  1136.348013   922.069148  105.14   \n",
            "CENTRAL-SOUTH TEXAS AREA        409.0  1174.366577   920.804942   48.53   \n",
            "CHICAGO AREA                    496.0   892.133206   669.068444   59.90   \n",
            "DALLAS AREA                     518.0  1258.508784  1267.499852   84.59   \n",
            "DC-MARYLAND-VIRGINIA AREA       640.0   941.692188   634.132033   86.78   \n",
            "GREAT LAKES AREA                488.0   987.714324   733.521417  126.56   \n",
            "HOUSTON AREA                    458.0  1127.294127   999.987571   92.38   \n",
            "LOS ANGELES AREA                671.0  1031.714382   738.616227   96.74   \n",
            "MIDWEST AREA                    685.0  1095.678701   945.251868   90.42   \n",
            "NEW ENGLAND AREA                525.0   941.766038   705.572889  118.51   \n",
            "NEW YORK CITY AREA             1145.0  1076.263546   869.372842   74.01   \n",
            "NORTH FLORIDA AREA              442.0   895.489457   642.729028   37.39   \n",
            "NORTHWEST-ROCKY MOUNTAIN AREA   429.0  1083.179091   977.857935   67.80   \n",
            "OHIO AREA                       437.0  1006.616499   785.713223  107.12   \n",
            "PHILADELPHIA AREA               245.0   998.303592   722.348164  133.63   \n",
            "SOUTH FLORIDA AREA              366.0  1167.546257   891.952255  118.62   \n",
            "SOUTHWEST AREA                  584.0  1036.548630   914.475459   11.10   \n",
            "TENNESSEE AREA                  268.0  1042.700597   886.731980  102.03   \n",
            "\n",
            "                                                                       \n",
            "                                    25%      50%        75%       max  \n",
            "area                                                                   \n",
            "ATLANTIC SOUTH AREA            464.9875  718.370  1135.3050   8171.47  \n",
            "CALIFORNIA NORTH AREA          535.9900  892.340  1396.4550   7511.11  \n",
            "CENTRAL-SOUTH TEXAS AREA       594.3300  895.090  1374.5800   5848.39  \n",
            "CHICAGO AREA                   474.0675  718.855  1086.9250   5710.44  \n",
            "DALLAS AREA                    581.6975  965.650  1484.8500  13149.85  \n",
            "DC-MARYLAND-VIRGINIA AREA      525.7200  787.360  1191.5525   5029.68  \n",
            "GREAT LAKES AREA               503.7325  767.960  1211.8900   5624.71  \n",
            "HOUSTON AREA                   530.6400  892.180  1443.1400   8719.53  \n",
            "LOS ANGELES AREA               554.2650  836.770  1271.6150   6120.84  \n",
            "MIDWEST AREA                   553.0600  854.350  1338.6900  13426.60  \n",
            "NEW ENGLAND AREA               497.5700  747.130  1185.8000   6939.19  \n",
            "NEW YORK CITY AREA             562.3400  870.310  1297.9700  10590.01  \n",
            "NORTH FLORIDA AREA             481.5225  758.190  1134.1950   6009.01  \n",
            "NORTHWEST-ROCKY MOUNTAIN AREA  524.3700  805.020  1293.2200   7419.73  \n",
            "OHIO AREA                      512.0700  781.040  1230.5600   8007.95  \n",
            "PHILADELPHIA AREA              558.7100  849.340  1154.6100   4819.91  \n",
            "SOUTH FLORIDA AREA             582.0225  914.600  1451.2550   6954.07  \n",
            "SOUTHWEST AREA                 508.3275  802.025  1187.3275   8772.57  \n",
            "TENNESSEE AREA                 486.6800  832.400  1282.6150   6751.70  \n",
            "------Área:  SOUTH FLORIDA AREA\n",
            "                               totrev                                    \\\n",
            "                                count         mean          std     min   \n",
            "area                                                                      \n",
            "ATLANTIC SOUTH AREA             592.0   903.497399   697.197572  106.95   \n",
            "CALIFORNIA NORTH AREA           599.0  1136.348013   922.069148  105.14   \n",
            "CENTRAL-SOUTH TEXAS AREA        409.0  1174.366577   920.804942   48.53   \n",
            "CHICAGO AREA                    496.0   892.133206   669.068444   59.90   \n",
            "DALLAS AREA                     518.0  1258.508784  1267.499852   84.59   \n",
            "DC-MARYLAND-VIRGINIA AREA       640.0   941.692188   634.132033   86.78   \n",
            "GREAT LAKES AREA                488.0   987.714324   733.521417  126.56   \n",
            "HOUSTON AREA                    458.0  1127.294127   999.987571   92.38   \n",
            "LOS ANGELES AREA                671.0  1031.714382   738.616227   96.74   \n",
            "MIDWEST AREA                    685.0  1095.678701   945.251868   90.42   \n",
            "NEW ENGLAND AREA                525.0   941.766038   705.572889  118.51   \n",
            "NEW YORK CITY AREA             1145.0  1076.263546   869.372842   74.01   \n",
            "NORTH FLORIDA AREA              442.0   895.489457   642.729028   37.39   \n",
            "NORTHWEST-ROCKY MOUNTAIN AREA   429.0  1083.179091   977.857935   67.80   \n",
            "OHIO AREA                       437.0  1006.616499   785.713223  107.12   \n",
            "PHILADELPHIA AREA               245.0   998.303592   722.348164  133.63   \n",
            "SOUTH FLORIDA AREA              366.0  1167.546257   891.952255  118.62   \n",
            "SOUTHWEST AREA                  584.0  1036.548630   914.475459   11.10   \n",
            "TENNESSEE AREA                  268.0  1042.700597   886.731980  102.03   \n",
            "\n",
            "                                                                       \n",
            "                                    25%      50%        75%       max  \n",
            "area                                                                   \n",
            "ATLANTIC SOUTH AREA            464.9875  718.370  1135.3050   8171.47  \n",
            "CALIFORNIA NORTH AREA          535.9900  892.340  1396.4550   7511.11  \n",
            "CENTRAL-SOUTH TEXAS AREA       594.3300  895.090  1374.5800   5848.39  \n",
            "CHICAGO AREA                   474.0675  718.855  1086.9250   5710.44  \n",
            "DALLAS AREA                    581.6975  965.650  1484.8500  13149.85  \n",
            "DC-MARYLAND-VIRGINIA AREA      525.7200  787.360  1191.5525   5029.68  \n",
            "GREAT LAKES AREA               503.7325  767.960  1211.8900   5624.71  \n",
            "HOUSTON AREA                   530.6400  892.180  1443.1400   8719.53  \n",
            "LOS ANGELES AREA               554.2650  836.770  1271.6150   6120.84  \n",
            "MIDWEST AREA                   553.0600  854.350  1338.6900  13426.60  \n",
            "NEW ENGLAND AREA               497.5700  747.130  1185.8000   6939.19  \n",
            "NEW YORK CITY AREA             562.3400  870.310  1297.9700  10590.01  \n",
            "NORTH FLORIDA AREA             481.5225  758.190  1134.1950   6009.01  \n",
            "NORTHWEST-ROCKY MOUNTAIN AREA  524.3700  805.020  1293.2200   7419.73  \n",
            "OHIO AREA                      512.0700  781.040  1230.5600   8007.95  \n",
            "PHILADELPHIA AREA              558.7100  849.340  1154.6100   4819.91  \n",
            "SOUTH FLORIDA AREA             582.0225  914.600  1451.2550   6954.07  \n",
            "SOUTHWEST AREA                 508.3275  802.025  1187.3275   8772.57  \n",
            "TENNESSEE AREA                 486.6800  832.400  1282.6150   6751.70  \n",
            "------Área:  SOUTHWEST AREA\n"
          ]
        },
        {
          "name": "stdout",
          "output_type": "stream",
          "text": [
            "                               totrev                                    \\\n",
            "                                count         mean          std     min   \n",
            "area                                                                      \n",
            "ATLANTIC SOUTH AREA             592.0   903.497399   697.197572  106.95   \n",
            "CALIFORNIA NORTH AREA           599.0  1136.348013   922.069148  105.14   \n",
            "CENTRAL-SOUTH TEXAS AREA        409.0  1174.366577   920.804942   48.53   \n",
            "CHICAGO AREA                    496.0   892.133206   669.068444   59.90   \n",
            "DALLAS AREA                     518.0  1258.508784  1267.499852   84.59   \n",
            "DC-MARYLAND-VIRGINIA AREA       640.0   941.692188   634.132033   86.78   \n",
            "GREAT LAKES AREA                488.0   987.714324   733.521417  126.56   \n",
            "HOUSTON AREA                    458.0  1127.294127   999.987571   92.38   \n",
            "LOS ANGELES AREA                671.0  1031.714382   738.616227   96.74   \n",
            "MIDWEST AREA                    685.0  1095.678701   945.251868   90.42   \n",
            "NEW ENGLAND AREA                525.0   941.766038   705.572889  118.51   \n",
            "NEW YORK CITY AREA             1145.0  1076.263546   869.372842   74.01   \n",
            "NORTH FLORIDA AREA              442.0   895.489457   642.729028   37.39   \n",
            "NORTHWEST-ROCKY MOUNTAIN AREA   429.0  1083.179091   977.857935   67.80   \n",
            "OHIO AREA                       437.0  1006.616499   785.713223  107.12   \n",
            "PHILADELPHIA AREA               245.0   998.303592   722.348164  133.63   \n",
            "SOUTH FLORIDA AREA              366.0  1167.546257   891.952255  118.62   \n",
            "SOUTHWEST AREA                  584.0  1036.548630   914.475459   11.10   \n",
            "TENNESSEE AREA                  268.0  1042.700597   886.731980  102.03   \n",
            "\n",
            "                                                                       \n",
            "                                    25%      50%        75%       max  \n",
            "area                                                                   \n",
            "ATLANTIC SOUTH AREA            464.9875  718.370  1135.3050   8171.47  \n",
            "CALIFORNIA NORTH AREA          535.9900  892.340  1396.4550   7511.11  \n",
            "CENTRAL-SOUTH TEXAS AREA       594.3300  895.090  1374.5800   5848.39  \n",
            "CHICAGO AREA                   474.0675  718.855  1086.9250   5710.44  \n",
            "DALLAS AREA                    581.6975  965.650  1484.8500  13149.85  \n",
            "DC-MARYLAND-VIRGINIA AREA      525.7200  787.360  1191.5525   5029.68  \n",
            "GREAT LAKES AREA               503.7325  767.960  1211.8900   5624.71  \n",
            "HOUSTON AREA                   530.6400  892.180  1443.1400   8719.53  \n",
            "LOS ANGELES AREA               554.2650  836.770  1271.6150   6120.84  \n",
            "MIDWEST AREA                   553.0600  854.350  1338.6900  13426.60  \n",
            "NEW ENGLAND AREA               497.5700  747.130  1185.8000   6939.19  \n",
            "NEW YORK CITY AREA             562.3400  870.310  1297.9700  10590.01  \n",
            "NORTH FLORIDA AREA             481.5225  758.190  1134.1950   6009.01  \n",
            "NORTHWEST-ROCKY MOUNTAIN AREA  524.3700  805.020  1293.2200   7419.73  \n",
            "OHIO AREA                      512.0700  781.040  1230.5600   8007.95  \n",
            "PHILADELPHIA AREA              558.7100  849.340  1154.6100   4819.91  \n",
            "SOUTH FLORIDA AREA             582.0225  914.600  1451.2550   6954.07  \n",
            "SOUTHWEST AREA                 508.3275  802.025  1187.3275   8772.57  \n",
            "TENNESSEE AREA                 486.6800  832.400  1282.6150   6751.70  \n",
            "------Área:  TENNESSEE AREA\n",
            "                               totrev                                    \\\n",
            "                                count         mean          std     min   \n",
            "area                                                                      \n",
            "ATLANTIC SOUTH AREA             592.0   903.497399   697.197572  106.95   \n",
            "CALIFORNIA NORTH AREA           599.0  1136.348013   922.069148  105.14   \n",
            "CENTRAL-SOUTH TEXAS AREA        409.0  1174.366577   920.804942   48.53   \n",
            "CHICAGO AREA                    496.0   892.133206   669.068444   59.90   \n",
            "DALLAS AREA                     518.0  1258.508784  1267.499852   84.59   \n",
            "DC-MARYLAND-VIRGINIA AREA       640.0   941.692188   634.132033   86.78   \n",
            "GREAT LAKES AREA                488.0   987.714324   733.521417  126.56   \n",
            "HOUSTON AREA                    458.0  1127.294127   999.987571   92.38   \n",
            "LOS ANGELES AREA                671.0  1031.714382   738.616227   96.74   \n",
            "MIDWEST AREA                    685.0  1095.678701   945.251868   90.42   \n",
            "NEW ENGLAND AREA                525.0   941.766038   705.572889  118.51   \n",
            "NEW YORK CITY AREA             1145.0  1076.263546   869.372842   74.01   \n",
            "NORTH FLORIDA AREA              442.0   895.489457   642.729028   37.39   \n",
            "NORTHWEST-ROCKY MOUNTAIN AREA   429.0  1083.179091   977.857935   67.80   \n",
            "OHIO AREA                       437.0  1006.616499   785.713223  107.12   \n",
            "PHILADELPHIA AREA               245.0   998.303592   722.348164  133.63   \n",
            "SOUTH FLORIDA AREA              366.0  1167.546257   891.952255  118.62   \n",
            "SOUTHWEST AREA                  584.0  1036.548630   914.475459   11.10   \n",
            "TENNESSEE AREA                  268.0  1042.700597   886.731980  102.03   \n",
            "\n",
            "                                                                       \n",
            "                                    25%      50%        75%       max  \n",
            "area                                                                   \n",
            "ATLANTIC SOUTH AREA            464.9875  718.370  1135.3050   8171.47  \n",
            "CALIFORNIA NORTH AREA          535.9900  892.340  1396.4550   7511.11  \n",
            "CENTRAL-SOUTH TEXAS AREA       594.3300  895.090  1374.5800   5848.39  \n",
            "CHICAGO AREA                   474.0675  718.855  1086.9250   5710.44  \n",
            "DALLAS AREA                    581.6975  965.650  1484.8500  13149.85  \n",
            "DC-MARYLAND-VIRGINIA AREA      525.7200  787.360  1191.5525   5029.68  \n",
            "GREAT LAKES AREA               503.7325  767.960  1211.8900   5624.71  \n",
            "HOUSTON AREA                   530.6400  892.180  1443.1400   8719.53  \n",
            "LOS ANGELES AREA               554.2650  836.770  1271.6150   6120.84  \n",
            "MIDWEST AREA                   553.0600  854.350  1338.6900  13426.60  \n",
            "NEW ENGLAND AREA               497.5700  747.130  1185.8000   6939.19  \n",
            "NEW YORK CITY AREA             562.3400  870.310  1297.9700  10590.01  \n",
            "NORTH FLORIDA AREA             481.5225  758.190  1134.1950   6009.01  \n",
            "NORTHWEST-ROCKY MOUNTAIN AREA  524.3700  805.020  1293.2200   7419.73  \n",
            "OHIO AREA                      512.0700  781.040  1230.5600   8007.95  \n",
            "PHILADELPHIA AREA              558.7100  849.340  1154.6100   4819.91  \n",
            "SOUTH FLORIDA AREA             582.0225  914.600  1451.2550   6954.07  \n",
            "SOUTHWEST AREA                 508.3275  802.025  1187.3275   8772.57  \n",
            "TENNESSEE AREA                 486.6800  832.400  1282.6150   6751.70  \n"
          ]
        }
      ],
      "source": [
        "group_df = df3.groupby([\"area\"]) # Datos del grupo en df3 filtrados por el área\n",
        "# Bucle a través de los grupos\n",
        "for item in group_df:\n",
        "    print(\"------Área: \", item[0])\n",
        "    group_df1 = item[1]\n",
        "    df_relevante = group_df[[\"totrev\"]]\n",
        "    print(df_relevante.describe())"
      ]
    },
    {
      "cell_type": "markdown",
      "metadata": {
        "id": "jDV44FUF0BXL"
      },
      "source": [
        "En `pandas`tenemos una manera más sencilla de mostrar estos resultados"
      ]
    },
    {
      "cell_type": "code",
      "execution_count": null,
      "metadata": {
        "id": "iYuraAuC0BXL",
        "outputId": "df89c35c-ce54-45c5-d442-bd8ff9909505"
      },
      "outputs": [
        {
          "data": {
            "text/html": [
              "<div>\n",
              "<style scoped>\n",
              "    .dataframe tbody tr th:only-of-type {\n",
              "        vertical-align: middle;\n",
              "    }\n",
              "\n",
              "    .dataframe tbody tr th {\n",
              "        vertical-align: top;\n",
              "    }\n",
              "\n",
              "    .dataframe thead tr th {\n",
              "        text-align: left;\n",
              "    }\n",
              "\n",
              "    .dataframe thead tr:last-of-type th {\n",
              "        text-align: right;\n",
              "    }\n",
              "</style>\n",
              "<table border=\"1\" class=\"dataframe\">\n",
              "  <thead>\n",
              "    <tr>\n",
              "      <th></th>\n",
              "      <th colspan=\"8\" halign=\"left\">totrev</th>\n",
              "    </tr>\n",
              "    <tr>\n",
              "      <th></th>\n",
              "      <th>count</th>\n",
              "      <th>mean</th>\n",
              "      <th>std</th>\n",
              "      <th>min</th>\n",
              "      <th>25%</th>\n",
              "      <th>50%</th>\n",
              "      <th>75%</th>\n",
              "      <th>max</th>\n",
              "    </tr>\n",
              "    <tr>\n",
              "      <th>area</th>\n",
              "      <th></th>\n",
              "      <th></th>\n",
              "      <th></th>\n",
              "      <th></th>\n",
              "      <th></th>\n",
              "      <th></th>\n",
              "      <th></th>\n",
              "      <th></th>\n",
              "    </tr>\n",
              "  </thead>\n",
              "  <tbody>\n",
              "    <tr>\n",
              "      <th>ATLANTIC SOUTH AREA</th>\n",
              "      <td>592.0</td>\n",
              "      <td>903.497399</td>\n",
              "      <td>697.197572</td>\n",
              "      <td>106.95</td>\n",
              "      <td>464.9875</td>\n",
              "      <td>718.370</td>\n",
              "      <td>1135.3050</td>\n",
              "      <td>8171.47</td>\n",
              "    </tr>\n",
              "    <tr>\n",
              "      <th>CALIFORNIA NORTH AREA</th>\n",
              "      <td>599.0</td>\n",
              "      <td>1136.348013</td>\n",
              "      <td>922.069148</td>\n",
              "      <td>105.14</td>\n",
              "      <td>535.9900</td>\n",
              "      <td>892.340</td>\n",
              "      <td>1396.4550</td>\n",
              "      <td>7511.11</td>\n",
              "    </tr>\n",
              "    <tr>\n",
              "      <th>CENTRAL-SOUTH TEXAS AREA</th>\n",
              "      <td>409.0</td>\n",
              "      <td>1174.366577</td>\n",
              "      <td>920.804942</td>\n",
              "      <td>48.53</td>\n",
              "      <td>594.3300</td>\n",
              "      <td>895.090</td>\n",
              "      <td>1374.5800</td>\n",
              "      <td>5848.39</td>\n",
              "    </tr>\n",
              "    <tr>\n",
              "      <th>CHICAGO AREA</th>\n",
              "      <td>496.0</td>\n",
              "      <td>892.133206</td>\n",
              "      <td>669.068444</td>\n",
              "      <td>59.90</td>\n",
              "      <td>474.0675</td>\n",
              "      <td>718.855</td>\n",
              "      <td>1086.9250</td>\n",
              "      <td>5710.44</td>\n",
              "    </tr>\n",
              "    <tr>\n",
              "      <th>DALLAS AREA</th>\n",
              "      <td>518.0</td>\n",
              "      <td>1258.508784</td>\n",
              "      <td>1267.499852</td>\n",
              "      <td>84.59</td>\n",
              "      <td>581.6975</td>\n",
              "      <td>965.650</td>\n",
              "      <td>1484.8500</td>\n",
              "      <td>13149.85</td>\n",
              "    </tr>\n",
              "    <tr>\n",
              "      <th>DC-MARYLAND-VIRGINIA AREA</th>\n",
              "      <td>640.0</td>\n",
              "      <td>941.692188</td>\n",
              "      <td>634.132033</td>\n",
              "      <td>86.78</td>\n",
              "      <td>525.7200</td>\n",
              "      <td>787.360</td>\n",
              "      <td>1191.5525</td>\n",
              "      <td>5029.68</td>\n",
              "    </tr>\n",
              "    <tr>\n",
              "      <th>GREAT LAKES AREA</th>\n",
              "      <td>488.0</td>\n",
              "      <td>987.714324</td>\n",
              "      <td>733.521417</td>\n",
              "      <td>126.56</td>\n",
              "      <td>503.7325</td>\n",
              "      <td>767.960</td>\n",
              "      <td>1211.8900</td>\n",
              "      <td>5624.71</td>\n",
              "    </tr>\n",
              "    <tr>\n",
              "      <th>HOUSTON AREA</th>\n",
              "      <td>458.0</td>\n",
              "      <td>1127.294127</td>\n",
              "      <td>999.987571</td>\n",
              "      <td>92.38</td>\n",
              "      <td>530.6400</td>\n",
              "      <td>892.180</td>\n",
              "      <td>1443.1400</td>\n",
              "      <td>8719.53</td>\n",
              "    </tr>\n",
              "    <tr>\n",
              "      <th>LOS ANGELES AREA</th>\n",
              "      <td>671.0</td>\n",
              "      <td>1031.714382</td>\n",
              "      <td>738.616227</td>\n",
              "      <td>96.74</td>\n",
              "      <td>554.2650</td>\n",
              "      <td>836.770</td>\n",
              "      <td>1271.6150</td>\n",
              "      <td>6120.84</td>\n",
              "    </tr>\n",
              "    <tr>\n",
              "      <th>MIDWEST AREA</th>\n",
              "      <td>685.0</td>\n",
              "      <td>1095.678701</td>\n",
              "      <td>945.251868</td>\n",
              "      <td>90.42</td>\n",
              "      <td>553.0600</td>\n",
              "      <td>854.350</td>\n",
              "      <td>1338.6900</td>\n",
              "      <td>13426.60</td>\n",
              "    </tr>\n",
              "    <tr>\n",
              "      <th>NEW ENGLAND AREA</th>\n",
              "      <td>525.0</td>\n",
              "      <td>941.766038</td>\n",
              "      <td>705.572889</td>\n",
              "      <td>118.51</td>\n",
              "      <td>497.5700</td>\n",
              "      <td>747.130</td>\n",
              "      <td>1185.8000</td>\n",
              "      <td>6939.19</td>\n",
              "    </tr>\n",
              "    <tr>\n",
              "      <th>NEW YORK CITY AREA</th>\n",
              "      <td>1145.0</td>\n",
              "      <td>1076.263546</td>\n",
              "      <td>869.372842</td>\n",
              "      <td>74.01</td>\n",
              "      <td>562.3400</td>\n",
              "      <td>870.310</td>\n",
              "      <td>1297.9700</td>\n",
              "      <td>10590.01</td>\n",
              "    </tr>\n",
              "    <tr>\n",
              "      <th>NORTH FLORIDA AREA</th>\n",
              "      <td>442.0</td>\n",
              "      <td>895.489457</td>\n",
              "      <td>642.729028</td>\n",
              "      <td>37.39</td>\n",
              "      <td>481.5225</td>\n",
              "      <td>758.190</td>\n",
              "      <td>1134.1950</td>\n",
              "      <td>6009.01</td>\n",
              "    </tr>\n",
              "    <tr>\n",
              "      <th>NORTHWEST-ROCKY MOUNTAIN AREA</th>\n",
              "      <td>429.0</td>\n",
              "      <td>1083.179091</td>\n",
              "      <td>977.857935</td>\n",
              "      <td>67.80</td>\n",
              "      <td>524.3700</td>\n",
              "      <td>805.020</td>\n",
              "      <td>1293.2200</td>\n",
              "      <td>7419.73</td>\n",
              "    </tr>\n",
              "    <tr>\n",
              "      <th>OHIO AREA</th>\n",
              "      <td>437.0</td>\n",
              "      <td>1006.616499</td>\n",
              "      <td>785.713223</td>\n",
              "      <td>107.12</td>\n",
              "      <td>512.0700</td>\n",
              "      <td>781.040</td>\n",
              "      <td>1230.5600</td>\n",
              "      <td>8007.95</td>\n",
              "    </tr>\n",
              "    <tr>\n",
              "      <th>PHILADELPHIA AREA</th>\n",
              "      <td>245.0</td>\n",
              "      <td>998.303592</td>\n",
              "      <td>722.348164</td>\n",
              "      <td>133.63</td>\n",
              "      <td>558.7100</td>\n",
              "      <td>849.340</td>\n",
              "      <td>1154.6100</td>\n",
              "      <td>4819.91</td>\n",
              "    </tr>\n",
              "    <tr>\n",
              "      <th>SOUTH FLORIDA AREA</th>\n",
              "      <td>366.0</td>\n",
              "      <td>1167.546257</td>\n",
              "      <td>891.952255</td>\n",
              "      <td>118.62</td>\n",
              "      <td>582.0225</td>\n",
              "      <td>914.600</td>\n",
              "      <td>1451.2550</td>\n",
              "      <td>6954.07</td>\n",
              "    </tr>\n",
              "    <tr>\n",
              "      <th>SOUTHWEST AREA</th>\n",
              "      <td>584.0</td>\n",
              "      <td>1036.548630</td>\n",
              "      <td>914.475459</td>\n",
              "      <td>11.10</td>\n",
              "      <td>508.3275</td>\n",
              "      <td>802.025</td>\n",
              "      <td>1187.3275</td>\n",
              "      <td>8772.57</td>\n",
              "    </tr>\n",
              "    <tr>\n",
              "      <th>TENNESSEE AREA</th>\n",
              "      <td>268.0</td>\n",
              "      <td>1042.700597</td>\n",
              "      <td>886.731980</td>\n",
              "      <td>102.03</td>\n",
              "      <td>486.6800</td>\n",
              "      <td>832.400</td>\n",
              "      <td>1282.6150</td>\n",
              "      <td>6751.70</td>\n",
              "    </tr>\n",
              "  </tbody>\n",
              "</table>\n",
              "</div>"
            ],
            "text/plain": [
              "                               totrev                                    \\\n",
              "                                count         mean          std     min   \n",
              "area                                                                      \n",
              "ATLANTIC SOUTH AREA             592.0   903.497399   697.197572  106.95   \n",
              "CALIFORNIA NORTH AREA           599.0  1136.348013   922.069148  105.14   \n",
              "CENTRAL-SOUTH TEXAS AREA        409.0  1174.366577   920.804942   48.53   \n",
              "CHICAGO AREA                    496.0   892.133206   669.068444   59.90   \n",
              "DALLAS AREA                     518.0  1258.508784  1267.499852   84.59   \n",
              "DC-MARYLAND-VIRGINIA AREA       640.0   941.692188   634.132033   86.78   \n",
              "GREAT LAKES AREA                488.0   987.714324   733.521417  126.56   \n",
              "HOUSTON AREA                    458.0  1127.294127   999.987571   92.38   \n",
              "LOS ANGELES AREA                671.0  1031.714382   738.616227   96.74   \n",
              "MIDWEST AREA                    685.0  1095.678701   945.251868   90.42   \n",
              "NEW ENGLAND AREA                525.0   941.766038   705.572889  118.51   \n",
              "NEW YORK CITY AREA             1145.0  1076.263546   869.372842   74.01   \n",
              "NORTH FLORIDA AREA              442.0   895.489457   642.729028   37.39   \n",
              "NORTHWEST-ROCKY MOUNTAIN AREA   429.0  1083.179091   977.857935   67.80   \n",
              "OHIO AREA                       437.0  1006.616499   785.713223  107.12   \n",
              "PHILADELPHIA AREA               245.0   998.303592   722.348164  133.63   \n",
              "SOUTH FLORIDA AREA              366.0  1167.546257   891.952255  118.62   \n",
              "SOUTHWEST AREA                  584.0  1036.548630   914.475459   11.10   \n",
              "TENNESSEE AREA                  268.0  1042.700597   886.731980  102.03   \n",
              "\n",
              "                                                                       \n",
              "                                    25%      50%        75%       max  \n",
              "area                                                                   \n",
              "ATLANTIC SOUTH AREA            464.9875  718.370  1135.3050   8171.47  \n",
              "CALIFORNIA NORTH AREA          535.9900  892.340  1396.4550   7511.11  \n",
              "CENTRAL-SOUTH TEXAS AREA       594.3300  895.090  1374.5800   5848.39  \n",
              "CHICAGO AREA                   474.0675  718.855  1086.9250   5710.44  \n",
              "DALLAS AREA                    581.6975  965.650  1484.8500  13149.85  \n",
              "DC-MARYLAND-VIRGINIA AREA      525.7200  787.360  1191.5525   5029.68  \n",
              "GREAT LAKES AREA               503.7325  767.960  1211.8900   5624.71  \n",
              "HOUSTON AREA                   530.6400  892.180  1443.1400   8719.53  \n",
              "LOS ANGELES AREA               554.2650  836.770  1271.6150   6120.84  \n",
              "MIDWEST AREA                   553.0600  854.350  1338.6900  13426.60  \n",
              "NEW ENGLAND AREA               497.5700  747.130  1185.8000   6939.19  \n",
              "NEW YORK CITY AREA             562.3400  870.310  1297.9700  10590.01  \n",
              "NORTH FLORIDA AREA             481.5225  758.190  1134.1950   6009.01  \n",
              "NORTHWEST-ROCKY MOUNTAIN AREA  524.3700  805.020  1293.2200   7419.73  \n",
              "OHIO AREA                      512.0700  781.040  1230.5600   8007.95  \n",
              "PHILADELPHIA AREA              558.7100  849.340  1154.6100   4819.91  \n",
              "SOUTH FLORIDA AREA             582.0225  914.600  1451.2550   6954.07  \n",
              "SOUTHWEST AREA                 508.3275  802.025  1187.3275   8772.57  \n",
              "TENNESSEE AREA                 486.6800  832.400  1282.6150   6751.70  "
            ]
          },
          "execution_count": 36,
          "metadata": {},
          "output_type": "execute_result"
        }
      ],
      "source": [
        "df3[[\"area\",\"totrev\"]].groupby(\"area\").describe()"
      ]
    },
    {
      "cell_type": "markdown",
      "metadata": {
        "id": "RE2_G_PH0BXL"
      },
      "source": [
        "Estos resultados son iguales a los realizados con el ciclo `for`. Los objetos de tipo `DataFrameGroupBy` permiten una rápida salida de generación de estadísticas para grupos de interés."
      ]
    },
    {
      "cell_type": "markdown",
      "metadata": {
        "id": "OHIjDTEz0BXM"
      },
      "source": [
        "### Ejercicio 3\n",
        "\n",
        "Realice una agrupación por la variable creditcd_x y encuentre el valor de la desviación estándar"
      ]
    },
    {
      "cell_type": "code",
      "execution_count": null,
      "metadata": {
        "id": "vK4kwSll0BXM"
      },
      "outputs": [],
      "source": [
        "# realice el ejercicio en este espacio"
      ]
    },
    {
      "cell_type": "markdown",
      "metadata": {
        "id": "Qfp6gSCG0BXM"
      },
      "source": [
        "### Etiquetando valores de total de ingresos en categorías\n",
        "\n",
        "Revisamos el comportamiento de `totrev` y encontramos una gran variabilidad, en ocasiones la agrupación de variables cuantitativas en diferentes categorías nos ayuda a tener una mejor visión del conjunto de datos.\n",
        "\n",
        "Crearemos una nueva variable `Nivel_totrev`  que catalogue a la variable total de ingresos `totrev` en 2 posibles niveles, alto en el caso que `totrev`  sea mayor al cuantil 50 y baja en otro caso. cada valor de percentil debe ser calculado por cada `area` para asegurar que el +area geografíca sea evaluada adicionalmente.\n",
        "\n"
      ]
    },
    {
      "cell_type": "code",
      "execution_count": null,
      "metadata": {
        "id": "BujNKv110BXM",
        "outputId": "11c6c8d6-4a7f-409d-b535-70dea136f480"
      },
      "outputs": [
        {
          "name": "stdout",
          "output_type": "stream",
          "text": [
            "area\n",
            "ATLANTIC SOUTH AREA              718.370\n",
            "CALIFORNIA NORTH AREA            892.340\n",
            "CENTRAL-SOUTH TEXAS AREA         895.090\n",
            "CHICAGO AREA                     718.855\n",
            "DALLAS AREA                      965.650\n",
            "DC-MARYLAND-VIRGINIA AREA        787.360\n",
            "GREAT LAKES AREA                 767.960\n",
            "HOUSTON AREA                     892.180\n",
            "LOS ANGELES AREA                 836.770\n",
            "MIDWEST AREA                     854.350\n",
            "NEW ENGLAND AREA                 747.130\n",
            "NEW YORK CITY AREA               870.310\n",
            "NORTH FLORIDA AREA               758.190\n",
            "NORTHWEST-ROCKY MOUNTAIN AREA    805.020\n",
            "OHIO AREA                        781.040\n",
            "PHILADELPHIA AREA                849.340\n",
            "SOUTH FLORIDA AREA               914.600\n",
            "SOUTHWEST AREA                   802.025\n",
            "TENNESSEE AREA                   832.400\n",
            "Name: totrev, dtype: float64\n"
          ]
        }
      ],
      "source": [
        "pencentiles50 = df3.groupby(\"area\")[\"totrev\"].quantile(0.5) # percentil 50\n",
        "print(pencentiles50)"
      ]
    },
    {
      "cell_type": "markdown",
      "metadata": {
        "id": "PQDi0aB-0BXN"
      },
      "source": [
        "Como nos gustaría etiquetar los ingreos en alto y bajopara  cada área geográfica, haremos uso del método\n",
        "`np.where()` en la biblioteca numpy. Este método toma una entrada y comprueba una condición lógica: si la\n",
        "condición es verdadera, devolverá su segundo argumento, mientras que si la condición es falsa, devolverá su\n",
        "tercer argumento.\n"
      ]
    },
    {
      "cell_type": "code",
      "execution_count": null,
      "metadata": {
        "id": "UvhTcvfe0BXN",
        "outputId": "2a6b5986-c91e-4b31-e49f-8c0ca4e79d79"
      },
      "outputs": [
        {
          "name": "stdout",
          "output_type": "stream",
          "text": [
            "Etiqueta por área: ATLANTIC SOUTH AREA\n",
            "Etiqueta por área: CALIFORNIA NORTH AREA\n",
            "Etiqueta por área: CENTRAL-SOUTH TEXAS AREA\n",
            "Etiqueta por área: CHICAGO AREA\n",
            "Etiqueta por área: DALLAS AREA\n",
            "Etiqueta por área: DC-MARYLAND-VIRGINIA AREA\n",
            "Etiqueta por área: GREAT LAKES AREA\n",
            "Etiqueta por área: HOUSTON AREA\n",
            "Etiqueta por área: LOS ANGELES AREA\n",
            "Etiqueta por área: MIDWEST AREA\n",
            "Etiqueta por área: NEW ENGLAND AREA\n",
            "Etiqueta por área: NEW YORK CITY AREA\n",
            "Etiqueta por área: NORTH FLORIDA AREA\n",
            "Etiqueta por área: NORTHWEST-ROCKY MOUNTAIN AREA\n",
            "Etiqueta por área: OHIO AREA\n",
            "Etiqueta por área: PHILADELPHIA AREA\n",
            "Etiqueta por área: SOUTH FLORIDA AREA\n",
            "Etiqueta por área: SOUTHWEST AREA\n",
            "Etiqueta por área: TENNESSEE AREA\n"
          ]
        }
      ],
      "source": [
        "# Loop a través de los símbolos\n",
        "areas = ['ATLANTIC SOUTH AREA',\n",
        " 'CALIFORNIA NORTH AREA',\n",
        " 'CENTRAL-SOUTH TEXAS AREA',\n",
        " 'CHICAGO AREA',\n",
        " 'DALLAS AREA',\n",
        " 'DC-MARYLAND-VIRGINIA AREA',\n",
        " 'GREAT LAKES AREA',\n",
        " 'HOUSTON AREA',\n",
        " 'LOS ANGELES AREA',\n",
        " 'MIDWEST AREA',\n",
        " 'NEW ENGLAND AREA',\n",
        " 'NEW YORK CITY AREA',\n",
        " 'NORTH FLORIDA AREA',\n",
        " 'NORTHWEST-ROCKY MOUNTAIN AREA',\n",
        " 'OHIO AREA',\n",
        " 'PHILADELPHIA AREA',\n",
        " 'SOUTH FLORIDA AREA',\n",
        " 'SOUTHWEST AREA',\n",
        " 'TENNESSEE AREA'] # registro de las áreas\n",
        "lista_df = []\n",
        "# ciclo sobre todos los símbolos\n",
        "for i in areas:\n",
        "    print(\"Etiqueta por área: \" + i)\n",
        "    temp_df = df3[df3[\"area\"] == i] .copy()\n",
        "    umbral_punto = pencentiles50.loc[i]\n",
        "    temp_df[\"Nivel_totrev\"] = np.where(temp_df[\"totrev\"] < umbral_punto, \"Bajo\", \"Alto\")\n",
        "    lista_df.append(temp_df)\n",
        "df_con_etiquetas = pd.concat(lista_df)"
      ]
    },
    {
      "cell_type": "code",
      "execution_count": null,
      "metadata": {
        "id": "cLha6BXa0BXN",
        "outputId": "76093621-8924-44fd-c93a-2c3dd4a1973d"
      },
      "outputs": [
        {
          "data": {
            "text/html": [
              "<div>\n",
              "<style scoped>\n",
              "    .dataframe tbody tr th:only-of-type {\n",
              "        vertical-align: middle;\n",
              "    }\n",
              "\n",
              "    .dataframe tbody tr th {\n",
              "        vertical-align: top;\n",
              "    }\n",
              "\n",
              "    .dataframe thead th {\n",
              "        text-align: right;\n",
              "    }\n",
              "</style>\n",
              "<table border=\"1\" class=\"dataframe\">\n",
              "  <thead>\n",
              "    <tr style=\"text-align: right;\">\n",
              "      <th></th>\n",
              "      <th>totmou</th>\n",
              "      <th>totrev</th>\n",
              "      <th>creditcd_x</th>\n",
              "      <th>eqpdays</th>\n",
              "      <th>custcare_Mean</th>\n",
              "      <th>new_cell</th>\n",
              "      <th>area</th>\n",
              "      <th>creditcd_y</th>\n",
              "      <th>Nivel_totrev</th>\n",
              "    </tr>\n",
              "    <tr>\n",
              "      <th>Customer_ID</th>\n",
              "      <th></th>\n",
              "      <th></th>\n",
              "      <th></th>\n",
              "      <th></th>\n",
              "      <th></th>\n",
              "      <th></th>\n",
              "      <th></th>\n",
              "      <th></th>\n",
              "      <th></th>\n",
              "    </tr>\n",
              "  </thead>\n",
              "  <tbody>\n",
              "    <tr>\n",
              "      <th>1069232</th>\n",
              "      <td>13552.0</td>\n",
              "      <td>1172.25</td>\n",
              "      <td>N</td>\n",
              "      <td>83</td>\n",
              "      <td>3.666667</td>\n",
              "      <td>U</td>\n",
              "      <td>ATLANTIC SOUTH AREA</td>\n",
              "      <td>N</td>\n",
              "      <td>Alto</td>\n",
              "    </tr>\n",
              "    <tr>\n",
              "      <th>1043846</th>\n",
              "      <td>7294.0</td>\n",
              "      <td>1495.18</td>\n",
              "      <td>Y</td>\n",
              "      <td>460</td>\n",
              "      <td>0.000000</td>\n",
              "      <td>U</td>\n",
              "      <td>ATLANTIC SOUTH AREA</td>\n",
              "      <td>Y</td>\n",
              "      <td>Alto</td>\n",
              "    </tr>\n",
              "    <tr>\n",
              "      <th>1008539</th>\n",
              "      <td>4078.0</td>\n",
              "      <td>1257.05</td>\n",
              "      <td>Y</td>\n",
              "      <td>1019</td>\n",
              "      <td>0.000000</td>\n",
              "      <td>N</td>\n",
              "      <td>ATLANTIC SOUTH AREA</td>\n",
              "      <td>Y</td>\n",
              "      <td>Alto</td>\n",
              "    </tr>\n",
              "    <tr>\n",
              "      <th>1068315</th>\n",
              "      <td>5124.0</td>\n",
              "      <td>652.27</td>\n",
              "      <td>N</td>\n",
              "      <td>377</td>\n",
              "      <td>0.000000</td>\n",
              "      <td>U</td>\n",
              "      <td>ATLANTIC SOUTH AREA</td>\n",
              "      <td>N</td>\n",
              "      <td>Bajo</td>\n",
              "    </tr>\n",
              "    <tr>\n",
              "      <th>1074220</th>\n",
              "      <td>6648.0</td>\n",
              "      <td>590.21</td>\n",
              "      <td>N</td>\n",
              "      <td>295</td>\n",
              "      <td>1.666667</td>\n",
              "      <td>U</td>\n",
              "      <td>ATLANTIC SOUTH AREA</td>\n",
              "      <td>N</td>\n",
              "      <td>Bajo</td>\n",
              "    </tr>\n",
              "  </tbody>\n",
              "</table>\n",
              "</div>"
            ],
            "text/plain": [
              "              totmou   totrev creditcd_x  eqpdays  custcare_Mean new_cell  \\\n",
              "Customer_ID                                                                 \n",
              "1069232      13552.0  1172.25          N       83       3.666667        U   \n",
              "1043846       7294.0  1495.18          Y      460       0.000000        U   \n",
              "1008539       4078.0  1257.05          Y     1019       0.000000        N   \n",
              "1068315       5124.0   652.27          N      377       0.000000        U   \n",
              "1074220       6648.0   590.21          N      295       1.666667        U   \n",
              "\n",
              "                            area creditcd_y Nivel_totrev  \n",
              "Customer_ID                                               \n",
              "1069232      ATLANTIC SOUTH AREA          N         Alto  \n",
              "1043846      ATLANTIC SOUTH AREA          Y         Alto  \n",
              "1008539      ATLANTIC SOUTH AREA          Y         Alto  \n",
              "1068315      ATLANTIC SOUTH AREA          N         Bajo  \n",
              "1074220      ATLANTIC SOUTH AREA          N         Bajo  "
            ]
          },
          "execution_count": 40,
          "metadata": {},
          "output_type": "execute_result"
        }
      ],
      "source": [
        "df_con_etiquetas.head()"
      ]
    },
    {
      "cell_type": "code",
      "execution_count": null,
      "metadata": {
        "scrolled": true,
        "id": "RqgakRDk0BXO",
        "outputId": "c915c7be-d512-4569-c64e-ccee10215781"
      },
      "outputs": [
        {
          "data": {
            "text/html": [
              "<div>\n",
              "<style scoped>\n",
              "    .dataframe tbody tr th:only-of-type {\n",
              "        vertical-align: middle;\n",
              "    }\n",
              "\n",
              "    .dataframe tbody tr th {\n",
              "        vertical-align: top;\n",
              "    }\n",
              "\n",
              "    .dataframe thead th {\n",
              "        text-align: right;\n",
              "    }\n",
              "</style>\n",
              "<table border=\"1\" class=\"dataframe\">\n",
              "  <thead>\n",
              "    <tr style=\"text-align: right;\">\n",
              "      <th></th>\n",
              "      <th>totmou</th>\n",
              "      <th>totrev</th>\n",
              "      <th>creditcd_x</th>\n",
              "      <th>eqpdays</th>\n",
              "      <th>custcare_Mean</th>\n",
              "      <th>new_cell</th>\n",
              "      <th>area</th>\n",
              "      <th>creditcd_y</th>\n",
              "      <th>Nivel_totrev</th>\n",
              "    </tr>\n",
              "    <tr>\n",
              "      <th>Customer_ID</th>\n",
              "      <th></th>\n",
              "      <th></th>\n",
              "      <th></th>\n",
              "      <th></th>\n",
              "      <th></th>\n",
              "      <th></th>\n",
              "      <th></th>\n",
              "      <th></th>\n",
              "      <th></th>\n",
              "    </tr>\n",
              "  </thead>\n",
              "  <tbody>\n",
              "    <tr>\n",
              "      <th>1069232</th>\n",
              "      <td>13552.0</td>\n",
              "      <td>1172.25</td>\n",
              "      <td>N</td>\n",
              "      <td>83</td>\n",
              "      <td>3.666667</td>\n",
              "      <td>U</td>\n",
              "      <td>ATLANTIC SOUTH AREA</td>\n",
              "      <td>N</td>\n",
              "      <td>Alto</td>\n",
              "    </tr>\n",
              "    <tr>\n",
              "      <th>1043846</th>\n",
              "      <td>7294.0</td>\n",
              "      <td>1495.18</td>\n",
              "      <td>Y</td>\n",
              "      <td>460</td>\n",
              "      <td>0.000000</td>\n",
              "      <td>U</td>\n",
              "      <td>ATLANTIC SOUTH AREA</td>\n",
              "      <td>Y</td>\n",
              "      <td>Alto</td>\n",
              "    </tr>\n",
              "    <tr>\n",
              "      <th>1008539</th>\n",
              "      <td>4078.0</td>\n",
              "      <td>1257.05</td>\n",
              "      <td>Y</td>\n",
              "      <td>1019</td>\n",
              "      <td>0.000000</td>\n",
              "      <td>N</td>\n",
              "      <td>ATLANTIC SOUTH AREA</td>\n",
              "      <td>Y</td>\n",
              "      <td>Alto</td>\n",
              "    </tr>\n",
              "    <tr>\n",
              "      <th>1068315</th>\n",
              "      <td>5124.0</td>\n",
              "      <td>652.27</td>\n",
              "      <td>N</td>\n",
              "      <td>377</td>\n",
              "      <td>0.000000</td>\n",
              "      <td>U</td>\n",
              "      <td>ATLANTIC SOUTH AREA</td>\n",
              "      <td>N</td>\n",
              "      <td>Bajo</td>\n",
              "    </tr>\n",
              "    <tr>\n",
              "      <th>1074220</th>\n",
              "      <td>6648.0</td>\n",
              "      <td>590.21</td>\n",
              "      <td>N</td>\n",
              "      <td>295</td>\n",
              "      <td>1.666667</td>\n",
              "      <td>U</td>\n",
              "      <td>ATLANTIC SOUTH AREA</td>\n",
              "      <td>N</td>\n",
              "      <td>Bajo</td>\n",
              "    </tr>\n",
              "  </tbody>\n",
              "</table>\n",
              "</div>"
            ],
            "text/plain": [
              "              totmou   totrev creditcd_x  eqpdays  custcare_Mean new_cell  \\\n",
              "Customer_ID                                                                 \n",
              "1069232      13552.0  1172.25          N       83       3.666667        U   \n",
              "1043846       7294.0  1495.18          Y      460       0.000000        U   \n",
              "1008539       4078.0  1257.05          Y     1019       0.000000        N   \n",
              "1068315       5124.0   652.27          N      377       0.000000        U   \n",
              "1074220       6648.0   590.21          N      295       1.666667        U   \n",
              "\n",
              "                            area creditcd_y Nivel_totrev  \n",
              "Customer_ID                                               \n",
              "1069232      ATLANTIC SOUTH AREA          N         Alto  \n",
              "1043846      ATLANTIC SOUTH AREA          Y         Alto  \n",
              "1008539      ATLANTIC SOUTH AREA          Y         Alto  \n",
              "1068315      ATLANTIC SOUTH AREA          N         Bajo  \n",
              "1074220      ATLANTIC SOUTH AREA          N         Bajo  "
            ]
          },
          "execution_count": 41,
          "metadata": {},
          "output_type": "execute_result"
        }
      ],
      "source": [
        "df_con_etiquetas.head()"
      ]
    },
    {
      "cell_type": "markdown",
      "metadata": {
        "id": "Azzdm82a0BXO"
      },
      "source": [
        "Ahora podemos hacer una evaluaciónd de como es el comportamiento de los minutos gastados y el nivel de ingresos de los clientes"
      ]
    },
    {
      "cell_type": "markdown",
      "metadata": {
        "id": "Fb9REGCP0BXO"
      },
      "source": [
        "### ¿Existe relación alguna entre el total de minutos usados con la compañía y el ingreso total de los clientes?\n",
        "\n",
        "Para explorar la relación entre el nivel de total de ingresos y el número promedio de llamadas, agrupemos por\n",
        "Nivel_totrev y miremos ingreso total promedio por cada +area geográfica.\n",
        "\n"
      ]
    },
    {
      "cell_type": "code",
      "execution_count": null,
      "metadata": {
        "scrolled": true,
        "id": "ImKo7hKs0BXO",
        "outputId": "c20514ed-f859-4df4-ffb3-9c1ae5b02dc0"
      },
      "outputs": [
        {
          "data": {
            "text/html": [
              "<div>\n",
              "<style scoped>\n",
              "    .dataframe tbody tr th:only-of-type {\n",
              "        vertical-align: middle;\n",
              "    }\n",
              "\n",
              "    .dataframe tbody tr th {\n",
              "        vertical-align: top;\n",
              "    }\n",
              "\n",
              "    .dataframe thead th {\n",
              "        text-align: right;\n",
              "    }\n",
              "</style>\n",
              "<table border=\"1\" class=\"dataframe\">\n",
              "  <thead>\n",
              "    <tr style=\"text-align: right;\">\n",
              "      <th></th>\n",
              "      <th></th>\n",
              "      <th>totmou</th>\n",
              "    </tr>\n",
              "    <tr>\n",
              "      <th>area</th>\n",
              "      <th>Nivel_totrev</th>\n",
              "      <th></th>\n",
              "    </tr>\n",
              "  </thead>\n",
              "  <tbody>\n",
              "    <tr>\n",
              "      <th rowspan=\"2\" valign=\"top\">ATLANTIC SOUTH AREA</th>\n",
              "      <th>Alto</th>\n",
              "      <td>10287.102128</td>\n",
              "    </tr>\n",
              "    <tr>\n",
              "      <th>Bajo</th>\n",
              "      <td>3421.959459</td>\n",
              "    </tr>\n",
              "    <tr>\n",
              "      <th rowspan=\"2\" valign=\"top\">CALIFORNIA NORTH AREA</th>\n",
              "      <th>Alto</th>\n",
              "      <td>11937.216156</td>\n",
              "    </tr>\n",
              "    <tr>\n",
              "      <th>Bajo</th>\n",
              "      <td>3177.665552</td>\n",
              "    </tr>\n",
              "    <tr>\n",
              "      <th rowspan=\"2\" valign=\"top\">CENTRAL-SOUTH TEXAS AREA</th>\n",
              "      <th>Alto</th>\n",
              "      <td>14306.189935</td>\n",
              "    </tr>\n",
              "    <tr>\n",
              "      <th>Bajo</th>\n",
              "      <td>4420.431373</td>\n",
              "    </tr>\n",
              "    <tr>\n",
              "      <th rowspan=\"2\" valign=\"top\">CHICAGO AREA</th>\n",
              "      <th>Alto</th>\n",
              "      <td>9733.863737</td>\n",
              "    </tr>\n",
              "    <tr>\n",
              "      <th>Bajo</th>\n",
              "      <td>3346.189516</td>\n",
              "    </tr>\n",
              "    <tr>\n",
              "      <th rowspan=\"2\" valign=\"top\">DALLAS AREA</th>\n",
              "      <th>Alto</th>\n",
              "      <td>14388.723140</td>\n",
              "    </tr>\n",
              "    <tr>\n",
              "      <th>Bajo</th>\n",
              "      <td>4110.544402</td>\n",
              "    </tr>\n",
              "    <tr>\n",
              "      <th rowspan=\"2\" valign=\"top\">DC-MARYLAND-VIRGINIA AREA</th>\n",
              "      <th>Alto</th>\n",
              "      <td>9822.787500</td>\n",
              "    </tr>\n",
              "    <tr>\n",
              "      <th>Bajo</th>\n",
              "      <td>3574.912500</td>\n",
              "    </tr>\n",
              "    <tr>\n",
              "      <th rowspan=\"2\" valign=\"top\">GREAT LAKES AREA</th>\n",
              "      <th>Alto</th>\n",
              "      <td>11343.180328</td>\n",
              "    </tr>\n",
              "    <tr>\n",
              "      <th>Bajo</th>\n",
              "      <td>3677.053279</td>\n",
              "    </tr>\n",
              "    <tr>\n",
              "      <th rowspan=\"2\" valign=\"top\">HOUSTON AREA</th>\n",
              "      <th>Alto</th>\n",
              "      <td>14512.521339</td>\n",
              "    </tr>\n",
              "    <tr>\n",
              "      <th>Bajo</th>\n",
              "      <td>4278.943231</td>\n",
              "    </tr>\n",
              "    <tr>\n",
              "      <th rowspan=\"2\" valign=\"top\">LOS ANGELES AREA</th>\n",
              "      <th>Alto</th>\n",
              "      <td>11593.681548</td>\n",
              "    </tr>\n",
              "    <tr>\n",
              "      <th>Bajo</th>\n",
              "      <td>3461.391045</td>\n",
              "    </tr>\n",
              "    <tr>\n",
              "      <th rowspan=\"2\" valign=\"top\">MIDWEST AREA</th>\n",
              "      <th>Alto</th>\n",
              "      <td>11656.333537</td>\n",
              "    </tr>\n",
              "    <tr>\n",
              "      <th>Bajo</th>\n",
              "      <td>3378.435673</td>\n",
              "    </tr>\n",
              "    <tr>\n",
              "      <th rowspan=\"2\" valign=\"top\">NEW ENGLAND AREA</th>\n",
              "      <th>Alto</th>\n",
              "      <td>9935.876198</td>\n",
              "    </tr>\n",
              "    <tr>\n",
              "      <th>Bajo</th>\n",
              "      <td>3384.274809</td>\n",
              "    </tr>\n",
              "    <tr>\n",
              "      <th rowspan=\"2\" valign=\"top\">NEW YORK CITY AREA</th>\n",
              "      <th>Alto</th>\n",
              "      <td>12424.576312</td>\n",
              "    </tr>\n",
              "    <tr>\n",
              "      <th>Bajo</th>\n",
              "      <td>4231.835664</td>\n",
              "    </tr>\n",
              "    <tr>\n",
              "      <th rowspan=\"2\" valign=\"top\">NORTH FLORIDA AREA</th>\n",
              "      <th>Alto</th>\n",
              "      <td>9556.276018</td>\n",
              "    </tr>\n",
              "    <tr>\n",
              "      <th>Bajo</th>\n",
              "      <td>3418.746606</td>\n",
              "    </tr>\n",
              "    <tr>\n",
              "      <th rowspan=\"2\" valign=\"top\">NORTHWEST-ROCKY MOUNTAIN AREA</th>\n",
              "      <th>Alto</th>\n",
              "      <td>12433.277767</td>\n",
              "    </tr>\n",
              "    <tr>\n",
              "      <th>Bajo</th>\n",
              "      <td>2999.635514</td>\n",
              "    </tr>\n",
              "    <tr>\n",
              "      <th rowspan=\"2\" valign=\"top\">OHIO AREA</th>\n",
              "      <th>Alto</th>\n",
              "      <td>10047.156423</td>\n",
              "    </tr>\n",
              "    <tr>\n",
              "      <th>Bajo</th>\n",
              "      <td>3337.463303</td>\n",
              "    </tr>\n",
              "    <tr>\n",
              "      <th rowspan=\"2\" valign=\"top\">PHILADELPHIA AREA</th>\n",
              "      <th>Alto</th>\n",
              "      <td>10962.949539</td>\n",
              "    </tr>\n",
              "    <tr>\n",
              "      <th>Bajo</th>\n",
              "      <td>3113.770492</td>\n",
              "    </tr>\n",
              "    <tr>\n",
              "      <th rowspan=\"2\" valign=\"top\">SOUTH FLORIDA AREA</th>\n",
              "      <th>Alto</th>\n",
              "      <td>14445.641840</td>\n",
              "    </tr>\n",
              "    <tr>\n",
              "      <th>Bajo</th>\n",
              "      <td>4168.125683</td>\n",
              "    </tr>\n",
              "    <tr>\n",
              "      <th rowspan=\"2\" valign=\"top\">SOUTHWEST AREA</th>\n",
              "      <th>Alto</th>\n",
              "      <td>12293.684977</td>\n",
              "    </tr>\n",
              "    <tr>\n",
              "      <th>Bajo</th>\n",
              "      <td>3425.452055</td>\n",
              "    </tr>\n",
              "    <tr>\n",
              "      <th rowspan=\"2\" valign=\"top\">TENNESSEE AREA</th>\n",
              "      <th>Alto</th>\n",
              "      <td>12103.077960</td>\n",
              "    </tr>\n",
              "    <tr>\n",
              "      <th>Bajo</th>\n",
              "      <td>3643.611940</td>\n",
              "    </tr>\n",
              "  </tbody>\n",
              "</table>\n",
              "</div>"
            ],
            "text/plain": [
              "                                                  totmou\n",
              "area                          Nivel_totrev              \n",
              "ATLANTIC SOUTH AREA           Alto          10287.102128\n",
              "                              Bajo           3421.959459\n",
              "CALIFORNIA NORTH AREA         Alto          11937.216156\n",
              "                              Bajo           3177.665552\n",
              "CENTRAL-SOUTH TEXAS AREA      Alto          14306.189935\n",
              "                              Bajo           4420.431373\n",
              "CHICAGO AREA                  Alto           9733.863737\n",
              "                              Bajo           3346.189516\n",
              "DALLAS AREA                   Alto          14388.723140\n",
              "                              Bajo           4110.544402\n",
              "DC-MARYLAND-VIRGINIA AREA     Alto           9822.787500\n",
              "                              Bajo           3574.912500\n",
              "GREAT LAKES AREA              Alto          11343.180328\n",
              "                              Bajo           3677.053279\n",
              "HOUSTON AREA                  Alto          14512.521339\n",
              "                              Bajo           4278.943231\n",
              "LOS ANGELES AREA              Alto          11593.681548\n",
              "                              Bajo           3461.391045\n",
              "MIDWEST AREA                  Alto          11656.333537\n",
              "                              Bajo           3378.435673\n",
              "NEW ENGLAND AREA              Alto           9935.876198\n",
              "                              Bajo           3384.274809\n",
              "NEW YORK CITY AREA            Alto          12424.576312\n",
              "                              Bajo           4231.835664\n",
              "NORTH FLORIDA AREA            Alto           9556.276018\n",
              "                              Bajo           3418.746606\n",
              "NORTHWEST-ROCKY MOUNTAIN AREA Alto          12433.277767\n",
              "                              Bajo           2999.635514\n",
              "OHIO AREA                     Alto          10047.156423\n",
              "                              Bajo           3337.463303\n",
              "PHILADELPHIA AREA             Alto          10962.949539\n",
              "                              Bajo           3113.770492\n",
              "SOUTH FLORIDA AREA            Alto          14445.641840\n",
              "                              Bajo           4168.125683\n",
              "SOUTHWEST AREA                Alto          12293.684977\n",
              "                              Bajo           3425.452055\n",
              "TENNESSEE AREA                Alto          12103.077960\n",
              "                              Bajo           3643.611940"
            ]
          },
          "execution_count": 42,
          "metadata": {},
          "output_type": "execute_result"
        }
      ],
      "source": [
        "df_con_etiquetas.groupby(['area','Nivel_totrev'])[['totmou']].mean()"
      ]
    },
    {
      "cell_type": "markdown",
      "metadata": {
        "id": "_ysIwd6h0BXP"
      },
      "source": [
        "### Ejercicio 4\n",
        "\n",
        "\n",
        "Escriba el código para categorizar  el total de ingresos  baja, media y alta volatilidad, donde:\n",
        "\n",
        "`\n",
        "si totrev > (percentil 75 de totrev para el área dada):\n",
        "Nivel_totrev = 'Alto'\n",
        "o si VolStat > (percentil 25 de totrev para el área dada):\n",
        "Nivel_totrev  = 'Medio'\n",
        "de lo contrario:\n",
        "Nivel_totrev  = 'Bajo'`"
      ]
    },
    {
      "cell_type": "code",
      "execution_count": null,
      "metadata": {
        "id": "tPARJ2M50BXP"
      },
      "outputs": [],
      "source": [
        "# realice el ejercicio en este espacio"
      ]
    },
    {
      "cell_type": "markdown",
      "metadata": {
        "id": "Ndjs7FmF0BXP"
      },
      "source": [
        "### Visualización de total de llamadas y total de ingresos\n",
        "\n",
        "Ya hemos respondido satisfactoriamente a nuestra pregunta original. Sin embargo, no es necesario solamente\n",
        "analizar los datos en formato tabular. Python contiene una funcionalidad que le permite analizar sus datos\n",
        "visualmente también.\n",
        "\n",
        "Usaremos la funcionalidad de pandas sobre la librería estándar de graficación de Python, `matplotlib`. Vamos\n",
        "a importar la librería e instruir a Jupyter que muestre los gráficos en línea (es decir, mostrar los gráficos en\n",
        "la pantalla del cuaderno para que podamos verlos mientras ejecutamos el código):\n",
        "\n"
      ]
    },
    {
      "cell_type": "code",
      "execution_count": null,
      "metadata": {
        "scrolled": true,
        "id": "4Bs-y42a0BXP",
        "outputId": "59bbfcbb-58d7-485e-8325-b4ad5254b0f9"
      },
      "outputs": [
        {
          "name": "stdout",
          "output_type": "stream",
          "text": [
            "['Data_Frame', 'In', 'Out', 'Serie1', '_', '_10', '_11', '_13', '_14', '_15', '_16', '_17', '_18', '_19', '_20', '_21', '_22', '_23', '_24', '_26', '_27', '_28', '_29', '_3', '_30', '_31', '_32', '_33', '_36', '_4', '_40', '_41', '_42', '_5', '_6', '_8', '_9', '__', '___', '__builtin__', '__builtins__', '__doc__', '__loader__', '__name__', '__package__', '__spec__', '_dh', '_exit_code', '_i', '_i1', '_i10', '_i11', '_i12', '_i13', '_i14', '_i15', '_i16', '_i17', '_i18', '_i19', '_i2', '_i20', '_i21', '_i22', '_i23', '_i24', '_i25', '_i26', '_i27', '_i28', '_i29', '_i3', '_i30', '_i31', '_i32', '_i33', '_i34', '_i35', '_i36', '_i37', '_i38', '_i39', '_i4', '_i40', '_i41', '_i42', '_i43', '_i44', '_i5', '_i6', '_i7', '_i8', '_i9', '_ih', '_ii', '_iii', '_oh', 'agr_df', 'areas', 'df', 'df3', 'df_con_etiquetas', 'df_relevante', 'exit', 'get_ipython', 'group_df', 'group_df1', 'i', 'item', 'lista_de_df', 'lista_df', 'new_ingland', 'np', 'os', 'pd', 'pencentiles50', 'perdidos', 'plt', 'promedio', 'quit', 'sin_registros', 'temp_df', 'umbral_punto']\n"
          ]
        }
      ],
      "source": [
        "modules = dir()\n",
        "print(modules)"
      ]
    },
    {
      "cell_type": "code",
      "execution_count": null,
      "metadata": {
        "id": "lw7hcXBG0BXQ"
      },
      "outputs": [],
      "source": [
        "import matplotlib.pyplot as plt\n",
        "# Graficar en el cuaderno\n",
        "%matplotlib inline"
      ]
    },
    {
      "cell_type": "markdown",
      "metadata": {
        "id": "xBTla6wW0BXQ"
      },
      "source": [
        "#### Histograma"
      ]
    },
    {
      "cell_type": "code",
      "execution_count": null,
      "metadata": {
        "scrolled": false,
        "id": "XnukOtGv0BXQ",
        "outputId": "7962d9af-7997-4d4d-ac8e-cfe46e0eff8e"
      },
      "outputs": [
        {
          "data": {
            "image/png": "[encoded data removed]",
            "text/plain": [
              "<Figure size 432x288 with 1 Axes>"
            ]
          },
          "metadata": {},
          "output_type": "display_data"
        }
      ],
      "source": [
        "plt.style.use('ggplot')\n",
        "plt.hist(df3[\"totrev\"],bins=13,color=\"#237AAF\")\n",
        "plt.title('Histograma de variable totrev')\n",
        "plt.xlabel(\"totrev\");plt.ylabel(\"Frecuencia\")\n",
        "plt.show()"
      ]
    },
    {
      "cell_type": "code",
      "execution_count": null,
      "metadata": {
        "id": "5tlIq4sa0BXQ",
        "outputId": "02072457-53d7-4f43-91f3-9667439ae03d"
      },
      "outputs": [
        {
          "name": "stdout",
          "output_type": "stream",
          "text": [
            "['Solarize_Light2', '_classic_test_patch', 'bmh', 'classic', 'dark_background', 'fast', 'fivethirtyeight', 'ggplot', 'grayscale', 'seaborn', 'seaborn-bright', 'seaborn-colorblind', 'seaborn-dark', 'seaborn-dark-palette', 'seaborn-darkgrid', 'seaborn-deep', 'seaborn-muted', 'seaborn-notebook', 'seaborn-paper', 'seaborn-pastel', 'seaborn-poster', 'seaborn-talk', 'seaborn-ticks', 'seaborn-white', 'seaborn-whitegrid', 'tableau-colorblind10']\n"
          ]
        }
      ],
      "source": [
        "print(plt.style.available)"
      ]
    },
    {
      "cell_type": "markdown",
      "metadata": {
        "id": "KOTkYq_d0BXR"
      },
      "source": [
        "#### Boxplot"
      ]
    },
    {
      "cell_type": "code",
      "execution_count": null,
      "metadata": {
        "scrolled": true,
        "id": "kRLYvf0H0BXR",
        "outputId": "30e5908c-3b02-4b2d-9e3d-057e9623e1af"
      },
      "outputs": [
        {
          "data": {
            "image/png": "[encoded data removed]",
            "text/plain": [
              "<Figure size 432x288 with 1 Axes>"
            ]
          },
          "metadata": {},
          "output_type": "display_data"
        }
      ],
      "source": [
        "plt.style.use('ggplot')\n",
        "plt.boxplot(df3[\"totrev\"])\n",
        "plt.title('Boxplot de variable totrev')\n",
        "plt.show()"
      ]
    },
    {
      "cell_type": "markdown",
      "metadata": {
        "id": "PH2JdOp10BXR"
      },
      "source": [
        "#### Gráficas a partir de `groupby`"
      ]
    },
    {
      "cell_type": "code",
      "execution_count": null,
      "metadata": {
        "scrolled": true,
        "id": "JC55gWLw0BXR",
        "outputId": "e3683153-f044-4d98-aa6f-807fce76194f"
      },
      "outputs": [
        {
          "data": {
            "image/png": "[encoded data removed]",
            "text/plain": [
              "<Figure size 720x576 with 1 Axes>"
            ]
          },
          "metadata": {},
          "output_type": "display_data"
        }
      ],
      "source": [
        "df4=df_con_etiquetas.groupby(['area','Nivel_totrev'])[['totmou']].mean()\n",
        "df4.plot(kind='barh',figsize=(10,8))\n",
        "plt.show()"
      ]
    },
    {
      "cell_type": "markdown",
      "metadata": {
        "id": "8Xu9ijDH0BXS"
      },
      "source": [
        "#### Gráficas de `pandas`  "
      ]
    },
    {
      "cell_type": "markdown",
      "metadata": {
        "id": "zLdYkPHJ0BXS"
      },
      "source": [
        "El modulo`.plot()` genera por defecto una gráfica de línea, existen varios gráficos para los `DataFrameGroup`\n",
        "\n",
        "    - 'line' : Gráfica de línea\n",
        "    - 'bar' :  Diagrama de barras vertical\n",
        "    - 'barh' : Diagrama de barras horizontal\n",
        "    - 'hist' : histograma\n",
        "    - 'box' : boxplot\n",
        "    - 'kde' : Kernel de densidad\n",
        "    - 'area' : Gráfica de área\n",
        "    - 'pie' : Diagrama de torta\n",
        "    - 'scatter' : Diagrama de dispersión\n",
        "    - 'hexbin' : Diagrama de hexágonos"
      ]
    },
    {
      "cell_type": "code",
      "execution_count": null,
      "metadata": {
        "id": "4eEnsm1i0BXS",
        "outputId": "117598fb-a9a0-426a-84aa-20cdcaa2febc"
      },
      "outputs": [
        {
          "data": {
            "text/plain": [
              "Index(['totmou', 'totrev', 'creditcd_x', 'eqpdays', 'custcare_Mean',\n",
              "       'new_cell', 'area', 'creditcd_y'],\n",
              "      dtype='object')"
            ]
          },
          "execution_count": 50,
          "metadata": {},
          "output_type": "execute_result"
        }
      ],
      "source": [
        "df3.columns"
      ]
    },
    {
      "cell_type": "code",
      "execution_count": null,
      "metadata": {
        "scrolled": true,
        "id": "AO5Bb8zI0BXS",
        "outputId": "d8912354-0f2e-4195-bc8b-48c2c24e22a8"
      },
      "outputs": [
        {
          "data": {
            "image/png": "[encoded data removed]",
            "text/plain": [
              "<Figure size 432x288 with 1 Axes>"
            ]
          },
          "metadata": {},
          "output_type": "display_data"
        }
      ],
      "source": [
        "df3[\"creditcd_x\"].value_counts().plot(kind=\"pie\")\n",
        "plt.show()"
      ]
    },
    {
      "cell_type": "markdown",
      "metadata": {
        "id": "8y_WES0G0BXT"
      },
      "source": [
        "Revisando la relación entre las dos variables `totrev` y `totmou`"
      ]
    },
    {
      "cell_type": "code",
      "execution_count": null,
      "metadata": {
        "id": "D5wsj3Et0BXT",
        "outputId": "189ed9af-54e8-4245-e134-87d10020da5d"
      },
      "outputs": [
        {
          "data": {
            "text/plain": [
              "<AxesSubplot:xlabel='totrev', ylabel='totmou'>"
            ]
          },
          "execution_count": 52,
          "metadata": {},
          "output_type": "execute_result"
        },
        {
          "data": {
            "image/png": "[encoded data removed]",
            "text/plain": [
              "<Figure size 432x288 with 1 Axes>"
            ]
          },
          "metadata": {},
          "output_type": "display_data"
        }
      ],
      "source": [
        "df3.plot(kind=\"scatter\",x='totrev',y='totmou',c='blue')"
      ]
    },
    {
      "cell_type": "markdown",
      "metadata": {
        "id": "JO9lg-5e0BXT"
      },
      "source": [
        "### `Seaborn`"
      ]
    },
    {
      "cell_type": "code",
      "execution_count": null,
      "metadata": {
        "scrolled": true,
        "id": "Ui5NZFDa0BXT",
        "outputId": "fa02645e-31a2-41b9-b1b2-dbaf8d020229"
      },
      "outputs": [
        {
          "data": {
            "image/png": "[encoded data removed]",
            "text/plain": [
              "<Figure size 432x288 with 1 Axes>"
            ]
          },
          "metadata": {},
          "output_type": "display_data"
        }
      ],
      "source": [
        "import seaborn as sns\n",
        "sns.boxplot(df3[\"totrev\"],orient='v')\n",
        "plt.title('Boxplot de variable totrev')\n",
        "plt.show()"
      ]
    },
    {
      "cell_type": "markdown",
      "metadata": {
        "id": "Bj3xV2-w0BXU"
      },
      "source": [
        "### Gráficas de parcela"
      ]
    },
    {
      "cell_type": "code",
      "execution_count": null,
      "metadata": {
        "id": "ynog7QYl0BXU",
        "outputId": "c06f20b6-93d2-41d6-ae48-cda30e26592f"
      },
      "outputs": [
        {
          "data": {
            "text/html": [
              "<div>\n",
              "<style scoped>\n",
              "    .dataframe tbody tr th:only-of-type {\n",
              "        vertical-align: middle;\n",
              "    }\n",
              "\n",
              "    .dataframe tbody tr th {\n",
              "        vertical-align: top;\n",
              "    }\n",
              "\n",
              "    .dataframe thead th {\n",
              "        text-align: right;\n",
              "    }\n",
              "</style>\n",
              "<table border=\"1\" class=\"dataframe\">\n",
              "  <thead>\n",
              "    <tr style=\"text-align: right;\">\n",
              "      <th></th>\n",
              "      <th>totmou</th>\n",
              "      <th>totrev</th>\n",
              "      <th>creditcd_x</th>\n",
              "      <th>eqpdays</th>\n",
              "      <th>custcare_Mean</th>\n",
              "      <th>new_cell</th>\n",
              "      <th>area</th>\n",
              "      <th>creditcd_y</th>\n",
              "    </tr>\n",
              "    <tr>\n",
              "      <th>Customer_ID</th>\n",
              "      <th></th>\n",
              "      <th></th>\n",
              "      <th></th>\n",
              "      <th></th>\n",
              "      <th></th>\n",
              "      <th></th>\n",
              "      <th></th>\n",
              "      <th></th>\n",
              "    </tr>\n",
              "  </thead>\n",
              "  <tbody>\n",
              "    <tr>\n",
              "      <th>1082423</th>\n",
              "      <td>7269.0</td>\n",
              "      <td>906.58</td>\n",
              "      <td>Y</td>\n",
              "      <td>371</td>\n",
              "      <td>14.333333</td>\n",
              "      <td>U</td>\n",
              "      <td>NEW ENGLAND AREA</td>\n",
              "      <td>Y</td>\n",
              "    </tr>\n",
              "    <tr>\n",
              "      <th>1069232</th>\n",
              "      <td>13552.0</td>\n",
              "      <td>1172.25</td>\n",
              "      <td>N</td>\n",
              "      <td>83</td>\n",
              "      <td>3.666667</td>\n",
              "      <td>U</td>\n",
              "      <td>ATLANTIC SOUTH AREA</td>\n",
              "      <td>N</td>\n",
              "    </tr>\n",
              "    <tr>\n",
              "      <th>1031705</th>\n",
              "      <td>4152.0</td>\n",
              "      <td>577.39</td>\n",
              "      <td>Y</td>\n",
              "      <td>675</td>\n",
              "      <td>3.000000</td>\n",
              "      <td>U</td>\n",
              "      <td>NEW YORK CITY AREA</td>\n",
              "      <td>Y</td>\n",
              "    </tr>\n",
              "    <tr>\n",
              "      <th>1089806</th>\n",
              "      <td>1863.0</td>\n",
              "      <td>294.26</td>\n",
              "      <td>Y</td>\n",
              "      <td>218</td>\n",
              "      <td>11.000000</td>\n",
              "      <td>U</td>\n",
              "      <td>CHICAGO AREA</td>\n",
              "      <td>Y</td>\n",
              "    </tr>\n",
              "    <tr>\n",
              "      <th>1076695</th>\n",
              "      <td>4155.0</td>\n",
              "      <td>433.16</td>\n",
              "      <td>N</td>\n",
              "      <td>222</td>\n",
              "      <td>0.000000</td>\n",
              "      <td>U</td>\n",
              "      <td>NORTH FLORIDA AREA</td>\n",
              "      <td>N</td>\n",
              "    </tr>\n",
              "    <tr>\n",
              "      <th>...</th>\n",
              "      <td>...</td>\n",
              "      <td>...</td>\n",
              "      <td>...</td>\n",
              "      <td>...</td>\n",
              "      <td>...</td>\n",
              "      <td>...</td>\n",
              "      <td>...</td>\n",
              "      <td>...</td>\n",
              "    </tr>\n",
              "    <tr>\n",
              "      <th>1027614</th>\n",
              "      <td>2570.0</td>\n",
              "      <td>484.31</td>\n",
              "      <td>Y</td>\n",
              "      <td>611</td>\n",
              "      <td>0.666667</td>\n",
              "      <td>U</td>\n",
              "      <td>CHICAGO AREA</td>\n",
              "      <td>Y</td>\n",
              "    </tr>\n",
              "    <tr>\n",
              "      <th>1098422</th>\n",
              "      <td>2105.0</td>\n",
              "      <td>583.36</td>\n",
              "      <td>Y</td>\n",
              "      <td>1243</td>\n",
              "      <td>0.000000</td>\n",
              "      <td>U</td>\n",
              "      <td>SOUTHWEST AREA</td>\n",
              "      <td>Y</td>\n",
              "    </tr>\n",
              "    <tr>\n",
              "      <th>1096497</th>\n",
              "      <td>3690.0</td>\n",
              "      <td>294.29</td>\n",
              "      <td>Y</td>\n",
              "      <td>212</td>\n",
              "      <td>0.666667</td>\n",
              "      <td>Y</td>\n",
              "      <td>NEW ENGLAND AREA</td>\n",
              "      <td>Y</td>\n",
              "    </tr>\n",
              "    <tr>\n",
              "      <th>1087248</th>\n",
              "      <td>3333.0</td>\n",
              "      <td>233.08</td>\n",
              "      <td>Y</td>\n",
              "      <td>290</td>\n",
              "      <td>0.000000</td>\n",
              "      <td>U</td>\n",
              "      <td>CALIFORNIA NORTH AREA</td>\n",
              "      <td>Y</td>\n",
              "    </tr>\n",
              "    <tr>\n",
              "      <th>1099003</th>\n",
              "      <td>5025.0</td>\n",
              "      <td>1436.49</td>\n",
              "      <td>Y</td>\n",
              "      <td>1029</td>\n",
              "      <td>0.333333</td>\n",
              "      <td>U</td>\n",
              "      <td>LOS ANGELES AREA</td>\n",
              "      <td>Y</td>\n",
              "    </tr>\n",
              "  </tbody>\n",
              "</table>\n",
              "<p>9997 rows × 8 columns</p>\n",
              "</div>"
            ],
            "text/plain": [
              "              totmou   totrev creditcd_x  eqpdays  custcare_Mean new_cell  \\\n",
              "Customer_ID                                                                 \n",
              "1082423       7269.0   906.58          Y      371      14.333333        U   \n",
              "1069232      13552.0  1172.25          N       83       3.666667        U   \n",
              "1031705       4152.0   577.39          Y      675       3.000000        U   \n",
              "1089806       1863.0   294.26          Y      218      11.000000        U   \n",
              "1076695       4155.0   433.16          N      222       0.000000        U   \n",
              "...              ...      ...        ...      ...            ...      ...   \n",
              "1027614       2570.0   484.31          Y      611       0.666667        U   \n",
              "1098422       2105.0   583.36          Y     1243       0.000000        U   \n",
              "1096497       3690.0   294.29          Y      212       0.666667        Y   \n",
              "1087248       3333.0   233.08          Y      290       0.000000        U   \n",
              "1099003       5025.0  1436.49          Y     1029       0.333333        U   \n",
              "\n",
              "                              area creditcd_y  \n",
              "Customer_ID                                    \n",
              "1082423           NEW ENGLAND AREA          Y  \n",
              "1069232        ATLANTIC SOUTH AREA          N  \n",
              "1031705         NEW YORK CITY AREA          Y  \n",
              "1089806               CHICAGO AREA          Y  \n",
              "1076695         NORTH FLORIDA AREA          N  \n",
              "...                            ...        ...  \n",
              "1027614               CHICAGO AREA          Y  \n",
              "1098422             SOUTHWEST AREA          Y  \n",
              "1096497           NEW ENGLAND AREA          Y  \n",
              "1087248      CALIFORNIA NORTH AREA          Y  \n",
              "1099003           LOS ANGELES AREA          Y  \n",
              "\n",
              "[9997 rows x 8 columns]"
            ]
          },
          "execution_count": 54,
          "metadata": {},
          "output_type": "execute_result"
        }
      ],
      "source": [
        "df3"
      ]
    },
    {
      "cell_type": "code",
      "execution_count": null,
      "metadata": {
        "scrolled": true,
        "id": "ftvNGoh90BXU",
        "outputId": "e551869c-bd91-4435-f5d0-2adfdbd79cdb"
      },
      "outputs": [
        {
          "data": {
            "text/plain": [
              "<Figure size 8352x288 with 0 Axes>"
            ]
          },
          "metadata": {},
          "output_type": "display_data"
        },
        {
          "data": {
            "image/png": "[encoded data removed]",
            "text/plain": [
              "<Figure size 599.375x540 with 12 Axes>"
            ]
          },
          "metadata": {},
          "output_type": "display_data"
        }
      ],
      "source": [
        "plt.figure(figsize=(116,4))\n",
        "sns.pairplot(data=df3, hue='creditcd_x', vars=['totrev','totmou','eqpdays'])\n",
        "plt.title(\"Parcelas\")\n",
        "plt.show()"
      ]
    },
    {
      "cell_type": "code",
      "execution_count": null,
      "metadata": {
        "scrolled": true,
        "id": "cY-m5tFw0BXU",
        "outputId": "29db7149-9a97-41b3-b8a8-d1c62ea5bd3e"
      },
      "outputs": [
        {
          "data": {
            "image/png": "[encoded data removed]",
            "text/plain": [
              "<Figure size 432x288 with 1 Axes>"
            ]
          },
          "metadata": {},
          "output_type": "display_data"
        }
      ],
      "source": [
        "plt.figure(figsize=(6,4))\n",
        "sns.boxplot(x='Nivel_totrev',y='totmou',data=df_con_etiquetas)\n",
        "plt.title('Boxplot múltiple para Nivel de ingresos totales y \\n total de minutos gastados')\n",
        "plt.show()"
      ]
    },
    {
      "cell_type": "code",
      "execution_count": null,
      "metadata": {
        "scrolled": true,
        "id": "ztnW88c10BXV",
        "outputId": "84cbb525-fac6-47fc-99b7-be27af1f3f89"
      },
      "outputs": [
        {
          "data": {
            "text/plain": [
              "<seaborn.axisgrid.FacetGrid at 0x1a6f2714588>"
            ]
          },
          "execution_count": 57,
          "metadata": {},
          "output_type": "execute_result"
        },
        {
          "data": {
            "image/png": "[encoded data removed]",
            "text/plain": [
              "<Figure size 1152x288 with 1 Axes>"
            ]
          },
          "metadata": {},
          "output_type": "display_data"
        },
        {
          "data": {
            "image/png": "[encoded data removed]",
            "text/plain": [
              "<Figure size 1152x288 with 1 Axes>"
            ]
          },
          "metadata": {},
          "output_type": "display_data"
        }
      ],
      "source": [
        "sns.catplot(y=\"totmou\", x=\"Nivel_totrev\", kind=\"box\",    data=df_con_etiquetas, height=4, aspect=4, palette='Set2')\n",
        "sns.catplot(y=\"totmou\", x=\"Nivel_totrev\", kind=\"violin\", data=df_con_etiquetas, height=4, aspect=4, palette='Set2')"
      ]
    },
    {
      "cell_type": "code",
      "execution_count": null,
      "metadata": {
        "id": "AUu4oDbG0BXV",
        "outputId": "71f9eb97-90a3-40f3-9918-189ab9046414"
      },
      "outputs": [
        {
          "data": {
            "image/png": "[encoded data removed]",
            "text/plain": [
              "<Figure size 779.375x360 with 1 Axes>"
            ]
          },
          "metadata": {},
          "output_type": "display_data"
        },
        {
          "data": {
            "image/png": "[encoded data removed]",
            "text/plain": [
              "<Figure size 720x360 with 2 Axes>"
            ]
          },
          "metadata": {},
          "output_type": "display_data"
        }
      ],
      "source": [
        "ax = sns.catplot(y=\"totmou\", x=\"Nivel_totrev\", hue='creditcd_x', kind='point',data=df_con_etiquetas, aspect=2)\n",
        "ax = sns.catplot(x=\"Nivel_totrev\", kind='count',data=df_con_etiquetas, col='creditcd_x')"
      ]
    },
    {
      "cell_type": "markdown",
      "metadata": {
        "id": "k_jW92Id0BXV"
      },
      "source": [
        "### Ejercicio 5\n",
        "\n",
        "Realice un  boxplot para la variable totmou segmentado por las variable  credict_x y Nivel_totrev"
      ]
    },
    {
      "cell_type": "code",
      "execution_count": null,
      "metadata": {
        "id": "a3Qd85k40BXV"
      },
      "outputs": [],
      "source": [
        "# realice el ejercicio en este espacio"
      ]
    },
    {
      "cell_type": "markdown",
      "metadata": {
        "id": "enGsAW8y0BXW"
      },
      "source": [
        "## Resumen\n",
        "\n",
        "\n",
        "1. Leer datos desde archivos.\n",
        "2. Agregar y manipular datos .\n",
        "3. Analizar estadísticas de resumen y reunir información.\n",
        "4. Usar matplotlib para crear gráficos para hacer análisis visual, además de otras librerías.\n",
        "\n",
        "Para más información\n",
        "\n",
        "> [https://pandas.pydata.org/pandas-docs/stable/getting_started/index.html](https://pandas.pydata.org/pandas-docs/stable/getting_started/index.html)"
      ]
    }
  ],
  "metadata": {
    "kernelspec": {
      "display_name": "Python 3",
      "language": "python",
      "name": "python3"
    },
    "language_info": {
      "codemirror_mode": {
        "name": "ipython",
        "version": 3
      },
      "file_extension": ".py",
      "mimetype": "text/x-python",
      "name": "python",
      "nbconvert_exporter": "python",
      "pygments_lexer": "ipython3",
      "version": "3.8.5"
    },
    "latex_envs": {
      "LaTeX_envs_menu_present": true,
      "autoclose": false,
      "autocomplete": true,
      "bibliofile": "biblio.bib",
      "cite_by": "apalike",
      "current_citInitial": 1,
      "eqLabelWithNumbers": true,
      "eqNumInitial": 1,
      "hotkeys": {
        "equation": "Ctrl-E",
        "itemize": "Ctrl-I"
      },
      "labels_anchors": false,
      "latex_user_defs": false,
      "report_style_numbering": false,
      "user_envs_cfg": false
    },
    "toc": {
      "base_numbering": 1,
      "nav_menu": {},
      "number_sections": false,
      "sideBar": true,
      "skip_h1_title": false,
      "title_cell": "Table of Contents",
      "title_sidebar": "Contents",
      "toc_cell": false,
      "toc_position": {
        "height": "calc(100% - 180px)",
        "left": "10px",
        "top": "150px",
        "width": "165px"
      },
      "toc_section_display": true,
      "toc_window_display": true
    },
    "colab": {
      "provenance": [],
      "include_colab_link": true
    }
  },
  "nbformat": 4,
  "nbformat_minor": 0
}