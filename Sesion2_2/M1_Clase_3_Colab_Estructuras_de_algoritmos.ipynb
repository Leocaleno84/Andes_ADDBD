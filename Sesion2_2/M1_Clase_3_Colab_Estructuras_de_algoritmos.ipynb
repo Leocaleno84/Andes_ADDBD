{
  "cells": [
    {
      "cell_type": "markdown",
      "metadata": {
        "id": "view-in-github",
        "colab_type": "text"
      },
      "source": [
        "<a href=\"https://colab.research.google.com/github/jazaineam1/Andes_ADDBD/blob/main/Sesion2_2/M1_Clase_3_Colab_Estructuras_de_algoritmos.ipynb\" target=\"_parent\"><img src=\"https://colab.research.google.com/assets/colab-badge.svg\" alt=\"Open In Colab\"/></a>"
      ]
    },
    {
      "cell_type": "markdown",
      "id": "94a17bba",
      "metadata": {
        "id": "94a17bba"
      },
      "source": [
        "# Vamos a empezar a jugar con la estructura de un algoritmo\n",
        "Para esto vamos a usar algunas librerías pero son solo para decorar.\n",
        "\n",
        "De resto todo es propio de Python."
      ]
    },
    {
      "cell_type": "markdown",
      "id": "d1444a87",
      "metadata": {
        "id": "d1444a87"
      },
      "source": [
        "# Librerías"
      ]
    },
    {
      "cell_type": "code",
      "execution_count": null,
      "id": "9a0dfc12",
      "metadata": {
        "id": "9a0dfc12"
      },
      "outputs": [],
      "source": [
        "from numpy import random"
      ]
    },
    {
      "cell_type": "markdown",
      "id": "fa8a77da",
      "metadata": {
        "id": "fa8a77da"
      },
      "source": [
        "# Loops"
      ]
    },
    {
      "cell_type": "markdown",
      "id": "b0e0ea38",
      "metadata": {
        "id": "b0e0ea38"
      },
      "source": [
        "## While Loop"
      ]
    },
    {
      "cell_type": "code",
      "execution_count": null,
      "id": "53faa7d1",
      "metadata": {
        "id": "53faa7d1"
      },
      "outputs": [],
      "source": [
        "x = 0\n",
        "while x < 100:\n",
        "    print(x)\n",
        "    x = x + random.randint(1, 20)"
      ]
    },
    {
      "cell_type": "code",
      "execution_count": null,
      "id": "a8983489",
      "metadata": {
        "id": "a8983489"
      },
      "outputs": [],
      "source": [
        "# Creemos un loop donde agregemos elementos a una lista de mercado hasta que agregemos la palabra fin.\n",
        "# Usemos la función input()\n"
      ]
    },
    {
      "cell_type": "markdown",
      "id": "3fd59842",
      "metadata": {
        "id": "3fd59842"
      },
      "source": [
        "## For Loops"
      ]
    },
    {
      "cell_type": "markdown",
      "id": "883e0c3f",
      "metadata": {
        "id": "883e0c3f"
      },
      "source": [
        "Vamos a jugar con los for loops, cambiemos los tipos de variables para imprimir cada elemento.\\\n",
        "Afecta en algo?"
      ]
    },
    {
      "cell_type": "code",
      "execution_count": null,
      "id": "06c043bb",
      "metadata": {
        "id": "06c043bb"
      },
      "outputs": [],
      "source": [
        "ej_lista = [\"Me\", \"gusta\", \"el\", \"chocolate\", \"y\", \"el\", \"arequipe\"]\n",
        "ej_tupla = (\"Carro\", \"Casa\", \"Colegio\", \"Computador\", \"Coma\", \"Caro\", \"Cara\")\n",
        "ej_string = \"Vamos a ver una película el viernes\"\n",
        "ej_set = {1,2,3,4,5,6,7}"
      ]
    },
    {
      "cell_type": "code",
      "execution_count": null,
      "id": "d6b9c727",
      "metadata": {
        "id": "d6b9c727"
      },
      "outputs": [],
      "source": [
        "for elem in _______:\n",
        "    print(elem)"
      ]
    },
    {
      "cell_type": "markdown",
      "id": "4298ce99",
      "metadata": {
        "id": "4298ce99"
      },
      "source": [
        "Primero contruimos el diccionario"
      ]
    },
    {
      "cell_type": "code",
      "execution_count": null,
      "id": "3eb6bf0b",
      "metadata": {
        "id": "3eb6bf0b"
      },
      "outputs": [],
      "source": [
        "diccionario_prueba = {\"Elden ring\" : \"FromSoftware\",\n",
        "                     \"Read Dead Redemption 2\" : \"Rockstar Games\",\n",
        "                     \"Zelda BOTW\" : \"Nintendo\",\n",
        "                     \"God of War\" : \"Play Station\",\n",
        "                     \"Portal\" : \"Valve\"}"
      ]
    },
    {
      "cell_type": "code",
      "execution_count": null,
      "id": "e8a4f99c",
      "metadata": {
        "colab": {
          "base_uri": "https://localhost:8080/"
        },
        "id": "e8a4f99c",
        "outputId": "e4e93364-1792-44f6-e074-f5846b546d86"
      },
      "outputs": [
        {
          "output_type": "stream",
          "name": "stdout",
          "text": [
            "Elden ring\n",
            "Read Dead Redemption 2\n",
            "Zelda BOTW\n",
            "God of War\n",
            "Portal\n"
          ]
        }
      ],
      "source": [
        "for x in diccionario_prueba:\n",
        "    print(x)"
      ]
    },
    {
      "cell_type": "code",
      "execution_count": null,
      "id": "310bd33f",
      "metadata": {
        "id": "310bd33f"
      },
      "outputs": [],
      "source": [
        "for x in diccionario_prueba:\n",
        "    print(x + \" - \" + diccionario_prueba[x])"
      ]
    },
    {
      "cell_type": "code",
      "execution_count": null,
      "id": "56ba7407",
      "metadata": {
        "id": "56ba7407"
      },
      "outputs": [],
      "source": [
        "for x in diccionario_prueba.items():\n",
        "    print(x)"
      ]
    },
    {
      "cell_type": "code",
      "execution_count": null,
      "id": "83922b93",
      "metadata": {
        "id": "83922b93"
      },
      "outputs": [],
      "source": [
        "for x, y in diccionario_prueba.items():\n",
        "    print(x)\n",
        "    print(y)"
      ]
    },
    {
      "cell_type": "code",
      "execution_count": null,
      "id": "083fde6b",
      "metadata": {
        "id": "083fde6b"
      },
      "outputs": [],
      "source": [
        "for x in diccionario_prueba.keys():\n",
        "    print(x)"
      ]
    },
    {
      "cell_type": "code",
      "execution_count": null,
      "id": "7e9c32df",
      "metadata": {
        "id": "7e9c32df"
      },
      "outputs": [],
      "source": [
        "for x in diccionario_prueba.values():\n",
        "    print(x)"
      ]
    },
    {
      "cell_type": "markdown",
      "id": "d6d5b480",
      "metadata": {
        "id": "d6d5b480"
      },
      "source": [
        "# Condicionales\n",
        "## If"
      ]
    },
    {
      "cell_type": "markdown",
      "id": "5cffd29f",
      "metadata": {
        "id": "5cffd29f"
      },
      "source": [
        "Vamos a usar un if sencillo"
      ]
    },
    {
      "cell_type": "code",
      "execution_count": null,
      "id": "0a108c9c",
      "metadata": {
        "id": "0a108c9c"
      },
      "outputs": [],
      "source": [
        "a = 3"
      ]
    },
    {
      "cell_type": "code",
      "execution_count": null,
      "id": "97aa0925",
      "metadata": {
        "id": "97aa0925"
      },
      "outputs": [],
      "source": [
        "if a == 3:\n",
        "    print (\"Hola!\")"
      ]
    },
    {
      "cell_type": "markdown",
      "id": "ee1d2cfb",
      "metadata": {
        "id": "ee1d2cfb"
      },
      "source": [
        "Ahora intentemos hacer un código donde se genere un valor aleatorio y con un condicional miramos si es menor o igual a 3 imprime \"Hola\", si es 4 o 5 imprime \"Chao\" y de lo contrario imprime \"Adios\".\\\n",
        "Usemos un valor aleatorio entre 1 y 10."
      ]
    },
    {
      "cell_type": "code",
      "execution_count": null,
      "id": "450564c8",
      "metadata": {
        "id": "450564c8"
      },
      "outputs": [],
      "source": [
        "random.randint(1, 10)"
      ]
    }
  ],
  "metadata": {
    "kernelspec": {
      "display_name": "Python 3 (ipykernel)",
      "language": "python",
      "name": "python3"
    },
    "language_info": {
      "codemirror_mode": {
        "name": "ipython",
        "version": 3
      },
      "file_extension": ".py",
      "mimetype": "text/x-python",
      "name": "python",
      "nbconvert_exporter": "python",
      "pygments_lexer": "ipython3",
      "version": "3.9.12"
    },
    "colab": {
      "provenance": [],
      "include_colab_link": true
    }
  },
  "nbformat": 4,
  "nbformat_minor": 5
}